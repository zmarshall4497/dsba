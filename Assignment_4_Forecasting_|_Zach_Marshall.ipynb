{
  "nbformat": 4,
  "nbformat_minor": 0,
  "metadata": {
    "colab": {
      "provenance": [],
      "authorship_tag": "ABX9TyO7qZrsnqDj/iTR+5U9Cs6u",
      "include_colab_link": true
    },
    "kernelspec": {
      "name": "python3",
      "display_name": "Python 3"
    },
    "language_info": {
      "name": "python"
    }
  },
  "cells": [
    {
      "cell_type": "markdown",
      "metadata": {
        "id": "view-in-github",
        "colab_type": "text"
      },
      "source": [
        "<a href=\"https://colab.research.google.com/github/zmarshall4497/dsba/blob/main/Assignment_4_Forecasting_%7C_Zach_Marshall.ipynb\" target=\"_parent\"><img src=\"https://colab.research.google.com/assets/colab-badge.svg\" alt=\"Open In Colab\"/></a>"
      ]
    },
    {
      "cell_type": "code",
      "execution_count": 1,
      "metadata": {
        "colab": {
          "base_uri": "https://localhost:8080/",
          "height": 73
        },
        "id": "INqwpxZNdUbC",
        "outputId": "d06c609f-a3d0-46b4-812c-d135af06fbdf"
      },
      "outputs": [
        {
          "output_type": "display_data",
          "data": {
            "text/plain": [
              "<IPython.core.display.HTML object>"
            ],
            "text/html": [
              "\n",
              "     <input type=\"file\" id=\"files-fecfb82f-5b03-4916-8312-10bd5116bc67\" name=\"files[]\" multiple disabled\n",
              "        style=\"border:none\" />\n",
              "     <output id=\"result-fecfb82f-5b03-4916-8312-10bd5116bc67\">\n",
              "      Upload widget is only available when the cell has been executed in the\n",
              "      current browser session. Please rerun this cell to enable.\n",
              "      </output>\n",
              "      <script>// Copyright 2017 Google LLC\n",
              "//\n",
              "// Licensed under the Apache License, Version 2.0 (the \"License\");\n",
              "// you may not use this file except in compliance with the License.\n",
              "// You may obtain a copy of the License at\n",
              "//\n",
              "//      http://www.apache.org/licenses/LICENSE-2.0\n",
              "//\n",
              "// Unless required by applicable law or agreed to in writing, software\n",
              "// distributed under the License is distributed on an \"AS IS\" BASIS,\n",
              "// WITHOUT WARRANTIES OR CONDITIONS OF ANY KIND, either express or implied.\n",
              "// See the License for the specific language governing permissions and\n",
              "// limitations under the License.\n",
              "\n",
              "/**\n",
              " * @fileoverview Helpers for google.colab Python module.\n",
              " */\n",
              "(function(scope) {\n",
              "function span(text, styleAttributes = {}) {\n",
              "  const element = document.createElement('span');\n",
              "  element.textContent = text;\n",
              "  for (const key of Object.keys(styleAttributes)) {\n",
              "    element.style[key] = styleAttributes[key];\n",
              "  }\n",
              "  return element;\n",
              "}\n",
              "\n",
              "// Max number of bytes which will be uploaded at a time.\n",
              "const MAX_PAYLOAD_SIZE = 100 * 1024;\n",
              "\n",
              "function _uploadFiles(inputId, outputId) {\n",
              "  const steps = uploadFilesStep(inputId, outputId);\n",
              "  const outputElement = document.getElementById(outputId);\n",
              "  // Cache steps on the outputElement to make it available for the next call\n",
              "  // to uploadFilesContinue from Python.\n",
              "  outputElement.steps = steps;\n",
              "\n",
              "  return _uploadFilesContinue(outputId);\n",
              "}\n",
              "\n",
              "// This is roughly an async generator (not supported in the browser yet),\n",
              "// where there are multiple asynchronous steps and the Python side is going\n",
              "// to poll for completion of each step.\n",
              "// This uses a Promise to block the python side on completion of each step,\n",
              "// then passes the result of the previous step as the input to the next step.\n",
              "function _uploadFilesContinue(outputId) {\n",
              "  const outputElement = document.getElementById(outputId);\n",
              "  const steps = outputElement.steps;\n",
              "\n",
              "  const next = steps.next(outputElement.lastPromiseValue);\n",
              "  return Promise.resolve(next.value.promise).then((value) => {\n",
              "    // Cache the last promise value to make it available to the next\n",
              "    // step of the generator.\n",
              "    outputElement.lastPromiseValue = value;\n",
              "    return next.value.response;\n",
              "  });\n",
              "}\n",
              "\n",
              "/**\n",
              " * Generator function which is called between each async step of the upload\n",
              " * process.\n",
              " * @param {string} inputId Element ID of the input file picker element.\n",
              " * @param {string} outputId Element ID of the output display.\n",
              " * @return {!Iterable<!Object>} Iterable of next steps.\n",
              " */\n",
              "function* uploadFilesStep(inputId, outputId) {\n",
              "  const inputElement = document.getElementById(inputId);\n",
              "  inputElement.disabled = false;\n",
              "\n",
              "  const outputElement = document.getElementById(outputId);\n",
              "  outputElement.innerHTML = '';\n",
              "\n",
              "  const pickedPromise = new Promise((resolve) => {\n",
              "    inputElement.addEventListener('change', (e) => {\n",
              "      resolve(e.target.files);\n",
              "    });\n",
              "  });\n",
              "\n",
              "  const cancel = document.createElement('button');\n",
              "  inputElement.parentElement.appendChild(cancel);\n",
              "  cancel.textContent = 'Cancel upload';\n",
              "  const cancelPromise = new Promise((resolve) => {\n",
              "    cancel.onclick = () => {\n",
              "      resolve(null);\n",
              "    };\n",
              "  });\n",
              "\n",
              "  // Wait for the user to pick the files.\n",
              "  const files = yield {\n",
              "    promise: Promise.race([pickedPromise, cancelPromise]),\n",
              "    response: {\n",
              "      action: 'starting',\n",
              "    }\n",
              "  };\n",
              "\n",
              "  cancel.remove();\n",
              "\n",
              "  // Disable the input element since further picks are not allowed.\n",
              "  inputElement.disabled = true;\n",
              "\n",
              "  if (!files) {\n",
              "    return {\n",
              "      response: {\n",
              "        action: 'complete',\n",
              "      }\n",
              "    };\n",
              "  }\n",
              "\n",
              "  for (const file of files) {\n",
              "    const li = document.createElement('li');\n",
              "    li.append(span(file.name, {fontWeight: 'bold'}));\n",
              "    li.append(span(\n",
              "        `(${file.type || 'n/a'}) - ${file.size} bytes, ` +\n",
              "        `last modified: ${\n",
              "            file.lastModifiedDate ? file.lastModifiedDate.toLocaleDateString() :\n",
              "                                    'n/a'} - `));\n",
              "    const percent = span('0% done');\n",
              "    li.appendChild(percent);\n",
              "\n",
              "    outputElement.appendChild(li);\n",
              "\n",
              "    const fileDataPromise = new Promise((resolve) => {\n",
              "      const reader = new FileReader();\n",
              "      reader.onload = (e) => {\n",
              "        resolve(e.target.result);\n",
              "      };\n",
              "      reader.readAsArrayBuffer(file);\n",
              "    });\n",
              "    // Wait for the data to be ready.\n",
              "    let fileData = yield {\n",
              "      promise: fileDataPromise,\n",
              "      response: {\n",
              "        action: 'continue',\n",
              "      }\n",
              "    };\n",
              "\n",
              "    // Use a chunked sending to avoid message size limits. See b/62115660.\n",
              "    let position = 0;\n",
              "    do {\n",
              "      const length = Math.min(fileData.byteLength - position, MAX_PAYLOAD_SIZE);\n",
              "      const chunk = new Uint8Array(fileData, position, length);\n",
              "      position += length;\n",
              "\n",
              "      const base64 = btoa(String.fromCharCode.apply(null, chunk));\n",
              "      yield {\n",
              "        response: {\n",
              "          action: 'append',\n",
              "          file: file.name,\n",
              "          data: base64,\n",
              "        },\n",
              "      };\n",
              "\n",
              "      let percentDone = fileData.byteLength === 0 ?\n",
              "          100 :\n",
              "          Math.round((position / fileData.byteLength) * 100);\n",
              "      percent.textContent = `${percentDone}% done`;\n",
              "\n",
              "    } while (position < fileData.byteLength);\n",
              "  }\n",
              "\n",
              "  // All done.\n",
              "  yield {\n",
              "    response: {\n",
              "      action: 'complete',\n",
              "    }\n",
              "  };\n",
              "}\n",
              "\n",
              "scope.google = scope.google || {};\n",
              "scope.google.colab = scope.google.colab || {};\n",
              "scope.google.colab._files = {\n",
              "  _uploadFiles,\n",
              "  _uploadFilesContinue,\n",
              "};\n",
              "})(self);\n",
              "</script> "
            ]
          },
          "metadata": {}
        },
        {
          "output_type": "stream",
          "name": "stdout",
          "text": [
            "Saving AustralianWines.csv to AustralianWines.csv\n"
          ]
        }
      ],
      "source": [
        "#import data set\n",
        "import pandas as pd\n",
        "from google.colab import files \n",
        "import io\n",
        "\n",
        "upload = files.upload()\n",
        "\n",
        "dfZM = pd.read_csv(io.BytesIO(upload['AustralianWines.csv']))"
      ]
    },
    {
      "cell_type": "code",
      "source": [
        "#data explore\n",
        "dfZM.info()\n",
        "dfZM.head()\n",
        "dfZM.isnull().sum()\n",
        "dfZM.info()"
      ],
      "metadata": {
        "colab": {
          "base_uri": "https://localhost:8080/"
        },
        "id": "Rn1r7M6Edm8D",
        "outputId": "6c8d8c91-33f7-4d1d-fd28-ef699dfb6ce9"
      },
      "execution_count": 7,
      "outputs": [
        {
          "output_type": "stream",
          "name": "stdout",
          "text": [
            "<class 'pandas.core.frame.DataFrame'>\n",
            "RangeIndex: 188 entries, 0 to 187\n",
            "Data columns (total 2 columns):\n",
            " #   Column  Non-Null Count  Dtype \n",
            "---  ------  --------------  ----- \n",
            " 0   Month   180 non-null    object\n",
            " 1   Red     181 non-null    object\n",
            "dtypes: object(2)\n",
            "memory usage: 3.1+ KB\n",
            "<class 'pandas.core.frame.DataFrame'>\n",
            "RangeIndex: 188 entries, 0 to 187\n",
            "Data columns (total 2 columns):\n",
            " #   Column  Non-Null Count  Dtype \n",
            "---  ------  --------------  ----- \n",
            " 0   Month   180 non-null    object\n",
            " 1   Red     181 non-null    object\n",
            "dtypes: object(2)\n",
            "memory usage: 3.1+ KB\n"
          ]
        }
      ]
    },
    {
      "cell_type": "code",
      "source": [
        "print(dfZM['Month'])"
      ],
      "metadata": {
        "colab": {
          "base_uri": "https://localhost:8080/"
        },
        "id": "n7XJlJx2p892",
        "outputId": "abd15f47-47a3-42a3-f9e0-8b76e18ba2ed"
      },
      "execution_count": 9,
      "outputs": [
        {
          "output_type": "stream",
          "name": "stdout",
          "text": [
            "0      Jan-80\n",
            "1      Feb-80\n",
            "2      Mar-80\n",
            "3      Apr-80\n",
            "4      May-80\n",
            "        ...  \n",
            "183       NaN\n",
            "184       NaN\n",
            "185       NaN\n",
            "186       NaN\n",
            "187       NaN\n",
            "Name: Month, Length: 188, dtype: object\n"
          ]
        }
      ]
    },
    {
      "cell_type": "code",
      "source": [
        "#drop NA\n",
        "dfZM = dfZM.dropna()"
      ],
      "metadata": {
        "id": "CfIp0geIqfal"
      },
      "execution_count": 10,
      "outputs": []
    },
    {
      "cell_type": "code",
      "source": [
        "dfZM.info()"
      ],
      "metadata": {
        "colab": {
          "base_uri": "https://localhost:8080/"
        },
        "id": "95-6WlP5q3GO",
        "outputId": "4aeedf8c-6465-48af-bd13-5433c8796a2e"
      },
      "execution_count": 11,
      "outputs": [
        {
          "output_type": "stream",
          "name": "stdout",
          "text": [
            "<class 'pandas.core.frame.DataFrame'>\n",
            "Int64Index: 180 entries, 0 to 179\n",
            "Data columns (total 2 columns):\n",
            " #   Column  Non-Null Count  Dtype \n",
            "---  ------  --------------  ----- \n",
            " 0   Month   180 non-null    object\n",
            " 1   Red     180 non-null    object\n",
            "dtypes: object(2)\n",
            "memory usage: 4.2+ KB\n"
          ]
        }
      ]
    },
    {
      "cell_type": "code",
      "source": [
        "dfZM.isnull().sum()"
      ],
      "metadata": {
        "colab": {
          "base_uri": "https://localhost:8080/"
        },
        "id": "mhWXeu6Dq4to",
        "outputId": "8ef8f72e-5112-459c-fceb-ca154877e772"
      },
      "execution_count": 12,
      "outputs": [
        {
          "output_type": "execute_result",
          "data": {
            "text/plain": [
              "Month    0\n",
              "Red      0\n",
              "dtype: int64"
            ]
          },
          "metadata": {},
          "execution_count": 12
        }
      ]
    },
    {
      "cell_type": "code",
      "source": [
        "#convert month to datetime format\n",
        "dfZM['Month'] = pd.to_datetime(dfZM['Month'], format= '%b-%y')\n",
        "dfZM.head()"
      ],
      "metadata": {
        "colab": {
          "base_uri": "https://localhost:8080/",
          "height": 206
        },
        "id": "Bc7xAxxjq7Jl",
        "outputId": "cf37ad35-8c1a-491f-a67d-e458aa7a5a65"
      },
      "execution_count": 14,
      "outputs": [
        {
          "output_type": "execute_result",
          "data": {
            "text/plain": [
              "       Month  Red \n",
              "0 1980-01-01   464\n",
              "1 1980-02-01   675\n",
              "2 1980-03-01   703\n",
              "3 1980-04-01   887\n",
              "4 1980-05-01  1139"
            ],
            "text/html": [
              "\n",
              "  <div id=\"df-a917a5f2-2deb-412b-a573-5852ddb6073e\">\n",
              "    <div class=\"colab-df-container\">\n",
              "      <div>\n",
              "<style scoped>\n",
              "    .dataframe tbody tr th:only-of-type {\n",
              "        vertical-align: middle;\n",
              "    }\n",
              "\n",
              "    .dataframe tbody tr th {\n",
              "        vertical-align: top;\n",
              "    }\n",
              "\n",
              "    .dataframe thead th {\n",
              "        text-align: right;\n",
              "    }\n",
              "</style>\n",
              "<table border=\"1\" class=\"dataframe\">\n",
              "  <thead>\n",
              "    <tr style=\"text-align: right;\">\n",
              "      <th></th>\n",
              "      <th>Month</th>\n",
              "      <th>Red</th>\n",
              "    </tr>\n",
              "  </thead>\n",
              "  <tbody>\n",
              "    <tr>\n",
              "      <th>0</th>\n",
              "      <td>1980-01-01</td>\n",
              "      <td>464</td>\n",
              "    </tr>\n",
              "    <tr>\n",
              "      <th>1</th>\n",
              "      <td>1980-02-01</td>\n",
              "      <td>675</td>\n",
              "    </tr>\n",
              "    <tr>\n",
              "      <th>2</th>\n",
              "      <td>1980-03-01</td>\n",
              "      <td>703</td>\n",
              "    </tr>\n",
              "    <tr>\n",
              "      <th>3</th>\n",
              "      <td>1980-04-01</td>\n",
              "      <td>887</td>\n",
              "    </tr>\n",
              "    <tr>\n",
              "      <th>4</th>\n",
              "      <td>1980-05-01</td>\n",
              "      <td>1139</td>\n",
              "    </tr>\n",
              "  </tbody>\n",
              "</table>\n",
              "</div>\n",
              "      <button class=\"colab-df-convert\" onclick=\"convertToInteractive('df-a917a5f2-2deb-412b-a573-5852ddb6073e')\"\n",
              "              title=\"Convert this dataframe to an interactive table.\"\n",
              "              style=\"display:none;\">\n",
              "        \n",
              "  <svg xmlns=\"http://www.w3.org/2000/svg\" height=\"24px\"viewBox=\"0 0 24 24\"\n",
              "       width=\"24px\">\n",
              "    <path d=\"M0 0h24v24H0V0z\" fill=\"none\"/>\n",
              "    <path d=\"M18.56 5.44l.94 2.06.94-2.06 2.06-.94-2.06-.94-.94-2.06-.94 2.06-2.06.94zm-11 1L8.5 8.5l.94-2.06 2.06-.94-2.06-.94L8.5 2.5l-.94 2.06-2.06.94zm10 10l.94 2.06.94-2.06 2.06-.94-2.06-.94-.94-2.06-.94 2.06-2.06.94z\"/><path d=\"M17.41 7.96l-1.37-1.37c-.4-.4-.92-.59-1.43-.59-.52 0-1.04.2-1.43.59L10.3 9.45l-7.72 7.72c-.78.78-.78 2.05 0 2.83L4 21.41c.39.39.9.59 1.41.59.51 0 1.02-.2 1.41-.59l7.78-7.78 2.81-2.81c.8-.78.8-2.07 0-2.86zM5.41 20L4 18.59l7.72-7.72 1.47 1.35L5.41 20z\"/>\n",
              "  </svg>\n",
              "      </button>\n",
              "      \n",
              "  <style>\n",
              "    .colab-df-container {\n",
              "      display:flex;\n",
              "      flex-wrap:wrap;\n",
              "      gap: 12px;\n",
              "    }\n",
              "\n",
              "    .colab-df-convert {\n",
              "      background-color: #E8F0FE;\n",
              "      border: none;\n",
              "      border-radius: 50%;\n",
              "      cursor: pointer;\n",
              "      display: none;\n",
              "      fill: #1967D2;\n",
              "      height: 32px;\n",
              "      padding: 0 0 0 0;\n",
              "      width: 32px;\n",
              "    }\n",
              "\n",
              "    .colab-df-convert:hover {\n",
              "      background-color: #E2EBFA;\n",
              "      box-shadow: 0px 1px 2px rgba(60, 64, 67, 0.3), 0px 1px 3px 1px rgba(60, 64, 67, 0.15);\n",
              "      fill: #174EA6;\n",
              "    }\n",
              "\n",
              "    [theme=dark] .colab-df-convert {\n",
              "      background-color: #3B4455;\n",
              "      fill: #D2E3FC;\n",
              "    }\n",
              "\n",
              "    [theme=dark] .colab-df-convert:hover {\n",
              "      background-color: #434B5C;\n",
              "      box-shadow: 0px 1px 3px 1px rgba(0, 0, 0, 0.15);\n",
              "      filter: drop-shadow(0px 1px 2px rgba(0, 0, 0, 0.3));\n",
              "      fill: #FFFFFF;\n",
              "    }\n",
              "  </style>\n",
              "\n",
              "      <script>\n",
              "        const buttonEl =\n",
              "          document.querySelector('#df-a917a5f2-2deb-412b-a573-5852ddb6073e button.colab-df-convert');\n",
              "        buttonEl.style.display =\n",
              "          google.colab.kernel.accessAllowed ? 'block' : 'none';\n",
              "\n",
              "        async function convertToInteractive(key) {\n",
              "          const element = document.querySelector('#df-a917a5f2-2deb-412b-a573-5852ddb6073e');\n",
              "          const dataTable =\n",
              "            await google.colab.kernel.invokeFunction('convertToInteractive',\n",
              "                                                     [key], {});\n",
              "          if (!dataTable) return;\n",
              "\n",
              "          const docLinkHtml = 'Like what you see? Visit the ' +\n",
              "            '<a target=\"_blank\" href=https://colab.research.google.com/notebooks/data_table.ipynb>data table notebook</a>'\n",
              "            + ' to learn more about interactive tables.';\n",
              "          element.innerHTML = '';\n",
              "          dataTable['output_type'] = 'display_data';\n",
              "          await google.colab.output.renderOutput(dataTable, element);\n",
              "          const docLink = document.createElement('div');\n",
              "          docLink.innerHTML = docLinkHtml;\n",
              "          element.appendChild(docLink);\n",
              "        }\n",
              "      </script>\n",
              "    </div>\n",
              "  </div>\n",
              "  "
            ]
          },
          "metadata": {},
          "execution_count": 14
        }
      ]
    },
    {
      "cell_type": "markdown",
      "source": [
        "Please use the last two years of data as the validation dataset"
      ],
      "metadata": {
        "id": "yxwj7UlYxvRp"
      }
    },
    {
      "cell_type": "code",
      "source": [
        "#creating validation dataset and train set  \n",
        "trainZM = dfZM.iloc[:-24]\n",
        "testZM = dfZM.iloc[-24:]\n"
      ],
      "metadata": {
        "id": "uSghclWVrgq1"
      },
      "execution_count": 16,
      "outputs": []
    },
    {
      "cell_type": "code",
      "source": [
        "print(dfZM.columns)"
      ],
      "metadata": {
        "colab": {
          "base_uri": "https://localhost:8080/"
        },
        "id": "LrrrSlAqtnmx",
        "outputId": "6df6a05a-2b52-4656-ec5e-7e2710eacfec"
      },
      "execution_count": 21,
      "outputs": [
        {
          "output_type": "stream",
          "name": "stdout",
          "text": [
            "Index(['Month', 'Red '], dtype='object')\n"
          ]
        }
      ]
    },
    {
      "cell_type": "markdown",
      "source": [
        "Please show the plot of the entire dataset."
      ],
      "metadata": {
        "id": "SRWHZSj-xqAC"
      }
    },
    {
      "cell_type": "code",
      "source": [
        "#plotting entire dataset\n",
        "import matplotlib.pyplot as plt\n",
        "from statsmodels.tsa.api import ExponentialSmoothing, SimpleExpSmoothing, Holt\n",
        "\n",
        "plt.plot(dfZM.Month, dfZM['Red '])\n",
        "plt.title('Red Wine Sales')\n",
        "plt.xlabel('Month')\n",
        "plt.ylabel('Sales')\n",
        "plt.show()"
      ],
      "metadata": {
        "colab": {
          "base_uri": "https://localhost:8080/",
          "height": 472
        },
        "id": "v2fiTNvKsJDu",
        "outputId": "41761f5b-d265-4bdb-ba15-a7219e537eaf"
      },
      "execution_count": 23,
      "outputs": [
        {
          "output_type": "display_data",
          "data": {
            "text/plain": [
              "<Figure size 640x480 with 1 Axes>"
            ],
            "image/png": "[encoded data removed]"
          },
          "metadata": {}
        }
      ]
    },
    {
      "cell_type": "code",
      "source": [
        "dfZM['Red '].isnull().sum()"
      ],
      "metadata": {
        "colab": {
          "base_uri": "https://localhost:8080/"
        },
        "id": "f3TAfMz9usNM",
        "outputId": "72c450f8-3782-4962-ffec-a32056cef4e9"
      },
      "execution_count": 30,
      "outputs": [
        {
          "output_type": "execute_result",
          "data": {
            "text/plain": [
              "0"
            ]
          },
          "metadata": {},
          "execution_count": 30
        }
      ]
    },
    {
      "cell_type": "markdown",
      "source": [
        "Please run different forecasting models and compare their model performance."
      ],
      "metadata": {
        "id": "BO4DygNDxlXf"
      }
    },
    {
      "cell_type": "code",
      "source": [
        "# linear trend model\n",
        "linear_model = Holt(trainZM['Red ']).fit()\n",
        "linear_predictions = linear_model.forecast(len(testZM))"
      ],
      "metadata": {
        "id": "UtiHBJywvozc"
      },
      "execution_count": 31,
      "outputs": []
    },
    {
      "cell_type": "code",
      "source": [
        "# seasonality model\n",
        "seasonal_model = ExponentialSmoothing(trainZM['Red '], seasonal='add', seasonal_periods=12).fit()\n",
        "seasonal_predictions = seasonal_model.forecast(len(testZM))"
      ],
      "metadata": {
        "id": "TanG3NwAvvUj"
      },
      "execution_count": 32,
      "outputs": []
    },
    {
      "cell_type": "code",
      "source": [
        "# linear trend and seasonality model\n",
        "linear_seasonal_model = ExponentialSmoothing(trainZM['Red '], trend='add', seasonal='add', seasonal_periods=12).fit()\n",
        "linear_seasonal_predictions = linear_seasonal_model.forecast(len(testZM))"
      ],
      "metadata": {
        "id": "qWY5goZYvx3r"
      },
      "execution_count": 33,
      "outputs": []
    },
    {
      "cell_type": "code",
      "source": [
        "# simple exponential smoothing model\n",
        "simple_exp_model = SimpleExpSmoothing(trainZM['Red ']).fit()\n",
        "simple_exp_predictions = simple_exp_model.forecast(len(testZM))"
      ],
      "metadata": {
        "id": "bzM2dwT8v1Uz"
      },
      "execution_count": 34,
      "outputs": []
    },
    {
      "cell_type": "code",
      "source": [
        "#compare model performances\n",
        "\n",
        "#MAE\n",
        "from sklearn.metrics import mean_absolute_error\n",
        "\n",
        "linear_mae = mean_absolute_error(testZM['Red '], linear_predictions)\n",
        "seasonal_mae = mean_absolute_error(testZM['Red '], seasonal_predictions)\n",
        "linear_seasonal_mae = mean_absolute_error(testZM['Red '], linear_seasonal_predictions)\n",
        "simple_exp_mae = mean_absolute_error(testZM['Red '], simple_exp_predictions)\n",
        "\n",
        "print(\"Linear MAE:\", linear_mae)\n",
        "print(\"Seasonal MAE:\", seasonal_mae)\n",
        "print(\"Linear Seasonal MAE:\", linear_seasonal_mae)\n",
        "print(\"Simple Exp MAE:\", simple_exp_mae)"
      ],
      "metadata": {
        "colab": {
          "base_uri": "https://localhost:8080/"
        },
        "id": "1CWsMYDfv5Gb",
        "outputId": "b4c8bc27-c3ba-4754-ef19-22796c5ee03c"
      },
      "execution_count": 36,
      "outputs": [
        {
          "output_type": "stream",
          "name": "stdout",
          "text": [
            "Linear MAE: 697.584050028252\n",
            "Seasonal MAE: 267.694575877772\n",
            "Linear Seasonal MAE: 212.79711221926922\n",
            "Simple Exp MAE: 506.65132413013725\n"
          ]
        }
      ]
    },
    {
      "cell_type": "markdown",
      "source": [
        "Based off the MAE Results, the Linear Seasonal Model has the lowest MAE of 212.797 which is the best performance amongst the models."
      ],
      "metadata": {
        "id": "ucn6vogBxWFw"
      }
    },
    {
      "cell_type": "code",
      "source": [
        "#MSE\n",
        "from sklearn.metrics import mean_squared_error\n",
        "\n",
        "linear_mse = mean_squared_error(testZM['Red '], linear_predictions)\n",
        "seasonal_mse = mean_squared_error(testZM['Red '], seasonal_predictions)\n",
        "linear_seasonal_mse = mean_squared_error(testZM['Red '], linear_seasonal_predictions)\n",
        "simple_exp_mse = mean_squared_error(testZM['Red '], simple_exp_predictions)\n",
        "\n",
        "print(\"Linear Trend MSE:\", linear_mse)\n",
        "print(\"Seasonality MSE:\", seasonal_mse)\n",
        "print(\"Linear Trend and Seasonality MSE:\", linear_seasonal_mse)\n",
        "print(\"Simple Exponential Smoothing MSE:\", simple_exp_mse)"
      ],
      "metadata": {
        "colab": {
          "base_uri": "https://localhost:8080/"
        },
        "id": "peUH3G0AwXYr",
        "outputId": "9b1060b8-1b9c-4d1b-8d2a-a460b3a43d9a"
      },
      "execution_count": 37,
      "outputs": [
        {
          "output_type": "stream",
          "name": "stdout",
          "text": [
            "Linear Trend MSE: 658830.1039522247\n",
            "Seasonality MSE: 118449.97158223204\n",
            "Linear Trend and Seasonality MSE: 91002.75036945741\n",
            "Simple Exponential Smoothing MSE: 474009.1451426098\n"
          ]
        }
      ]
    },
    {
      "cell_type": "markdown",
      "source": [
        "Based off the MSE Results, the Linear Trend and Seasonality Model has the lowest MSE of 91002.750, which means it has the best performance amongst the four models."
      ],
      "metadata": {
        "id": "cOso9Dm-xc7X"
      }
    },
    {
      "cell_type": "markdown",
      "source": [
        "Please provide results for each model estimation."
      ],
      "metadata": {
        "id": "PJFWrX4eyDNN"
      }
    },
    {
      "cell_type": "code",
      "source": [
        "# linear trend model\n",
        "linear_model = Holt(trainZM['Red ']).fit()\n",
        "print(linear_model.summary())\n",
        "\n",
        "linear_predictions = linear_model.forecast(len(testZM))\n",
        "\n",
        "# seasonality model\n",
        "seasonal_model = ExponentialSmoothing(trainZM['Red '], seasonal='add', seasonal_periods=12).fit()\n",
        "print(seasonal_model.summary())\n",
        "\n",
        "seasonal_predictions = seasonal_model.forecast(len(testZM))\n",
        "\n",
        "# linear trend and seasonality model\n",
        "linear_seasonal_model = ExponentialSmoothing(trainZM['Red '], trend='add', seasonal='add', seasonal_periods=12).fit()\n",
        "print(linear_seasonal_model.summary())\n",
        "\n",
        "linear_seasonal_predictions = linear_seasonal_model.forecast(len(testZM))\n",
        "\n",
        "# simple exponential smoothing model\n",
        "simple_exp_model = SimpleExpSmoothing(trainZM['Red ']).fit()\n",
        "print(simple_exp_model.summary())\n",
        "\n",
        "simple_exp_predictions = simple_exp_model.forecast(len(testZM))\n"
      ],
      "metadata": {
        "colab": {
          "base_uri": "https://localhost:8080/"
        },
        "id": "LXYoIJN8wuLj",
        "outputId": "d732eccc-f0bd-46c3-f10e-db5fee8f0b79"
      },
      "execution_count": 38,
      "outputs": [
        {
          "output_type": "stream",
          "name": "stdout",
          "text": [
            "                              Holt Model Results                              \n",
            "==============================================================================\n",
            "Dep. Variable:                   Red    No. Observations:                  156\n",
            "Model:                           Holt   SSE                       21659876.697\n",
            "Optimized:                       True   AIC                           1855.214\n",
            "Trend:                       Additive   BIC                           1867.414\n",
            "Seasonal:                        None   AICC                          1855.778\n",
            "Seasonal Periods:                None   Date:                 Mon, 24 Apr 2023\n",
            "Box-Cox:                        False   Time:                         19:40:19\n",
            "Box-Cox Coeff.:                  None                                         \n",
            "==============================================================================\n",
            "                       coeff                 code              optimized      \n",
            "------------------------------------------------------------------------------\n",
            "smoothing_level            0.6673334                alpha                 True\n",
            "smoothing_trend            0.0326385                 beta                 True\n",
            "initial_level              468.67378                  l.0                 True\n",
            "initial_trend              23.736979                  b.0                 True\n",
            "------------------------------------------------------------------------------\n",
            "                       ExponentialSmoothing Model Results                       \n",
            "================================================================================\n",
            "Dep. Variable:                     Red    No. Observations:                  156\n",
            "Model:             ExponentialSmoothing   SSE                        5155420.997\n",
            "Optimized:                         True   AIC                           1651.290\n",
            "Trend:                             None   BIC                           1693.988\n",
            "Seasonal:                      Additive   AICC                          1655.203\n",
            "Seasonal Periods:                    12   Date:                 Mon, 24 Apr 2023\n",
            "Box-Cox:                          False   Time:                         19:40:19\n",
            "Box-Cox Coeff.:                    None                                         \n",
            "=================================================================================\n",
            "                          coeff                 code              optimized      \n",
            "---------------------------------------------------------------------------------\n",
            "smoothing_level               0.1964913                alpha                 True\n",
            "smoothing_seasonal            0.3196096                gamma                 True\n",
            "initial_level                 964.60144                  l.0                 True\n",
            "initial_seasons.0            -531.31099                  s.0                 True\n",
            "initial_seasons.1            -299.86765                  s.1                 True\n",
            "initial_seasons.2            -216.41218                  s.2                 True\n",
            "initial_seasons.3            -51.449684                  s.3                 True\n",
            "initial_seasons.4             154.59426                  s.4                 True\n",
            "initial_seasons.5             162.92791                  s.5                 True\n",
            "initial_seasons.6             424.19483                  s.6                 True\n",
            "initial_seasons.7             435.15873                  s.7                 True\n",
            "initial_seasons.8             54.804535                  s.8                 True\n",
            "initial_seasons.9            -84.620458                  s.9                 True\n",
            "initial_seasons.10           -28.270670                 s.10                 True\n",
            "initial_seasons.11           -4.8473577                 s.11                 True\n",
            "---------------------------------------------------------------------------------\n",
            "                       ExponentialSmoothing Model Results                       \n",
            "================================================================================\n",
            "Dep. Variable:                     Red    No. Observations:                  156\n",
            "Model:             ExponentialSmoothing   SSE                        4956599.108\n",
            "Optimized:                         True   AIC                           1649.154\n",
            "Trend:                         Additive   BIC                           1697.952\n",
            "Seasonal:                      Additive   AICC                          1654.147\n",
            "Seasonal Periods:                    12   Date:                 Mon, 24 Apr 2023\n",
            "Box-Cox:                          False   Time:                         19:40:20\n",
            "Box-Cox Coeff.:                    None                                         \n",
            "=================================================================================\n",
            "                          coeff                 code              optimized      \n",
            "---------------------------------------------------------------------------------\n",
            "smoothing_level               0.1463778                alpha                 True\n",
            "smoothing_trend               0.0133025                 beta                 True\n",
            "smoothing_seasonal            0.3282024                gamma                 True\n",
            "initial_level                 951.83321                  l.0                 True\n",
            "initial_trend                 7.4765440                  b.0                 True\n",
            "initial_seasons.0            -471.39720                  s.0                 True\n",
            "initial_seasons.1            -315.72867                  s.1                 True\n",
            "initial_seasons.2            -213.07504                  s.2                 True\n",
            "initial_seasons.3            -66.866803                  s.3                 True\n",
            "initial_seasons.4             132.18914                  s.4                 True\n",
            "initial_seasons.5             148.57938                  s.5                 True\n",
            "initial_seasons.6             415.32970                  s.6                 True\n",
            "initial_seasons.7             417.28280                  s.7                 True\n",
            "initial_seasons.8             67.575875                  s.8                 True\n",
            "initial_seasons.9            -97.161767                  s.9                 True\n",
            "initial_seasons.10           -16.737123                 s.10                 True\n",
            "initial_seasons.11           -0.0569377                 s.11                 True\n",
            "---------------------------------------------------------------------------------\n",
            "                       SimpleExpSmoothing Model Results                       \n",
            "==============================================================================\n",
            "Dep. Variable:                   Red    No. Observations:                  156\n",
            "Model:             SimpleExpSmoothing   SSE                       21046864.352\n",
            "Optimized:                       True   AIC                           1846.735\n",
            "Trend:                           None   BIC                           1852.835\n",
            "Seasonal:                        None   AICC                          1847.000\n",
            "Seasonal Periods:                None   Date:                 Mon, 24 Apr 2023\n",
            "Box-Cox:                        False   Time:                         19:40:20\n",
            "Box-Cox Coeff.:                  None                                         \n",
            "==============================================================================\n",
            "                       coeff                 code              optimized      \n",
            "------------------------------------------------------------------------------\n",
            "smoothing_level            0.6492907                alpha                 True\n",
            "initial_level              553.22131                  l.0                 True\n",
            "------------------------------------------------------------------------------\n"
          ]
        }
      ]
    },
    {
      "cell_type": "code",
      "source": [],
      "metadata": {
        "id": "dt5dGrj0yHxh"
      },
      "execution_count": null,
      "outputs": []
    }
  ]
}