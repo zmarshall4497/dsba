{
  "nbformat": 4,
  "nbformat_minor": 0,
  "metadata": {
    "colab": {
      "provenance": [],
      "authorship_tag": "ABX9TyPAvgnavagjQGbF/Vhc81ZB",
      "include_colab_link": true
    },
    "kernelspec": {
      "name": "python3",
      "display_name": "Python 3"
    },
    "language_info": {
      "name": "python"
    }
  },
  "cells": [
    {
      "cell_type": "markdown",
      "metadata": {
        "id": "view-in-github",
        "colab_type": "text"
      },
      "source": [
        "<a href=\"https://colab.research.google.com/github/zmarshall4497/dsba/blob/main/Assignment_2_Adv_Predictive_Modeling%20v2.ipynb\" target=\"_parent\"><img src=\"https://colab.research.google.com/assets/colab-badge.svg\" alt=\"Open In Colab\"/></a>"
      ]
    },
    {
      "cell_type": "code",
      "execution_count": 1,
      "metadata": {
        "colab": {
          "base_uri": "https://localhost:8080/",
          "height": 73
        },
        "id": "ANtzHLHt0o0i",
        "outputId": "78651541-bada-4264-a09e-4eca4ada099b"
      },
      "outputs": [
        {
          "output_type": "display_data",
          "data": {
            "text/plain": [
              "<IPython.core.display.HTML object>"
            ],
            "text/html": [
              "\n",
              "     <input type=\"file\" id=\"files-7aa05c30-a720-477c-b37a-870a860a60c6\" name=\"files[]\" multiple disabled\n",
              "        style=\"border:none\" />\n",
              "     <output id=\"result-7aa05c30-a720-477c-b37a-870a860a60c6\">\n",
              "      Upload widget is only available when the cell has been executed in the\n",
              "      current browser session. Please rerun this cell to enable.\n",
              "      </output>\n",
              "      <script>// Copyright 2017 Google LLC\n",
              "//\n",
              "// Licensed under the Apache License, Version 2.0 (the \"License\");\n",
              "// you may not use this file except in compliance with the License.\n",
              "// You may obtain a copy of the License at\n",
              "//\n",
              "//      http://www.apache.org/licenses/LICENSE-2.0\n",
              "//\n",
              "// Unless required by applicable law or agreed to in writing, software\n",
              "// distributed under the License is distributed on an \"AS IS\" BASIS,\n",
              "// WITHOUT WARRANTIES OR CONDITIONS OF ANY KIND, either express or implied.\n",
              "// See the License for the specific language governing permissions and\n",
              "// limitations under the License.\n",
              "\n",
              "/**\n",
              " * @fileoverview Helpers for google.colab Python module.\n",
              " */\n",
              "(function(scope) {\n",
              "function span(text, styleAttributes = {}) {\n",
              "  const element = document.createElement('span');\n",
              "  element.textContent = text;\n",
              "  for (const key of Object.keys(styleAttributes)) {\n",
              "    element.style[key] = styleAttributes[key];\n",
              "  }\n",
              "  return element;\n",
              "}\n",
              "\n",
              "// Max number of bytes which will be uploaded at a time.\n",
              "const MAX_PAYLOAD_SIZE = 100 * 1024;\n",
              "\n",
              "function _uploadFiles(inputId, outputId) {\n",
              "  const steps = uploadFilesStep(inputId, outputId);\n",
              "  const outputElement = document.getElementById(outputId);\n",
              "  // Cache steps on the outputElement to make it available for the next call\n",
              "  // to uploadFilesContinue from Python.\n",
              "  outputElement.steps = steps;\n",
              "\n",
              "  return _uploadFilesContinue(outputId);\n",
              "}\n",
              "\n",
              "// This is roughly an async generator (not supported in the browser yet),\n",
              "// where there are multiple asynchronous steps and the Python side is going\n",
              "// to poll for completion of each step.\n",
              "// This uses a Promise to block the python side on completion of each step,\n",
              "// then passes the result of the previous step as the input to the next step.\n",
              "function _uploadFilesContinue(outputId) {\n",
              "  const outputElement = document.getElementById(outputId);\n",
              "  const steps = outputElement.steps;\n",
              "\n",
              "  const next = steps.next(outputElement.lastPromiseValue);\n",
              "  return Promise.resolve(next.value.promise).then((value) => {\n",
              "    // Cache the last promise value to make it available to the next\n",
              "    // step of the generator.\n",
              "    outputElement.lastPromiseValue = value;\n",
              "    return next.value.response;\n",
              "  });\n",
              "}\n",
              "\n",
              "/**\n",
              " * Generator function which is called between each async step of the upload\n",
              " * process.\n",
              " * @param {string} inputId Element ID of the input file picker element.\n",
              " * @param {string} outputId Element ID of the output display.\n",
              " * @return {!Iterable<!Object>} Iterable of next steps.\n",
              " */\n",
              "function* uploadFilesStep(inputId, outputId) {\n",
              "  const inputElement = document.getElementById(inputId);\n",
              "  inputElement.disabled = false;\n",
              "\n",
              "  const outputElement = document.getElementById(outputId);\n",
              "  outputElement.innerHTML = '';\n",
              "\n",
              "  const pickedPromise = new Promise((resolve) => {\n",
              "    inputElement.addEventListener('change', (e) => {\n",
              "      resolve(e.target.files);\n",
              "    });\n",
              "  });\n",
              "\n",
              "  const cancel = document.createElement('button');\n",
              "  inputElement.parentElement.appendChild(cancel);\n",
              "  cancel.textContent = 'Cancel upload';\n",
              "  const cancelPromise = new Promise((resolve) => {\n",
              "    cancel.onclick = () => {\n",
              "      resolve(null);\n",
              "    };\n",
              "  });\n",
              "\n",
              "  // Wait for the user to pick the files.\n",
              "  const files = yield {\n",
              "    promise: Promise.race([pickedPromise, cancelPromise]),\n",
              "    response: {\n",
              "      action: 'starting',\n",
              "    }\n",
              "  };\n",
              "\n",
              "  cancel.remove();\n",
              "\n",
              "  // Disable the input element since further picks are not allowed.\n",
              "  inputElement.disabled = true;\n",
              "\n",
              "  if (!files) {\n",
              "    return {\n",
              "      response: {\n",
              "        action: 'complete',\n",
              "      }\n",
              "    };\n",
              "  }\n",
              "\n",
              "  for (const file of files) {\n",
              "    const li = document.createElement('li');\n",
              "    li.append(span(file.name, {fontWeight: 'bold'}));\n",
              "    li.append(span(\n",
              "        `(${file.type || 'n/a'}) - ${file.size} bytes, ` +\n",
              "        `last modified: ${\n",
              "            file.lastModifiedDate ? file.lastModifiedDate.toLocaleDateString() :\n",
              "                                    'n/a'} - `));\n",
              "    const percent = span('0% done');\n",
              "    li.appendChild(percent);\n",
              "\n",
              "    outputElement.appendChild(li);\n",
              "\n",
              "    const fileDataPromise = new Promise((resolve) => {\n",
              "      const reader = new FileReader();\n",
              "      reader.onload = (e) => {\n",
              "        resolve(e.target.result);\n",
              "      };\n",
              "      reader.readAsArrayBuffer(file);\n",
              "    });\n",
              "    // Wait for the data to be ready.\n",
              "    let fileData = yield {\n",
              "      promise: fileDataPromise,\n",
              "      response: {\n",
              "        action: 'continue',\n",
              "      }\n",
              "    };\n",
              "\n",
              "    // Use a chunked sending to avoid message size limits. See b/62115660.\n",
              "    let position = 0;\n",
              "    do {\n",
              "      const length = Math.min(fileData.byteLength - position, MAX_PAYLOAD_SIZE);\n",
              "      const chunk = new Uint8Array(fileData, position, length);\n",
              "      position += length;\n",
              "\n",
              "      const base64 = btoa(String.fromCharCode.apply(null, chunk));\n",
              "      yield {\n",
              "        response: {\n",
              "          action: 'append',\n",
              "          file: file.name,\n",
              "          data: base64,\n",
              "        },\n",
              "      };\n",
              "\n",
              "      let percentDone = fileData.byteLength === 0 ?\n",
              "          100 :\n",
              "          Math.round((position / fileData.byteLength) * 100);\n",
              "      percent.textContent = `${percentDone}% done`;\n",
              "\n",
              "    } while (position < fileData.byteLength);\n",
              "  }\n",
              "\n",
              "  // All done.\n",
              "  yield {\n",
              "    response: {\n",
              "      action: 'complete',\n",
              "    }\n",
              "  };\n",
              "}\n",
              "\n",
              "scope.google = scope.google || {};\n",
              "scope.google.colab = scope.google.colab || {};\n",
              "scope.google.colab._files = {\n",
              "  _uploadFiles,\n",
              "  _uploadFilesContinue,\n",
              "};\n",
              "})(self);\n",
              "</script> "
            ]
          },
          "metadata": {}
        },
        {
          "output_type": "stream",
          "name": "stdout",
          "text": [
            "Saving BostonHousing.csv to BostonHousing.csv\n"
          ]
        }
      ],
      "source": [
        "#import data set\n",
        "import pandas as pd\n",
        "from google.colab import files \n",
        "import io\n",
        "\n",
        "upload = files.upload()\n",
        "\n",
        "dfZM = pd.read_csv(io.BytesIO(upload['BostonHousing.csv']))\n"
      ]
    },
    {
      "cell_type": "code",
      "source": [
        "dfZM.info()"
      ],
      "metadata": {
        "colab": {
          "base_uri": "https://localhost:8080/"
        },
        "id": "heOTUXzfP8aB",
        "outputId": "742d6a21-90d4-4f9c-8428-994b2120d375"
      },
      "execution_count": 2,
      "outputs": [
        {
          "output_type": "stream",
          "name": "stdout",
          "text": [
            "<class 'pandas.core.frame.DataFrame'>\n",
            "RangeIndex: 506 entries, 0 to 505\n",
            "Data columns (total 14 columns):\n",
            " #   Column     Non-Null Count  Dtype  \n",
            "---  ------     --------------  -----  \n",
            " 0   CRIM       506 non-null    float64\n",
            " 1   ZN         506 non-null    float64\n",
            " 2   INDUS      506 non-null    float64\n",
            " 3   CHAS       506 non-null    int64  \n",
            " 4   NOX        506 non-null    float64\n",
            " 5   RM         506 non-null    float64\n",
            " 6   AGE        506 non-null    float64\n",
            " 7   DIS        506 non-null    float64\n",
            " 8   RAD        506 non-null    int64  \n",
            " 9   TAX        506 non-null    int64  \n",
            " 10  PTRATIO    506 non-null    float64\n",
            " 11  LSTAT      506 non-null    float64\n",
            " 12  MEDV       506 non-null    float64\n",
            " 13  CAT. MEDV  506 non-null    int64  \n",
            "dtypes: float64(10), int64(4)\n",
            "memory usage: 55.5 KB\n"
          ]
        }
      ]
    },
    {
      "cell_type": "code",
      "source": [
        "dfZM.describe(include='all')"
      ],
      "metadata": {
        "colab": {
          "base_uri": "https://localhost:8080/",
          "height": 300
        },
        "id": "RCeUZDW1P9tC",
        "outputId": "dba8f8e5-a985-42bb-e5fd-4622f4bd2bf2"
      },
      "execution_count": 3,
      "outputs": [
        {
          "output_type": "execute_result",
          "data": {
            "text/plain": [
              "             CRIM          ZN       INDUS        CHAS         NOX          RM  \\\n",
              "count  506.000000  506.000000  506.000000  506.000000  506.000000  506.000000   \n",
              "mean     3.613524   11.363636   11.136779    0.069170    0.554695    6.284634   \n",
              "std      8.601545   23.322453    6.860353    0.253994    0.115878    0.702617   \n",
              "min      0.006320    0.000000    0.460000    0.000000    0.385000    3.561000   \n",
              "25%      0.082045    0.000000    5.190000    0.000000    0.449000    5.885500   \n",
              "50%      0.256510    0.000000    9.690000    0.000000    0.538000    6.208500   \n",
              "75%      3.677083   12.500000   18.100000    0.000000    0.624000    6.623500   \n",
              "max     88.976200  100.000000   27.740000    1.000000    0.871000    8.780000   \n",
              "\n",
              "              AGE         DIS         RAD         TAX     PTRATIO       LSTAT  \\\n",
              "count  506.000000  506.000000  506.000000  506.000000  506.000000  506.000000   \n",
              "mean    68.574901    3.795043    9.549407  408.237154   18.455534   12.653063   \n",
              "std     28.148861    2.105710    8.707259  168.537116    2.164946    7.141062   \n",
              "min      2.900000    1.129600    1.000000  187.000000   12.600000    1.730000   \n",
              "25%     45.025000    2.100175    4.000000  279.000000   17.400000    6.950000   \n",
              "50%     77.500000    3.207450    5.000000  330.000000   19.050000   11.360000   \n",
              "75%     94.075000    5.188425   24.000000  666.000000   20.200000   16.955000   \n",
              "max    100.000000   12.126500   24.000000  711.000000   22.000000   37.970000   \n",
              "\n",
              "             MEDV   CAT. MEDV  \n",
              "count  506.000000  506.000000  \n",
              "mean    22.532806    0.166008  \n",
              "std      9.197104    0.372456  \n",
              "min      5.000000    0.000000  \n",
              "25%     17.025000    0.000000  \n",
              "50%     21.200000    0.000000  \n",
              "75%     25.000000    0.000000  \n",
              "max     50.000000    1.000000  "
            ],
            "text/html": [
              "\n",
              "  <div id=\"df-6b5b97f3-0af8-46a6-9014-502006df19fe\">\n",
              "    <div class=\"colab-df-container\">\n",
              "      <div>\n",
              "<style scoped>\n",
              "    .dataframe tbody tr th:only-of-type {\n",
              "        vertical-align: middle;\n",
              "    }\n",
              "\n",
              "    .dataframe tbody tr th {\n",
              "        vertical-align: top;\n",
              "    }\n",
              "\n",
              "    .dataframe thead th {\n",
              "        text-align: right;\n",
              "    }\n",
              "</style>\n",
              "<table border=\"1\" class=\"dataframe\">\n",
              "  <thead>\n",
              "    <tr style=\"text-align: right;\">\n",
              "      <th></th>\n",
              "      <th>CRIM</th>\n",
              "      <th>ZN</th>\n",
              "      <th>INDUS</th>\n",
              "      <th>CHAS</th>\n",
              "      <th>NOX</th>\n",
              "      <th>RM</th>\n",
              "      <th>AGE</th>\n",
              "      <th>DIS</th>\n",
              "      <th>RAD</th>\n",
              "      <th>TAX</th>\n",
              "      <th>PTRATIO</th>\n",
              "      <th>LSTAT</th>\n",
              "      <th>MEDV</th>\n",
              "      <th>CAT. MEDV</th>\n",
              "    </tr>\n",
              "  </thead>\n",
              "  <tbody>\n",
              "    <tr>\n",
              "      <th>count</th>\n",
              "      <td>506.000000</td>\n",
              "      <td>506.000000</td>\n",
              "      <td>506.000000</td>\n",
              "      <td>506.000000</td>\n",
              "      <td>506.000000</td>\n",
              "      <td>506.000000</td>\n",
              "      <td>506.000000</td>\n",
              "      <td>506.000000</td>\n",
              "      <td>506.000000</td>\n",
              "      <td>506.000000</td>\n",
              "      <td>506.000000</td>\n",
              "      <td>506.000000</td>\n",
              "      <td>506.000000</td>\n",
              "      <td>506.000000</td>\n",
              "    </tr>\n",
              "    <tr>\n",
              "      <th>mean</th>\n",
              "      <td>3.613524</td>\n",
              "      <td>11.363636</td>\n",
              "      <td>11.136779</td>\n",
              "      <td>0.069170</td>\n",
              "      <td>0.554695</td>\n",
              "      <td>6.284634</td>\n",
              "      <td>68.574901</td>\n",
              "      <td>3.795043</td>\n",
              "      <td>9.549407</td>\n",
              "      <td>408.237154</td>\n",
              "      <td>18.455534</td>\n",
              "      <td>12.653063</td>\n",
              "      <td>22.532806</td>\n",
              "      <td>0.166008</td>\n",
              "    </tr>\n",
              "    <tr>\n",
              "      <th>std</th>\n",
              "      <td>8.601545</td>\n",
              "      <td>23.322453</td>\n",
              "      <td>6.860353</td>\n",
              "      <td>0.253994</td>\n",
              "      <td>0.115878</td>\n",
              "      <td>0.702617</td>\n",
              "      <td>28.148861</td>\n",
              "      <td>2.105710</td>\n",
              "      <td>8.707259</td>\n",
              "      <td>168.537116</td>\n",
              "      <td>2.164946</td>\n",
              "      <td>7.141062</td>\n",
              "      <td>9.197104</td>\n",
              "      <td>0.372456</td>\n",
              "    </tr>\n",
              "    <tr>\n",
              "      <th>min</th>\n",
              "      <td>0.006320</td>\n",
              "      <td>0.000000</td>\n",
              "      <td>0.460000</td>\n",
              "      <td>0.000000</td>\n",
              "      <td>0.385000</td>\n",
              "      <td>3.561000</td>\n",
              "      <td>2.900000</td>\n",
              "      <td>1.129600</td>\n",
              "      <td>1.000000</td>\n",
              "      <td>187.000000</td>\n",
              "      <td>12.600000</td>\n",
              "      <td>1.730000</td>\n",
              "      <td>5.000000</td>\n",
              "      <td>0.000000</td>\n",
              "    </tr>\n",
              "    <tr>\n",
              "      <th>25%</th>\n",
              "      <td>0.082045</td>\n",
              "      <td>0.000000</td>\n",
              "      <td>5.190000</td>\n",
              "      <td>0.000000</td>\n",
              "      <td>0.449000</td>\n",
              "      <td>5.885500</td>\n",
              "      <td>45.025000</td>\n",
              "      <td>2.100175</td>\n",
              "      <td>4.000000</td>\n",
              "      <td>279.000000</td>\n",
              "      <td>17.400000</td>\n",
              "      <td>6.950000</td>\n",
              "      <td>17.025000</td>\n",
              "      <td>0.000000</td>\n",
              "    </tr>\n",
              "    <tr>\n",
              "      <th>50%</th>\n",
              "      <td>0.256510</td>\n",
              "      <td>0.000000</td>\n",
              "      <td>9.690000</td>\n",
              "      <td>0.000000</td>\n",
              "      <td>0.538000</td>\n",
              "      <td>6.208500</td>\n",
              "      <td>77.500000</td>\n",
              "      <td>3.207450</td>\n",
              "      <td>5.000000</td>\n",
              "      <td>330.000000</td>\n",
              "      <td>19.050000</td>\n",
              "      <td>11.360000</td>\n",
              "      <td>21.200000</td>\n",
              "      <td>0.000000</td>\n",
              "    </tr>\n",
              "    <tr>\n",
              "      <th>75%</th>\n",
              "      <td>3.677083</td>\n",
              "      <td>12.500000</td>\n",
              "      <td>18.100000</td>\n",
              "      <td>0.000000</td>\n",
              "      <td>0.624000</td>\n",
              "      <td>6.623500</td>\n",
              "      <td>94.075000</td>\n",
              "      <td>5.188425</td>\n",
              "      <td>24.000000</td>\n",
              "      <td>666.000000</td>\n",
              "      <td>20.200000</td>\n",
              "      <td>16.955000</td>\n",
              "      <td>25.000000</td>\n",
              "      <td>0.000000</td>\n",
              "    </tr>\n",
              "    <tr>\n",
              "      <th>max</th>\n",
              "      <td>88.976200</td>\n",
              "      <td>100.000000</td>\n",
              "      <td>27.740000</td>\n",
              "      <td>1.000000</td>\n",
              "      <td>0.871000</td>\n",
              "      <td>8.780000</td>\n",
              "      <td>100.000000</td>\n",
              "      <td>12.126500</td>\n",
              "      <td>24.000000</td>\n",
              "      <td>711.000000</td>\n",
              "      <td>22.000000</td>\n",
              "      <td>37.970000</td>\n",
              "      <td>50.000000</td>\n",
              "      <td>1.000000</td>\n",
              "    </tr>\n",
              "  </tbody>\n",
              "</table>\n",
              "</div>\n",
              "      <button class=\"colab-df-convert\" onclick=\"convertToInteractive('df-6b5b97f3-0af8-46a6-9014-502006df19fe')\"\n",
              "              title=\"Convert this dataframe to an interactive table.\"\n",
              "              style=\"display:none;\">\n",
              "        \n",
              "  <svg xmlns=\"http://www.w3.org/2000/svg\" height=\"24px\"viewBox=\"0 0 24 24\"\n",
              "       width=\"24px\">\n",
              "    <path d=\"M0 0h24v24H0V0z\" fill=\"none\"/>\n",
              "    <path d=\"M18.56 5.44l.94 2.06.94-2.06 2.06-.94-2.06-.94-.94-2.06-.94 2.06-2.06.94zm-11 1L8.5 8.5l.94-2.06 2.06-.94-2.06-.94L8.5 2.5l-.94 2.06-2.06.94zm10 10l.94 2.06.94-2.06 2.06-.94-2.06-.94-.94-2.06-.94 2.06-2.06.94z\"/><path d=\"M17.41 7.96l-1.37-1.37c-.4-.4-.92-.59-1.43-.59-.52 0-1.04.2-1.43.59L10.3 9.45l-7.72 7.72c-.78.78-.78 2.05 0 2.83L4 21.41c.39.39.9.59 1.41.59.51 0 1.02-.2 1.41-.59l7.78-7.78 2.81-2.81c.8-.78.8-2.07 0-2.86zM5.41 20L4 18.59l7.72-7.72 1.47 1.35L5.41 20z\"/>\n",
              "  </svg>\n",
              "      </button>\n",
              "      \n",
              "  <style>\n",
              "    .colab-df-container {\n",
              "      display:flex;\n",
              "      flex-wrap:wrap;\n",
              "      gap: 12px;\n",
              "    }\n",
              "\n",
              "    .colab-df-convert {\n",
              "      background-color: #E8F0FE;\n",
              "      border: none;\n",
              "      border-radius: 50%;\n",
              "      cursor: pointer;\n",
              "      display: none;\n",
              "      fill: #1967D2;\n",
              "      height: 32px;\n",
              "      padding: 0 0 0 0;\n",
              "      width: 32px;\n",
              "    }\n",
              "\n",
              "    .colab-df-convert:hover {\n",
              "      background-color: #E2EBFA;\n",
              "      box-shadow: 0px 1px 2px rgba(60, 64, 67, 0.3), 0px 1px 3px 1px rgba(60, 64, 67, 0.15);\n",
              "      fill: #174EA6;\n",
              "    }\n",
              "\n",
              "    [theme=dark] .colab-df-convert {\n",
              "      background-color: #3B4455;\n",
              "      fill: #D2E3FC;\n",
              "    }\n",
              "\n",
              "    [theme=dark] .colab-df-convert:hover {\n",
              "      background-color: #434B5C;\n",
              "      box-shadow: 0px 1px 3px 1px rgba(0, 0, 0, 0.15);\n",
              "      filter: drop-shadow(0px 1px 2px rgba(0, 0, 0, 0.3));\n",
              "      fill: #FFFFFF;\n",
              "    }\n",
              "  </style>\n",
              "\n",
              "      <script>\n",
              "        const buttonEl =\n",
              "          document.querySelector('#df-6b5b97f3-0af8-46a6-9014-502006df19fe button.colab-df-convert');\n",
              "        buttonEl.style.display =\n",
              "          google.colab.kernel.accessAllowed ? 'block' : 'none';\n",
              "\n",
              "        async function convertToInteractive(key) {\n",
              "          const element = document.querySelector('#df-6b5b97f3-0af8-46a6-9014-502006df19fe');\n",
              "          const dataTable =\n",
              "            await google.colab.kernel.invokeFunction('convertToInteractive',\n",
              "                                                     [key], {});\n",
              "          if (!dataTable) return;\n",
              "\n",
              "          const docLinkHtml = 'Like what you see? Visit the ' +\n",
              "            '<a target=\"_blank\" href=https://colab.research.google.com/notebooks/data_table.ipynb>data table notebook</a>'\n",
              "            + ' to learn more about interactive tables.';\n",
              "          element.innerHTML = '';\n",
              "          dataTable['output_type'] = 'display_data';\n",
              "          await google.colab.output.renderOutput(dataTable, element);\n",
              "          const docLink = document.createElement('div');\n",
              "          docLink.innerHTML = docLinkHtml;\n",
              "          element.appendChild(docLink);\n",
              "        }\n",
              "      </script>\n",
              "    </div>\n",
              "  </div>\n",
              "  "
            ]
          },
          "metadata": {},
          "execution_count": 3
        }
      ]
    },
    {
      "cell_type": "code",
      "source": [
        "dfZM.head()"
      ],
      "metadata": {
        "colab": {
          "base_uri": "https://localhost:8080/",
          "height": 206
        },
        "id": "nq0azii6QCH9",
        "outputId": "a074cad5-b12e-49de-afa0-63295a5370b4"
      },
      "execution_count": 4,
      "outputs": [
        {
          "output_type": "execute_result",
          "data": {
            "text/plain": [
              "      CRIM    ZN  INDUS  CHAS    NOX     RM   AGE     DIS  RAD  TAX  PTRATIO  \\\n",
              "0  0.00632  18.0   2.31     0  0.538  6.575  65.2  4.0900    1  296     15.3   \n",
              "1  0.02731   0.0   7.07     0  0.469  6.421  78.9  4.9671    2  242     17.8   \n",
              "2  0.02729   0.0   7.07     0  0.469  7.185  61.1  4.9671    2  242     17.8   \n",
              "3  0.03237   0.0   2.18     0  0.458  6.998  45.8  6.0622    3  222     18.7   \n",
              "4  0.06905   0.0   2.18     0  0.458  7.147  54.2  6.0622    3  222     18.7   \n",
              "\n",
              "   LSTAT  MEDV  CAT. MEDV  \n",
              "0   4.98  24.0          0  \n",
              "1   9.14  21.6          0  \n",
              "2   4.03  34.7          1  \n",
              "3   2.94  33.4          1  \n",
              "4   5.33  36.2          1  "
            ],
            "text/html": [
              "\n",
              "  <div id=\"df-c08f7de4-6e6c-4cb6-833e-767c6b835d59\">\n",
              "    <div class=\"colab-df-container\">\n",
              "      <div>\n",
              "<style scoped>\n",
              "    .dataframe tbody tr th:only-of-type {\n",
              "        vertical-align: middle;\n",
              "    }\n",
              "\n",
              "    .dataframe tbody tr th {\n",
              "        vertical-align: top;\n",
              "    }\n",
              "\n",
              "    .dataframe thead th {\n",
              "        text-align: right;\n",
              "    }\n",
              "</style>\n",
              "<table border=\"1\" class=\"dataframe\">\n",
              "  <thead>\n",
              "    <tr style=\"text-align: right;\">\n",
              "      <th></th>\n",
              "      <th>CRIM</th>\n",
              "      <th>ZN</th>\n",
              "      <th>INDUS</th>\n",
              "      <th>CHAS</th>\n",
              "      <th>NOX</th>\n",
              "      <th>RM</th>\n",
              "      <th>AGE</th>\n",
              "      <th>DIS</th>\n",
              "      <th>RAD</th>\n",
              "      <th>TAX</th>\n",
              "      <th>PTRATIO</th>\n",
              "      <th>LSTAT</th>\n",
              "      <th>MEDV</th>\n",
              "      <th>CAT. MEDV</th>\n",
              "    </tr>\n",
              "  </thead>\n",
              "  <tbody>\n",
              "    <tr>\n",
              "      <th>0</th>\n",
              "      <td>0.00632</td>\n",
              "      <td>18.0</td>\n",
              "      <td>2.31</td>\n",
              "      <td>0</td>\n",
              "      <td>0.538</td>\n",
              "      <td>6.575</td>\n",
              "      <td>65.2</td>\n",
              "      <td>4.0900</td>\n",
              "      <td>1</td>\n",
              "      <td>296</td>\n",
              "      <td>15.3</td>\n",
              "      <td>4.98</td>\n",
              "      <td>24.0</td>\n",
              "      <td>0</td>\n",
              "    </tr>\n",
              "    <tr>\n",
              "      <th>1</th>\n",
              "      <td>0.02731</td>\n",
              "      <td>0.0</td>\n",
              "      <td>7.07</td>\n",
              "      <td>0</td>\n",
              "      <td>0.469</td>\n",
              "      <td>6.421</td>\n",
              "      <td>78.9</td>\n",
              "      <td>4.9671</td>\n",
              "      <td>2</td>\n",
              "      <td>242</td>\n",
              "      <td>17.8</td>\n",
              "      <td>9.14</td>\n",
              "      <td>21.6</td>\n",
              "      <td>0</td>\n",
              "    </tr>\n",
              "    <tr>\n",
              "      <th>2</th>\n",
              "      <td>0.02729</td>\n",
              "      <td>0.0</td>\n",
              "      <td>7.07</td>\n",
              "      <td>0</td>\n",
              "      <td>0.469</td>\n",
              "      <td>7.185</td>\n",
              "      <td>61.1</td>\n",
              "      <td>4.9671</td>\n",
              "      <td>2</td>\n",
              "      <td>242</td>\n",
              "      <td>17.8</td>\n",
              "      <td>4.03</td>\n",
              "      <td>34.7</td>\n",
              "      <td>1</td>\n",
              "    </tr>\n",
              "    <tr>\n",
              "      <th>3</th>\n",
              "      <td>0.03237</td>\n",
              "      <td>0.0</td>\n",
              "      <td>2.18</td>\n",
              "      <td>0</td>\n",
              "      <td>0.458</td>\n",
              "      <td>6.998</td>\n",
              "      <td>45.8</td>\n",
              "      <td>6.0622</td>\n",
              "      <td>3</td>\n",
              "      <td>222</td>\n",
              "      <td>18.7</td>\n",
              "      <td>2.94</td>\n",
              "      <td>33.4</td>\n",
              "      <td>1</td>\n",
              "    </tr>\n",
              "    <tr>\n",
              "      <th>4</th>\n",
              "      <td>0.06905</td>\n",
              "      <td>0.0</td>\n",
              "      <td>2.18</td>\n",
              "      <td>0</td>\n",
              "      <td>0.458</td>\n",
              "      <td>7.147</td>\n",
              "      <td>54.2</td>\n",
              "      <td>6.0622</td>\n",
              "      <td>3</td>\n",
              "      <td>222</td>\n",
              "      <td>18.7</td>\n",
              "      <td>5.33</td>\n",
              "      <td>36.2</td>\n",
              "      <td>1</td>\n",
              "    </tr>\n",
              "  </tbody>\n",
              "</table>\n",
              "</div>\n",
              "      <button class=\"colab-df-convert\" onclick=\"convertToInteractive('df-c08f7de4-6e6c-4cb6-833e-767c6b835d59')\"\n",
              "              title=\"Convert this dataframe to an interactive table.\"\n",
              "              style=\"display:none;\">\n",
              "        \n",
              "  <svg xmlns=\"http://www.w3.org/2000/svg\" height=\"24px\"viewBox=\"0 0 24 24\"\n",
              "       width=\"24px\">\n",
              "    <path d=\"M0 0h24v24H0V0z\" fill=\"none\"/>\n",
              "    <path d=\"M18.56 5.44l.94 2.06.94-2.06 2.06-.94-2.06-.94-.94-2.06-.94 2.06-2.06.94zm-11 1L8.5 8.5l.94-2.06 2.06-.94-2.06-.94L8.5 2.5l-.94 2.06-2.06.94zm10 10l.94 2.06.94-2.06 2.06-.94-2.06-.94-.94-2.06-.94 2.06-2.06.94z\"/><path d=\"M17.41 7.96l-1.37-1.37c-.4-.4-.92-.59-1.43-.59-.52 0-1.04.2-1.43.59L10.3 9.45l-7.72 7.72c-.78.78-.78 2.05 0 2.83L4 21.41c.39.39.9.59 1.41.59.51 0 1.02-.2 1.41-.59l7.78-7.78 2.81-2.81c.8-.78.8-2.07 0-2.86zM5.41 20L4 18.59l7.72-7.72 1.47 1.35L5.41 20z\"/>\n",
              "  </svg>\n",
              "      </button>\n",
              "      \n",
              "  <style>\n",
              "    .colab-df-container {\n",
              "      display:flex;\n",
              "      flex-wrap:wrap;\n",
              "      gap: 12px;\n",
              "    }\n",
              "\n",
              "    .colab-df-convert {\n",
              "      background-color: #E8F0FE;\n",
              "      border: none;\n",
              "      border-radius: 50%;\n",
              "      cursor: pointer;\n",
              "      display: none;\n",
              "      fill: #1967D2;\n",
              "      height: 32px;\n",
              "      padding: 0 0 0 0;\n",
              "      width: 32px;\n",
              "    }\n",
              "\n",
              "    .colab-df-convert:hover {\n",
              "      background-color: #E2EBFA;\n",
              "      box-shadow: 0px 1px 2px rgba(60, 64, 67, 0.3), 0px 1px 3px 1px rgba(60, 64, 67, 0.15);\n",
              "      fill: #174EA6;\n",
              "    }\n",
              "\n",
              "    [theme=dark] .colab-df-convert {\n",
              "      background-color: #3B4455;\n",
              "      fill: #D2E3FC;\n",
              "    }\n",
              "\n",
              "    [theme=dark] .colab-df-convert:hover {\n",
              "      background-color: #434B5C;\n",
              "      box-shadow: 0px 1px 3px 1px rgba(0, 0, 0, 0.15);\n",
              "      filter: drop-shadow(0px 1px 2px rgba(0, 0, 0, 0.3));\n",
              "      fill: #FFFFFF;\n",
              "    }\n",
              "  </style>\n",
              "\n",
              "      <script>\n",
              "        const buttonEl =\n",
              "          document.querySelector('#df-c08f7de4-6e6c-4cb6-833e-767c6b835d59 button.colab-df-convert');\n",
              "        buttonEl.style.display =\n",
              "          google.colab.kernel.accessAllowed ? 'block' : 'none';\n",
              "\n",
              "        async function convertToInteractive(key) {\n",
              "          const element = document.querySelector('#df-c08f7de4-6e6c-4cb6-833e-767c6b835d59');\n",
              "          const dataTable =\n",
              "            await google.colab.kernel.invokeFunction('convertToInteractive',\n",
              "                                                     [key], {});\n",
              "          if (!dataTable) return;\n",
              "\n",
              "          const docLinkHtml = 'Like what you see? Visit the ' +\n",
              "            '<a target=\"_blank\" href=https://colab.research.google.com/notebooks/data_table.ipynb>data table notebook</a>'\n",
              "            + ' to learn more about interactive tables.';\n",
              "          element.innerHTML = '';\n",
              "          dataTable['output_type'] = 'display_data';\n",
              "          await google.colab.output.renderOutput(dataTable, element);\n",
              "          const docLink = document.createElement('div');\n",
              "          docLink.innerHTML = docLinkHtml;\n",
              "          element.appendChild(docLink);\n",
              "        }\n",
              "      </script>\n",
              "    </div>\n",
              "  </div>\n",
              "  "
            ]
          },
          "metadata": {},
          "execution_count": 4
        }
      ]
    },
    {
      "cell_type": "code",
      "source": [
        "#import necessary libraries \n",
        "import numpy as np \n",
        "import pandas as pd \n",
        "from sklearn.ensemble import RandomForestClassifier\n",
        "from sklearn.model_selection import train_test_split"
      ],
      "metadata": {
        "id": "ENGor0drQNUH"
      },
      "execution_count": 5,
      "outputs": []
    },
    {
      "cell_type": "code",
      "source": [
        "#remove continuous DV's\n",
        "dfZM = dfZM.drop(['MEDV'], axis=1)"
      ],
      "metadata": {
        "id": "MESLy1A_Pwli"
      },
      "execution_count": 6,
      "outputs": []
    },
    {
      "cell_type": "code",
      "source": [
        "dfZM.head()"
      ],
      "metadata": {
        "colab": {
          "base_uri": "https://localhost:8080/",
          "height": 206
        },
        "id": "S4H6gVuPQK84",
        "outputId": "c4e86472-6679-4bf5-dc04-99b5cc7b4f82"
      },
      "execution_count": 7,
      "outputs": [
        {
          "output_type": "execute_result",
          "data": {
            "text/plain": [
              "      CRIM    ZN  INDUS  CHAS    NOX     RM   AGE     DIS  RAD  TAX  PTRATIO  \\\n",
              "0  0.00632  18.0   2.31     0  0.538  6.575  65.2  4.0900    1  296     15.3   \n",
              "1  0.02731   0.0   7.07     0  0.469  6.421  78.9  4.9671    2  242     17.8   \n",
              "2  0.02729   0.0   7.07     0  0.469  7.185  61.1  4.9671    2  242     17.8   \n",
              "3  0.03237   0.0   2.18     0  0.458  6.998  45.8  6.0622    3  222     18.7   \n",
              "4  0.06905   0.0   2.18     0  0.458  7.147  54.2  6.0622    3  222     18.7   \n",
              "\n",
              "   LSTAT  CAT. MEDV  \n",
              "0   4.98          0  \n",
              "1   9.14          0  \n",
              "2   4.03          1  \n",
              "3   2.94          1  \n",
              "4   5.33          1  "
            ],
            "text/html": [
              "\n",
              "  <div id=\"df-7397aa3e-a853-4e26-9956-f02ef2788a9f\">\n",
              "    <div class=\"colab-df-container\">\n",
              "      <div>\n",
              "<style scoped>\n",
              "    .dataframe tbody tr th:only-of-type {\n",
              "        vertical-align: middle;\n",
              "    }\n",
              "\n",
              "    .dataframe tbody tr th {\n",
              "        vertical-align: top;\n",
              "    }\n",
              "\n",
              "    .dataframe thead th {\n",
              "        text-align: right;\n",
              "    }\n",
              "</style>\n",
              "<table border=\"1\" class=\"dataframe\">\n",
              "  <thead>\n",
              "    <tr style=\"text-align: right;\">\n",
              "      <th></th>\n",
              "      <th>CRIM</th>\n",
              "      <th>ZN</th>\n",
              "      <th>INDUS</th>\n",
              "      <th>CHAS</th>\n",
              "      <th>NOX</th>\n",
              "      <th>RM</th>\n",
              "      <th>AGE</th>\n",
              "      <th>DIS</th>\n",
              "      <th>RAD</th>\n",
              "      <th>TAX</th>\n",
              "      <th>PTRATIO</th>\n",
              "      <th>LSTAT</th>\n",
              "      <th>CAT. MEDV</th>\n",
              "    </tr>\n",
              "  </thead>\n",
              "  <tbody>\n",
              "    <tr>\n",
              "      <th>0</th>\n",
              "      <td>0.00632</td>\n",
              "      <td>18.0</td>\n",
              "      <td>2.31</td>\n",
              "      <td>0</td>\n",
              "      <td>0.538</td>\n",
              "      <td>6.575</td>\n",
              "      <td>65.2</td>\n",
              "      <td>4.0900</td>\n",
              "      <td>1</td>\n",
              "      <td>296</td>\n",
              "      <td>15.3</td>\n",
              "      <td>4.98</td>\n",
              "      <td>0</td>\n",
              "    </tr>\n",
              "    <tr>\n",
              "      <th>1</th>\n",
              "      <td>0.02731</td>\n",
              "      <td>0.0</td>\n",
              "      <td>7.07</td>\n",
              "      <td>0</td>\n",
              "      <td>0.469</td>\n",
              "      <td>6.421</td>\n",
              "      <td>78.9</td>\n",
              "      <td>4.9671</td>\n",
              "      <td>2</td>\n",
              "      <td>242</td>\n",
              "      <td>17.8</td>\n",
              "      <td>9.14</td>\n",
              "      <td>0</td>\n",
              "    </tr>\n",
              "    <tr>\n",
              "      <th>2</th>\n",
              "      <td>0.02729</td>\n",
              "      <td>0.0</td>\n",
              "      <td>7.07</td>\n",
              "      <td>0</td>\n",
              "      <td>0.469</td>\n",
              "      <td>7.185</td>\n",
              "      <td>61.1</td>\n",
              "      <td>4.9671</td>\n",
              "      <td>2</td>\n",
              "      <td>242</td>\n",
              "      <td>17.8</td>\n",
              "      <td>4.03</td>\n",
              "      <td>1</td>\n",
              "    </tr>\n",
              "    <tr>\n",
              "      <th>3</th>\n",
              "      <td>0.03237</td>\n",
              "      <td>0.0</td>\n",
              "      <td>2.18</td>\n",
              "      <td>0</td>\n",
              "      <td>0.458</td>\n",
              "      <td>6.998</td>\n",
              "      <td>45.8</td>\n",
              "      <td>6.0622</td>\n",
              "      <td>3</td>\n",
              "      <td>222</td>\n",
              "      <td>18.7</td>\n",
              "      <td>2.94</td>\n",
              "      <td>1</td>\n",
              "    </tr>\n",
              "    <tr>\n",
              "      <th>4</th>\n",
              "      <td>0.06905</td>\n",
              "      <td>0.0</td>\n",
              "      <td>2.18</td>\n",
              "      <td>0</td>\n",
              "      <td>0.458</td>\n",
              "      <td>7.147</td>\n",
              "      <td>54.2</td>\n",
              "      <td>6.0622</td>\n",
              "      <td>3</td>\n",
              "      <td>222</td>\n",
              "      <td>18.7</td>\n",
              "      <td>5.33</td>\n",
              "      <td>1</td>\n",
              "    </tr>\n",
              "  </tbody>\n",
              "</table>\n",
              "</div>\n",
              "      <button class=\"colab-df-convert\" onclick=\"convertToInteractive('df-7397aa3e-a853-4e26-9956-f02ef2788a9f')\"\n",
              "              title=\"Convert this dataframe to an interactive table.\"\n",
              "              style=\"display:none;\">\n",
              "        \n",
              "  <svg xmlns=\"http://www.w3.org/2000/svg\" height=\"24px\"viewBox=\"0 0 24 24\"\n",
              "       width=\"24px\">\n",
              "    <path d=\"M0 0h24v24H0V0z\" fill=\"none\"/>\n",
              "    <path d=\"M18.56 5.44l.94 2.06.94-2.06 2.06-.94-2.06-.94-.94-2.06-.94 2.06-2.06.94zm-11 1L8.5 8.5l.94-2.06 2.06-.94-2.06-.94L8.5 2.5l-.94 2.06-2.06.94zm10 10l.94 2.06.94-2.06 2.06-.94-2.06-.94-.94-2.06-.94 2.06-2.06.94z\"/><path d=\"M17.41 7.96l-1.37-1.37c-.4-.4-.92-.59-1.43-.59-.52 0-1.04.2-1.43.59L10.3 9.45l-7.72 7.72c-.78.78-.78 2.05 0 2.83L4 21.41c.39.39.9.59 1.41.59.51 0 1.02-.2 1.41-.59l7.78-7.78 2.81-2.81c.8-.78.8-2.07 0-2.86zM5.41 20L4 18.59l7.72-7.72 1.47 1.35L5.41 20z\"/>\n",
              "  </svg>\n",
              "      </button>\n",
              "      \n",
              "  <style>\n",
              "    .colab-df-container {\n",
              "      display:flex;\n",
              "      flex-wrap:wrap;\n",
              "      gap: 12px;\n",
              "    }\n",
              "\n",
              "    .colab-df-convert {\n",
              "      background-color: #E8F0FE;\n",
              "      border: none;\n",
              "      border-radius: 50%;\n",
              "      cursor: pointer;\n",
              "      display: none;\n",
              "      fill: #1967D2;\n",
              "      height: 32px;\n",
              "      padding: 0 0 0 0;\n",
              "      width: 32px;\n",
              "    }\n",
              "\n",
              "    .colab-df-convert:hover {\n",
              "      background-color: #E2EBFA;\n",
              "      box-shadow: 0px 1px 2px rgba(60, 64, 67, 0.3), 0px 1px 3px 1px rgba(60, 64, 67, 0.15);\n",
              "      fill: #174EA6;\n",
              "    }\n",
              "\n",
              "    [theme=dark] .colab-df-convert {\n",
              "      background-color: #3B4455;\n",
              "      fill: #D2E3FC;\n",
              "    }\n",
              "\n",
              "    [theme=dark] .colab-df-convert:hover {\n",
              "      background-color: #434B5C;\n",
              "      box-shadow: 0px 1px 3px 1px rgba(0, 0, 0, 0.15);\n",
              "      filter: drop-shadow(0px 1px 2px rgba(0, 0, 0, 0.3));\n",
              "      fill: #FFFFFF;\n",
              "    }\n",
              "  </style>\n",
              "\n",
              "      <script>\n",
              "        const buttonEl =\n",
              "          document.querySelector('#df-7397aa3e-a853-4e26-9956-f02ef2788a9f button.colab-df-convert');\n",
              "        buttonEl.style.display =\n",
              "          google.colab.kernel.accessAllowed ? 'block' : 'none';\n",
              "\n",
              "        async function convertToInteractive(key) {\n",
              "          const element = document.querySelector('#df-7397aa3e-a853-4e26-9956-f02ef2788a9f');\n",
              "          const dataTable =\n",
              "            await google.colab.kernel.invokeFunction('convertToInteractive',\n",
              "                                                     [key], {});\n",
              "          if (!dataTable) return;\n",
              "\n",
              "          const docLinkHtml = 'Like what you see? Visit the ' +\n",
              "            '<a target=\"_blank\" href=https://colab.research.google.com/notebooks/data_table.ipynb>data table notebook</a>'\n",
              "            + ' to learn more about interactive tables.';\n",
              "          element.innerHTML = '';\n",
              "          dataTable['output_type'] = 'display_data';\n",
              "          await google.colab.output.renderOutput(dataTable, element);\n",
              "          const docLink = document.createElement('div');\n",
              "          docLink.innerHTML = docLinkHtml;\n",
              "          element.appendChild(docLink);\n",
              "        }\n",
              "      </script>\n",
              "    </div>\n",
              "  </div>\n",
              "  "
            ]
          },
          "metadata": {},
          "execution_count": 7
        }
      ]
    },
    {
      "cell_type": "code",
      "source": [
        "#Creating Independent Var and Dependent Var\n",
        "X = dfZM.drop(['CAT. MEDV'], axis=1)\n",
        "y = dfZM['CAT. MEDV']"
      ],
      "metadata": {
        "id": "sLKtaT30QX15"
      },
      "execution_count": 8,
      "outputs": []
    },
    {
      "cell_type": "code",
      "source": [
        "print(X)"
      ],
      "metadata": {
        "colab": {
          "base_uri": "https://localhost:8080/"
        },
        "id": "DmAeeeLfpnmS",
        "outputId": "dc634ca9-57d0-4084-f51f-69233465b81b"
      },
      "execution_count": 10,
      "outputs": [
        {
          "output_type": "stream",
          "name": "stdout",
          "text": [
            "        CRIM    ZN  INDUS  CHAS    NOX     RM   AGE     DIS  RAD  TAX  \\\n",
            "0    0.00632  18.0   2.31     0  0.538  6.575  65.2  4.0900    1  296   \n",
            "1    0.02731   0.0   7.07     0  0.469  6.421  78.9  4.9671    2  242   \n",
            "2    0.02729   0.0   7.07     0  0.469  7.185  61.1  4.9671    2  242   \n",
            "3    0.03237   0.0   2.18     0  0.458  6.998  45.8  6.0622    3  222   \n",
            "4    0.06905   0.0   2.18     0  0.458  7.147  54.2  6.0622    3  222   \n",
            "..       ...   ...    ...   ...    ...    ...   ...     ...  ...  ...   \n",
            "501  0.06263   0.0  11.93     0  0.573  6.593  69.1  2.4786    1  273   \n",
            "502  0.04527   0.0  11.93     0  0.573  6.120  76.7  2.2875    1  273   \n",
            "503  0.06076   0.0  11.93     0  0.573  6.976  91.0  2.1675    1  273   \n",
            "504  0.10959   0.0  11.93     0  0.573  6.794  89.3  2.3889    1  273   \n",
            "505  0.04741   0.0  11.93     0  0.573  6.030  80.8  2.5050    1  273   \n",
            "\n",
            "     PTRATIO  LSTAT  \n",
            "0       15.3   4.98  \n",
            "1       17.8   9.14  \n",
            "2       17.8   4.03  \n",
            "3       18.7   2.94  \n",
            "4       18.7   5.33  \n",
            "..       ...    ...  \n",
            "501     21.0   9.67  \n",
            "502     21.0   9.08  \n",
            "503     21.0   5.64  \n",
            "504     21.0   6.48  \n",
            "505     21.0   7.88  \n",
            "\n",
            "[506 rows x 12 columns]\n"
          ]
        }
      ]
    },
    {
      "cell_type": "code",
      "source": [
        "print(y)"
      ],
      "metadata": {
        "colab": {
          "base_uri": "https://localhost:8080/"
        },
        "id": "TBH3UwVWpphn",
        "outputId": "4044c94d-304e-4da6-f2ea-7608aad5d581"
      },
      "execution_count": 11,
      "outputs": [
        {
          "output_type": "stream",
          "name": "stdout",
          "text": [
            "0      0\n",
            "1      0\n",
            "2      1\n",
            "3      1\n",
            "4      1\n",
            "      ..\n",
            "501    0\n",
            "502    0\n",
            "503    0\n",
            "504    0\n",
            "505    0\n",
            "Name: CAT. MEDV, Length: 506, dtype: int64\n"
          ]
        }
      ]
    },
    {
      "cell_type": "code",
      "source": [
        "X.isnull().sum()"
      ],
      "metadata": {
        "colab": {
          "base_uri": "https://localhost:8080/"
        },
        "id": "FAIJYyi5prnH",
        "outputId": "85de0bb9-87c2-4545-fa62-b0b9309afcbd"
      },
      "execution_count": 12,
      "outputs": [
        {
          "output_type": "execute_result",
          "data": {
            "text/plain": [
              "CRIM       0\n",
              "ZN         0\n",
              "INDUS      0\n",
              "CHAS       0\n",
              "NOX        0\n",
              "RM         0\n",
              "AGE        0\n",
              "DIS        0\n",
              "RAD        0\n",
              "TAX        0\n",
              "PTRATIO    0\n",
              "LSTAT      0\n",
              "dtype: int64"
            ]
          },
          "metadata": {},
          "execution_count": 12
        }
      ]
    },
    {
      "cell_type": "code",
      "source": [
        "y.isnull().sum()"
      ],
      "metadata": {
        "colab": {
          "base_uri": "https://localhost:8080/"
        },
        "id": "eoxXkYzApuA6",
        "outputId": "e31e0d95-49bb-4a6a-8081-e996aa03d2e3"
      },
      "execution_count": 13,
      "outputs": [
        {
          "output_type": "execute_result",
          "data": {
            "text/plain": [
              "0"
            ]
          },
          "metadata": {},
          "execution_count": 13
        }
      ]
    },
    {
      "cell_type": "code",
      "source": [
        "#Train/Test of Data Frame\n",
        "X_trainZM, X_testZM, y_trainZM, y_testZM = train_test_split(X, y, test_size=0.2, random_state=42)"
      ],
      "metadata": {
        "id": "96YrQm-AQpAb"
      },
      "execution_count": 14,
      "outputs": []
    },
    {
      "cell_type": "code",
      "source": [
        "#Training the Model\n",
        "rf_modelZM = RandomForestClassifier(random_state=0)\n",
        "rf_modelZM.fit(X_trainZM, y_trainZM)"
      ],
      "metadata": {
        "colab": {
          "base_uri": "https://localhost:8080/"
        },
        "id": "whvwMQnqQzo6",
        "outputId": "3ef051a1-7a66-4502-c4c3-bc70f402d5bf"
      },
      "execution_count": 15,
      "outputs": [
        {
          "output_type": "execute_result",
          "data": {
            "text/plain": [
              "RandomForestClassifier(random_state=0)"
            ]
          },
          "metadata": {},
          "execution_count": 15
        }
      ]
    },
    {
      "cell_type": "code",
      "source": [
        "rf_modelZM.score(X_testZM, y_testZM)"
      ],
      "metadata": {
        "colab": {
          "base_uri": "https://localhost:8080/"
        },
        "id": "HZct74i2RtXI",
        "outputId": "0a87393f-037a-4603-9eab-d1d22544244e"
      },
      "execution_count": 16,
      "outputs": [
        {
          "output_type": "execute_result",
          "data": {
            "text/plain": [
              "0.9509803921568627"
            ]
          },
          "metadata": {},
          "execution_count": 16
        }
      ]
    },
    {
      "cell_type": "code",
      "source": [
        "X.shape"
      ],
      "metadata": {
        "colab": {
          "base_uri": "https://localhost:8080/"
        },
        "id": "YJLDsOVqR0uF",
        "outputId": "391c8c43-b9cb-4eb2-b3cb-e4f7de98b136"
      },
      "execution_count": 17,
      "outputs": [
        {
          "output_type": "execute_result",
          "data": {
            "text/plain": [
              "(506, 12)"
            ]
          },
          "metadata": {},
          "execution_count": 17
        }
      ]
    },
    {
      "cell_type": "code",
      "source": [
        "print(rf_modelZM.n_features_in_)"
      ],
      "metadata": {
        "colab": {
          "base_uri": "https://localhost:8080/"
        },
        "id": "1KQdNlzxVOuI",
        "outputId": "1f879e68-9795-4a57-f470-8faac6ac7469"
      },
      "execution_count": 18,
      "outputs": [
        {
          "output_type": "stream",
          "name": "stdout",
          "text": [
            "12\n"
          ]
        }
      ]
    },
    {
      "cell_type": "code",
      "source": [
        "from sklearn.model_selection import GridSearchCV\n",
        "import numpy as np\n",
        "\n",
        "param = {'n_estimators': [50,100], 'max_features' : range(1,12)}"
      ],
      "metadata": {
        "id": "q3F4RjJTR3Ra"
      },
      "execution_count": 19,
      "outputs": []
    },
    {
      "cell_type": "code",
      "source": [
        "rf_modelZM2 = RandomForestClassifier(random_state=0)\n",
        "grid_search = GridSearchCV(estimator=rf_modelZM2, param_grid=param, n_jobs=-1)\n",
        "grid_search.fit(X_trainZM,y_trainZM)"
      ],
      "metadata": {
        "colab": {
          "base_uri": "https://localhost:8080/"
        },
        "id": "xyqiwYXtV8Qm",
        "outputId": "5a008dbd-7447-4cae-8b20-b953fe661aa7"
      },
      "execution_count": 20,
      "outputs": [
        {
          "output_type": "execute_result",
          "data": {
            "text/plain": [
              "GridSearchCV(estimator=RandomForestClassifier(random_state=0), n_jobs=-1,\n",
              "             param_grid={'max_features': range(1, 12),\n",
              "                         'n_estimators': [50, 100]})"
            ]
          },
          "metadata": {},
          "execution_count": 20
        }
      ]
    },
    {
      "cell_type": "code",
      "source": [
        "grid_search.best_params_"
      ],
      "metadata": {
        "colab": {
          "base_uri": "https://localhost:8080/"
        },
        "id": "6ZpgrnBOQ9v8",
        "outputId": "740634e6-1858-47ad-80a3-9931734b57bb"
      },
      "execution_count": 21,
      "outputs": [
        {
          "output_type": "execute_result",
          "data": {
            "text/plain": [
              "{'max_features': 3, 'n_estimators': 100}"
            ]
          },
          "metadata": {},
          "execution_count": 21
        }
      ]
    },
    {
      "cell_type": "code",
      "source": [
        "grid_search.best_score_"
      ],
      "metadata": {
        "colab": {
          "base_uri": "https://localhost:8080/"
        },
        "id": "wuntP8NxSms1",
        "outputId": "a6076c3c-9737-4442-d6f1-1d94f8d1e718"
      },
      "execution_count": 22,
      "outputs": [
        {
          "output_type": "execute_result",
          "data": {
            "text/plain": [
              "0.9727469135802469"
            ]
          },
          "metadata": {},
          "execution_count": 22
        }
      ]
    },
    {
      "cell_type": "code",
      "source": [
        "grid_search.score(X_testZM, y_testZM)"
      ],
      "metadata": {
        "colab": {
          "base_uri": "https://localhost:8080/"
        },
        "id": "_lEnyjIqSpDN",
        "outputId": "d4a21738-d8a3-4c52-ef43-95c5f9bf957f"
      },
      "execution_count": 23,
      "outputs": [
        {
          "output_type": "execute_result",
          "data": {
            "text/plain": [
              "0.9509803921568627"
            ]
          },
          "metadata": {},
          "execution_count": 23
        }
      ]
    },
    {
      "cell_type": "code",
      "source": [
        "#Variable Importance Ranking\n",
        "final_modelZM = grid_search.best_estimator_\n",
        "feature_imp = pd.Series(final_modelZM.feature_importances_,index=X.columns).sort_values(ascending=False)\n",
        "\n",
        "feature_imp"
      ],
      "metadata": {
        "colab": {
          "base_uri": "https://localhost:8080/"
        },
        "id": "yS1xHDCUSuS0",
        "outputId": "bf3690b8-d9e5-474a-9d1d-1d2eb7d108a1"
      },
      "execution_count": 24,
      "outputs": [
        {
          "output_type": "execute_result",
          "data": {
            "text/plain": [
              "RM         0.382712\n",
              "LSTAT      0.225458\n",
              "INDUS      0.069583\n",
              "PTRATIO    0.068702\n",
              "TAX        0.052521\n",
              "DIS        0.042677\n",
              "CRIM       0.039945\n",
              "ZN         0.036238\n",
              "NOX        0.032887\n",
              "AGE        0.023197\n",
              "RAD        0.020188\n",
              "CHAS       0.005892\n",
              "dtype: float64"
            ]
          },
          "metadata": {},
          "execution_count": 24
        }
      ]
    },
    {
      "cell_type": "code",
      "source": [
        "#get the confusion matrix for the validation dataset\n",
        "from sklearn.metrics import confusion_matrix\n",
        "rf_modelZM.fit(X_trainZM, y_trainZM)\n",
        "y_predZM = rf_modelZM.predict(X_testZM)\n",
        "conf_matrix = confusion_matrix(y_testZM, y_predZM)\n",
        "print(conf_matrix)"
      ],
      "metadata": {
        "colab": {
          "base_uri": "https://localhost:8080/"
        },
        "id": "mNvIkMXUPr_e",
        "outputId": "902d252f-20df-433a-f71a-702c9350586a"
      },
      "execution_count": 25,
      "outputs": [
        {
          "output_type": "stream",
          "name": "stdout",
          "text": [
            "[[89  2]\n",
            " [ 3  8]]\n"
          ]
        }
      ]
    },
    {
      "cell_type": "code",
      "source": [
        "#Anwsering Question 1"
      ],
      "metadata": {
        "id": "Znkpi3SPaP2q"
      },
      "execution_count": 26,
      "outputs": []
    },
    {
      "cell_type": "markdown",
      "source": [
        "1.\tSummarize the random forest model results.\n",
        "-\tWhat is the optimal number of selected features?\n",
        "-\tPlease provide the variable importance ranking. Do they make sense to you?\n",
        "-\tPlease provide the confusion matrix for the validation dataset **bold text**\n",
        "\n",
        "The optimal number of selected features is 3.\n",
        "\n",
        "The variable importance ranking is as follows:\n",
        "\n",
        "RM         0.382712\n",
        "LSTAT      0.225458\n",
        "INDUS      0.069583\n",
        "PTRATIO    0.068702\n",
        "TAX        0.052521\n",
        "DIS        0.042677\n",
        "CRIM       0.039945\n",
        "ZN         0.036238\n",
        "NOX        0.032887\n",
        "AGE        0.023197\n",
        "RAD        0.020188\n",
        "CHAS       0.005892\n",
        "\n",
        "This does make sense to me. Based off my confusion matrix, my model is accurately predicting a large number of true negatives and true positives...more than false negatives or false positives. Thus, this tells me that the majority of owner-occupied homes do not exceed the median value.\n",
        "\n",
        "The reason this importance ranking makes sense to me is because it shows RM (rooms per dwelling) as the first, this would leave me to believe that less rooms = lower house price, thus being below the median. You can also see the second variable is LSTAT which represents the % of lower status of the population, also another indicator of lower home prices based off lower status. INDUS being third tells me there is not alot of non-retail business acres driving the lower than median house prices. These all align with what I am seeing from my confusion matrix.\n",
        "\n",
        "Confusion Matrix:\n",
        "\n",
        " [89  2]\n",
        "\n",
        " [3   8]"
      ],
      "metadata": {
        "id": "J1YPe0TaZTDX"
      }
    },
    {
      "cell_type": "code",
      "source": [
        "#implementing SVM Based off these results above...\n",
        "#import necessary SVC packages\n",
        "from sklearn.svm import SVC"
      ],
      "metadata": {
        "id": "UDoDF_yeUA8p"
      },
      "execution_count": 27,
      "outputs": []
    },
    {
      "cell_type": "code",
      "source": [
        "from sklearn.preprocessing import StandardScaler\n",
        "X=StandardScaler().fit_transform(X)"
      ],
      "metadata": {
        "id": "j-lfkcgwi_5W"
      },
      "execution_count": 28,
      "outputs": []
    },
    {
      "cell_type": "code",
      "source": [
        "print (np.mean(X, axis=0))\n",
        "print(np.std(X,axis=0))"
      ],
      "metadata": {
        "colab": {
          "base_uri": "https://localhost:8080/"
        },
        "id": "9p1o9NM0fwMy",
        "outputId": "b9544dd2-0482-45b5-9ab4-acda2f15e1e9"
      },
      "execution_count": 29,
      "outputs": [
        {
          "output_type": "stream",
          "name": "stdout",
          "text": [
            "[-1.12338772e-16  7.89881994e-17  2.10635198e-16 -3.51058664e-17\n",
            " -1.96592852e-16 -1.08828186e-16 -1.47444639e-16 -8.42540793e-17\n",
            " -1.12338772e-16  0.00000000e+00 -4.21270397e-16 -3.08931624e-16]\n",
            "[1. 1. 1. 1. 1. 1. 1. 1. 1. 1. 1. 1.]\n"
          ]
        }
      ]
    },
    {
      "cell_type": "code",
      "source": [
        "#train the model with a linear kernel\n",
        "svc_model_linearZM = SVC(kernel='linear')\n",
        "svc_model_linearZM.fit(X_trainZM,y_trainZM)\n"
      ],
      "metadata": {
        "colab": {
          "base_uri": "https://localhost:8080/"
        },
        "id": "V9kSbO0nbJnG",
        "outputId": "ea2f2fe1-5272-4a6d-88ea-74f5944309a0"
      },
      "execution_count": 30,
      "outputs": [
        {
          "output_type": "execute_result",
          "data": {
            "text/plain": [
              "SVC(kernel='linear')"
            ]
          },
          "metadata": {},
          "execution_count": 30
        }
      ]
    },
    {
      "cell_type": "code",
      "source": [
        "#train the model with a radial kernel\n",
        "svc_model_radialZM = SVC(kernel='rbf')\n",
        "svc_model_radialZM.fit(X_trainZM,y_trainZM)"
      ],
      "metadata": {
        "colab": {
          "base_uri": "https://localhost:8080/"
        },
        "id": "HnNv4erncA19",
        "outputId": "cd1de6b9-bd4e-4636-ce97-d5c0bebbe896"
      },
      "execution_count": 31,
      "outputs": [
        {
          "output_type": "execute_result",
          "data": {
            "text/plain": [
              "SVC()"
            ]
          },
          "metadata": {},
          "execution_count": 31
        }
      ]
    },
    {
      "cell_type": "code",
      "source": [
        "#comparing scores of linear vs radial\n",
        "svc_model_linearZM.score(X_testZM,y_testZM)"
      ],
      "metadata": {
        "colab": {
          "base_uri": "https://localhost:8080/"
        },
        "id": "gNOcyJ44cbvd",
        "outputId": "901024c4-ed32-4f47-f7cf-570e911c287b"
      },
      "execution_count": 32,
      "outputs": [
        {
          "output_type": "execute_result",
          "data": {
            "text/plain": [
              "0.9509803921568627"
            ]
          },
          "metadata": {},
          "execution_count": 32
        }
      ]
    },
    {
      "cell_type": "code",
      "source": [
        "svc_model_radialZM.score(X_testZM,y_testZM)"
      ],
      "metadata": {
        "colab": {
          "base_uri": "https://localhost:8080/"
        },
        "id": "X0u3EKrYco8N",
        "outputId": "93059597-8413-4e39-ab3f-8b7ce742dd20"
      },
      "execution_count": 33,
      "outputs": [
        {
          "output_type": "execute_result",
          "data": {
            "text/plain": [
              "0.8921568627450981"
            ]
          },
          "metadata": {},
          "execution_count": 33
        }
      ]
    },
    {
      "cell_type": "code",
      "source": [
        "#tuning the model with kernels\n",
        "param_svc = {'C': [0.01,0.1,1,5,10,100], 'gamma': [0.1,0.25,0.5,0.75,1], 'kernel':['rbf','linear']}\n",
        "svc_model_ZM_2 = SVC()\n",
        "grid_search_svc = GridSearchCV(estimator=svc_model_ZM_2, param_grid=param_svc, verbose=3,cv=10)\n",
        "grid_search_svc.fit(X_trainZM, y_trainZM)"
      ],
      "metadata": {
        "colab": {
          "base_uri": "https://localhost:8080/"
        },
        "id": "zngEgcHoctDV",
        "outputId": "2aab41ca-da4d-452c-f7ea-d01cda470351"
      },
      "execution_count": 34,
      "outputs": [
        {
          "output_type": "stream",
          "name": "stdout",
          "text": [
            "Fitting 10 folds for each of 60 candidates, totalling 600 fits\n",
            "[CV 1/10] END ....C=0.01, gamma=0.1, kernel=rbf;, score=0.829 total time=   0.0s\n",
            "[CV 2/10] END ....C=0.01, gamma=0.1, kernel=rbf;, score=0.805 total time=   0.0s\n",
            "[CV 3/10] END ....C=0.01, gamma=0.1, kernel=rbf;, score=0.805 total time=   0.0s\n",
            "[CV 4/10] END ....C=0.01, gamma=0.1, kernel=rbf;, score=0.805 total time=   0.0s\n",
            "[CV 5/10] END ....C=0.01, gamma=0.1, kernel=rbf;, score=0.825 total time=   0.0s\n",
            "[CV 6/10] END ....C=0.01, gamma=0.1, kernel=rbf;, score=0.825 total time=   0.0s\n",
            "[CV 7/10] END ....C=0.01, gamma=0.1, kernel=rbf;, score=0.825 total time=   0.0s\n",
            "[CV 8/10] END ....C=0.01, gamma=0.1, kernel=rbf;, score=0.825 total time=   0.0s\n",
            "[CV 9/10] END ....C=0.01, gamma=0.1, kernel=rbf;, score=0.825 total time=   0.0s\n",
            "[CV 10/10] END ...C=0.01, gamma=0.1, kernel=rbf;, score=0.825 total time=   0.0s\n",
            "[CV 1/10] END .C=0.01, gamma=0.1, kernel=linear;, score=0.902 total time=   0.0s\n",
            "[CV 2/10] END .C=0.01, gamma=0.1, kernel=linear;, score=0.951 total time=   0.0s\n",
            "[CV 3/10] END .C=0.01, gamma=0.1, kernel=linear;, score=0.927 total time=   0.0s\n",
            "[CV 4/10] END .C=0.01, gamma=0.1, kernel=linear;, score=0.854 total time=   0.0s\n",
            "[CV 5/10] END .C=0.01, gamma=0.1, kernel=linear;, score=0.925 total time=   0.0s\n",
            "[CV 6/10] END .C=0.01, gamma=0.1, kernel=linear;, score=0.950 total time=   0.0s\n",
            "[CV 7/10] END .C=0.01, gamma=0.1, kernel=linear;, score=0.900 total time=   0.0s\n",
            "[CV 8/10] END .C=0.01, gamma=0.1, kernel=linear;, score=0.875 total time=   0.0s\n",
            "[CV 9/10] END .C=0.01, gamma=0.1, kernel=linear;, score=0.950 total time=   0.0s\n",
            "[CV 10/10] END C=0.01, gamma=0.1, kernel=linear;, score=0.850 total time=   0.0s\n",
            "[CV 1/10] END ...C=0.01, gamma=0.25, kernel=rbf;, score=0.829 total time=   0.0s\n",
            "[CV 2/10] END ...C=0.01, gamma=0.25, kernel=rbf;, score=0.805 total time=   0.0s\n",
            "[CV 3/10] END ...C=0.01, gamma=0.25, kernel=rbf;, score=0.805 total time=   0.0s\n",
            "[CV 4/10] END ...C=0.01, gamma=0.25, kernel=rbf;, score=0.805 total time=   0.0s\n",
            "[CV 5/10] END ...C=0.01, gamma=0.25, kernel=rbf;, score=0.825 total time=   0.0s\n",
            "[CV 6/10] END ...C=0.01, gamma=0.25, kernel=rbf;, score=0.825 total time=   0.0s\n",
            "[CV 7/10] END ...C=0.01, gamma=0.25, kernel=rbf;, score=0.825 total time=   0.0s\n",
            "[CV 8/10] END ...C=0.01, gamma=0.25, kernel=rbf;, score=0.825 total time=   0.0s\n",
            "[CV 9/10] END ...C=0.01, gamma=0.25, kernel=rbf;, score=0.825 total time=   0.0s\n",
            "[CV 10/10] END ..C=0.01, gamma=0.25, kernel=rbf;, score=0.825 total time=   0.0s\n",
            "[CV 1/10] END C=0.01, gamma=0.25, kernel=linear;, score=0.902 total time=   0.0s\n",
            "[CV 2/10] END C=0.01, gamma=0.25, kernel=linear;, score=0.951 total time=   0.0s\n",
            "[CV 3/10] END C=0.01, gamma=0.25, kernel=linear;, score=0.927 total time=   0.0s\n",
            "[CV 4/10] END C=0.01, gamma=0.25, kernel=linear;, score=0.854 total time=   0.0s\n",
            "[CV 5/10] END C=0.01, gamma=0.25, kernel=linear;, score=0.925 total time=   0.0s\n",
            "[CV 6/10] END C=0.01, gamma=0.25, kernel=linear;, score=0.950 total time=   0.0s\n",
            "[CV 7/10] END C=0.01, gamma=0.25, kernel=linear;, score=0.900 total time=   0.0s\n",
            "[CV 8/10] END C=0.01, gamma=0.25, kernel=linear;, score=0.875 total time=   0.0s\n",
            "[CV 9/10] END C=0.01, gamma=0.25, kernel=linear;, score=0.950 total time=   0.0s\n",
            "[CV 10/10] END C=0.01, gamma=0.25, kernel=linear;, score=0.850 total time=   0.0s\n",
            "[CV 1/10] END ....C=0.01, gamma=0.5, kernel=rbf;, score=0.829 total time=   0.0s\n",
            "[CV 2/10] END ....C=0.01, gamma=0.5, kernel=rbf;, score=0.805 total time=   0.0s\n",
            "[CV 3/10] END ....C=0.01, gamma=0.5, kernel=rbf;, score=0.805 total time=   0.0s\n",
            "[CV 4/10] END ....C=0.01, gamma=0.5, kernel=rbf;, score=0.805 total time=   0.0s\n",
            "[CV 5/10] END ....C=0.01, gamma=0.5, kernel=rbf;, score=0.825 total time=   0.0s\n",
            "[CV 6/10] END ....C=0.01, gamma=0.5, kernel=rbf;, score=0.825 total time=   0.0s\n",
            "[CV 7/10] END ....C=0.01, gamma=0.5, kernel=rbf;, score=0.825 total time=   0.0s\n",
            "[CV 8/10] END ....C=0.01, gamma=0.5, kernel=rbf;, score=0.825 total time=   0.0s\n",
            "[CV 9/10] END ....C=0.01, gamma=0.5, kernel=rbf;, score=0.825 total time=   0.0s\n",
            "[CV 10/10] END ...C=0.01, gamma=0.5, kernel=rbf;, score=0.825 total time=   0.0s\n",
            "[CV 1/10] END .C=0.01, gamma=0.5, kernel=linear;, score=0.902 total time=   0.0s\n",
            "[CV 2/10] END .C=0.01, gamma=0.5, kernel=linear;, score=0.951 total time=   0.0s\n",
            "[CV 3/10] END .C=0.01, gamma=0.5, kernel=linear;, score=0.927 total time=   0.0s\n",
            "[CV 4/10] END .C=0.01, gamma=0.5, kernel=linear;, score=0.854 total time=   0.0s\n",
            "[CV 5/10] END .C=0.01, gamma=0.5, kernel=linear;, score=0.925 total time=   0.0s\n",
            "[CV 6/10] END .C=0.01, gamma=0.5, kernel=linear;, score=0.950 total time=   0.0s\n",
            "[CV 7/10] END .C=0.01, gamma=0.5, kernel=linear;, score=0.900 total time=   0.0s\n",
            "[CV 8/10] END .C=0.01, gamma=0.5, kernel=linear;, score=0.875 total time=   0.0s\n",
            "[CV 9/10] END .C=0.01, gamma=0.5, kernel=linear;, score=0.950 total time=   0.0s\n",
            "[CV 10/10] END C=0.01, gamma=0.5, kernel=linear;, score=0.850 total time=   0.0s\n",
            "[CV 1/10] END ...C=0.01, gamma=0.75, kernel=rbf;, score=0.829 total time=   0.0s\n",
            "[CV 2/10] END ...C=0.01, gamma=0.75, kernel=rbf;, score=0.805 total time=   0.0s\n",
            "[CV 3/10] END ...C=0.01, gamma=0.75, kernel=rbf;, score=0.805 total time=   0.0s\n",
            "[CV 4/10] END ...C=0.01, gamma=0.75, kernel=rbf;, score=0.805 total time=   0.0s\n",
            "[CV 5/10] END ...C=0.01, gamma=0.75, kernel=rbf;, score=0.825 total time=   0.0s\n",
            "[CV 6/10] END ...C=0.01, gamma=0.75, kernel=rbf;, score=0.825 total time=   0.0s\n",
            "[CV 7/10] END ...C=0.01, gamma=0.75, kernel=rbf;, score=0.825 total time=   0.0s\n",
            "[CV 8/10] END ...C=0.01, gamma=0.75, kernel=rbf;, score=0.825 total time=   0.0s\n",
            "[CV 9/10] END ...C=0.01, gamma=0.75, kernel=rbf;, score=0.825 total time=   0.0s\n",
            "[CV 10/10] END ..C=0.01, gamma=0.75, kernel=rbf;, score=0.825 total time=   0.0s\n",
            "[CV 1/10] END C=0.01, gamma=0.75, kernel=linear;, score=0.902 total time=   0.0s\n",
            "[CV 2/10] END C=0.01, gamma=0.75, kernel=linear;, score=0.951 total time=   0.0s\n",
            "[CV 3/10] END C=0.01, gamma=0.75, kernel=linear;, score=0.927 total time=   0.0s\n",
            "[CV 4/10] END C=0.01, gamma=0.75, kernel=linear;, score=0.854 total time=   0.0s\n",
            "[CV 5/10] END C=0.01, gamma=0.75, kernel=linear;, score=0.925 total time=   0.0s\n",
            "[CV 6/10] END C=0.01, gamma=0.75, kernel=linear;, score=0.950 total time=   0.0s\n",
            "[CV 7/10] END C=0.01, gamma=0.75, kernel=linear;, score=0.900 total time=   0.0s\n",
            "[CV 8/10] END C=0.01, gamma=0.75, kernel=linear;, score=0.875 total time=   0.0s\n",
            "[CV 9/10] END C=0.01, gamma=0.75, kernel=linear;, score=0.950 total time=   0.0s\n",
            "[CV 10/10] END C=0.01, gamma=0.75, kernel=linear;, score=0.850 total time=   0.0s\n",
            "[CV 1/10] END ......C=0.01, gamma=1, kernel=rbf;, score=0.829 total time=   0.0s\n",
            "[CV 2/10] END ......C=0.01, gamma=1, kernel=rbf;, score=0.805 total time=   0.0s\n",
            "[CV 3/10] END ......C=0.01, gamma=1, kernel=rbf;, score=0.805 total time=   0.0s\n",
            "[CV 4/10] END ......C=0.01, gamma=1, kernel=rbf;, score=0.805 total time=   0.0s\n",
            "[CV 5/10] END ......C=0.01, gamma=1, kernel=rbf;, score=0.825 total time=   0.0s\n",
            "[CV 6/10] END ......C=0.01, gamma=1, kernel=rbf;, score=0.825 total time=   0.0s\n",
            "[CV 7/10] END ......C=0.01, gamma=1, kernel=rbf;, score=0.825 total time=   0.0s\n",
            "[CV 8/10] END ......C=0.01, gamma=1, kernel=rbf;, score=0.825 total time=   0.0s\n",
            "[CV 9/10] END ......C=0.01, gamma=1, kernel=rbf;, score=0.825 total time=   0.0s\n",
            "[CV 10/10] END .....C=0.01, gamma=1, kernel=rbf;, score=0.825 total time=   0.0s\n",
            "[CV 1/10] END ...C=0.01, gamma=1, kernel=linear;, score=0.902 total time=   0.0s\n",
            "[CV 2/10] END ...C=0.01, gamma=1, kernel=linear;, score=0.951 total time=   0.0s\n",
            "[CV 3/10] END ...C=0.01, gamma=1, kernel=linear;, score=0.927 total time=   0.0s\n",
            "[CV 4/10] END ...C=0.01, gamma=1, kernel=linear;, score=0.854 total time=   0.0s\n",
            "[CV 5/10] END ...C=0.01, gamma=1, kernel=linear;, score=0.925 total time=   0.0s\n",
            "[CV 6/10] END ...C=0.01, gamma=1, kernel=linear;, score=0.950 total time=   0.0s\n",
            "[CV 7/10] END ...C=0.01, gamma=1, kernel=linear;, score=0.900 total time=   0.0s\n",
            "[CV 8/10] END ...C=0.01, gamma=1, kernel=linear;, score=0.875 total time=   0.0s\n",
            "[CV 9/10] END ...C=0.01, gamma=1, kernel=linear;, score=0.950 total time=   0.0s\n",
            "[CV 10/10] END ..C=0.01, gamma=1, kernel=linear;, score=0.850 total time=   0.0s\n",
            "[CV 1/10] END .....C=0.1, gamma=0.1, kernel=rbf;, score=0.829 total time=   0.0s\n",
            "[CV 2/10] END .....C=0.1, gamma=0.1, kernel=rbf;, score=0.805 total time=   0.0s\n",
            "[CV 3/10] END .....C=0.1, gamma=0.1, kernel=rbf;, score=0.805 total time=   0.0s\n",
            "[CV 4/10] END .....C=0.1, gamma=0.1, kernel=rbf;, score=0.805 total time=   0.0s\n",
            "[CV 5/10] END .....C=0.1, gamma=0.1, kernel=rbf;, score=0.825 total time=   0.0s\n",
            "[CV 6/10] END .....C=0.1, gamma=0.1, kernel=rbf;, score=0.825 total time=   0.0s\n",
            "[CV 7/10] END .....C=0.1, gamma=0.1, kernel=rbf;, score=0.825 total time=   0.0s\n",
            "[CV 8/10] END .....C=0.1, gamma=0.1, kernel=rbf;, score=0.825 total time=   0.0s\n",
            "[CV 9/10] END .....C=0.1, gamma=0.1, kernel=rbf;, score=0.825 total time=   0.0s\n",
            "[CV 10/10] END ....C=0.1, gamma=0.1, kernel=rbf;, score=0.825 total time=   0.0s\n",
            "[CV 1/10] END ..C=0.1, gamma=0.1, kernel=linear;, score=0.927 total time=   0.0s\n",
            "[CV 2/10] END ..C=0.1, gamma=0.1, kernel=linear;, score=0.951 total time=   0.0s\n",
            "[CV 3/10] END ..C=0.1, gamma=0.1, kernel=linear;, score=0.951 total time=   0.1s\n",
            "[CV 4/10] END ..C=0.1, gamma=0.1, kernel=linear;, score=0.854 total time=   0.0s\n",
            "[CV 5/10] END ..C=0.1, gamma=0.1, kernel=linear;, score=0.925 total time=   0.0s\n",
            "[CV 6/10] END ..C=0.1, gamma=0.1, kernel=linear;, score=0.975 total time=   0.0s\n",
            "[CV 7/10] END ..C=0.1, gamma=0.1, kernel=linear;, score=0.925 total time=   0.1s\n",
            "[CV 8/10] END ..C=0.1, gamma=0.1, kernel=linear;, score=0.950 total time=   0.1s\n",
            "[CV 9/10] END ..C=0.1, gamma=0.1, kernel=linear;, score=0.950 total time=   0.0s\n",
            "[CV 10/10] END .C=0.1, gamma=0.1, kernel=linear;, score=0.900 total time=   0.0s\n",
            "[CV 1/10] END ....C=0.1, gamma=0.25, kernel=rbf;, score=0.829 total time=   0.0s\n",
            "[CV 2/10] END ....C=0.1, gamma=0.25, kernel=rbf;, score=0.805 total time=   0.0s\n",
            "[CV 3/10] END ....C=0.1, gamma=0.25, kernel=rbf;, score=0.805 total time=   0.0s\n",
            "[CV 4/10] END ....C=0.1, gamma=0.25, kernel=rbf;, score=0.805 total time=   0.0s\n",
            "[CV 5/10] END ....C=0.1, gamma=0.25, kernel=rbf;, score=0.825 total time=   0.0s\n",
            "[CV 6/10] END ....C=0.1, gamma=0.25, kernel=rbf;, score=0.825 total time=   0.0s\n",
            "[CV 7/10] END ....C=0.1, gamma=0.25, kernel=rbf;, score=0.825 total time=   0.0s\n",
            "[CV 8/10] END ....C=0.1, gamma=0.25, kernel=rbf;, score=0.825 total time=   0.0s\n",
            "[CV 9/10] END ....C=0.1, gamma=0.25, kernel=rbf;, score=0.825 total time=   0.0s\n",
            "[CV 10/10] END ...C=0.1, gamma=0.25, kernel=rbf;, score=0.825 total time=   0.0s\n",
            "[CV 1/10] END .C=0.1, gamma=0.25, kernel=linear;, score=0.927 total time=   0.0s\n",
            "[CV 2/10] END .C=0.1, gamma=0.25, kernel=linear;, score=0.951 total time=   0.0s\n",
            "[CV 3/10] END .C=0.1, gamma=0.25, kernel=linear;, score=0.951 total time=   0.1s\n",
            "[CV 4/10] END .C=0.1, gamma=0.25, kernel=linear;, score=0.854 total time=   0.0s\n",
            "[CV 5/10] END .C=0.1, gamma=0.25, kernel=linear;, score=0.925 total time=   0.0s\n",
            "[CV 6/10] END .C=0.1, gamma=0.25, kernel=linear;, score=0.975 total time=   0.0s\n",
            "[CV 7/10] END .C=0.1, gamma=0.25, kernel=linear;, score=0.925 total time=   0.1s\n",
            "[CV 8/10] END .C=0.1, gamma=0.25, kernel=linear;, score=0.950 total time=   0.1s\n",
            "[CV 9/10] END .C=0.1, gamma=0.25, kernel=linear;, score=0.950 total time=   0.1s\n",
            "[CV 10/10] END C=0.1, gamma=0.25, kernel=linear;, score=0.900 total time=   0.0s\n",
            "[CV 1/10] END .....C=0.1, gamma=0.5, kernel=rbf;, score=0.829 total time=   0.0s\n",
            "[CV 2/10] END .....C=0.1, gamma=0.5, kernel=rbf;, score=0.805 total time=   0.0s\n",
            "[CV 3/10] END .....C=0.1, gamma=0.5, kernel=rbf;, score=0.805 total time=   0.0s\n",
            "[CV 4/10] END .....C=0.1, gamma=0.5, kernel=rbf;, score=0.805 total time=   0.0s\n",
            "[CV 5/10] END .....C=0.1, gamma=0.5, kernel=rbf;, score=0.825 total time=   0.0s\n",
            "[CV 6/10] END .....C=0.1, gamma=0.5, kernel=rbf;, score=0.825 total time=   0.0s\n",
            "[CV 7/10] END .....C=0.1, gamma=0.5, kernel=rbf;, score=0.825 total time=   0.0s\n",
            "[CV 8/10] END .....C=0.1, gamma=0.5, kernel=rbf;, score=0.825 total time=   0.0s\n",
            "[CV 9/10] END .....C=0.1, gamma=0.5, kernel=rbf;, score=0.825 total time=   0.0s\n",
            "[CV 10/10] END ....C=0.1, gamma=0.5, kernel=rbf;, score=0.825 total time=   0.0s\n",
            "[CV 1/10] END ..C=0.1, gamma=0.5, kernel=linear;, score=0.927 total time=   0.0s\n",
            "[CV 2/10] END ..C=0.1, gamma=0.5, kernel=linear;, score=0.951 total time=   0.0s\n",
            "[CV 3/10] END ..C=0.1, gamma=0.5, kernel=linear;, score=0.951 total time=   0.0s\n",
            "[CV 4/10] END ..C=0.1, gamma=0.5, kernel=linear;, score=0.854 total time=   0.0s\n",
            "[CV 5/10] END ..C=0.1, gamma=0.5, kernel=linear;, score=0.925 total time=   0.1s\n",
            "[CV 6/10] END ..C=0.1, gamma=0.5, kernel=linear;, score=0.975 total time=   0.0s\n",
            "[CV 7/10] END ..C=0.1, gamma=0.5, kernel=linear;, score=0.925 total time=   0.1s\n",
            "[CV 8/10] END ..C=0.1, gamma=0.5, kernel=linear;, score=0.950 total time=   0.1s\n",
            "[CV 9/10] END ..C=0.1, gamma=0.5, kernel=linear;, score=0.950 total time=   0.1s\n",
            "[CV 10/10] END .C=0.1, gamma=0.5, kernel=linear;, score=0.900 total time=   0.0s\n",
            "[CV 1/10] END ....C=0.1, gamma=0.75, kernel=rbf;, score=0.829 total time=   0.0s\n",
            "[CV 2/10] END ....C=0.1, gamma=0.75, kernel=rbf;, score=0.805 total time=   0.0s\n",
            "[CV 3/10] END ....C=0.1, gamma=0.75, kernel=rbf;, score=0.805 total time=   0.0s\n",
            "[CV 4/10] END ....C=0.1, gamma=0.75, kernel=rbf;, score=0.805 total time=   0.0s\n",
            "[CV 5/10] END ....C=0.1, gamma=0.75, kernel=rbf;, score=0.825 total time=   0.0s\n",
            "[CV 6/10] END ....C=0.1, gamma=0.75, kernel=rbf;, score=0.825 total time=   0.0s\n",
            "[CV 7/10] END ....C=0.1, gamma=0.75, kernel=rbf;, score=0.825 total time=   0.0s\n",
            "[CV 8/10] END ....C=0.1, gamma=0.75, kernel=rbf;, score=0.825 total time=   0.0s\n",
            "[CV 9/10] END ....C=0.1, gamma=0.75, kernel=rbf;, score=0.825 total time=   0.0s\n",
            "[CV 10/10] END ...C=0.1, gamma=0.75, kernel=rbf;, score=0.825 total time=   0.0s\n",
            "[CV 1/10] END .C=0.1, gamma=0.75, kernel=linear;, score=0.927 total time=   0.0s\n",
            "[CV 2/10] END .C=0.1, gamma=0.75, kernel=linear;, score=0.951 total time=   0.0s\n",
            "[CV 3/10] END .C=0.1, gamma=0.75, kernel=linear;, score=0.951 total time=   0.1s\n",
            "[CV 4/10] END .C=0.1, gamma=0.75, kernel=linear;, score=0.854 total time=   0.0s\n",
            "[CV 5/10] END .C=0.1, gamma=0.75, kernel=linear;, score=0.925 total time=   0.0s\n",
            "[CV 6/10] END .C=0.1, gamma=0.75, kernel=linear;, score=0.975 total time=   0.0s\n",
            "[CV 7/10] END .C=0.1, gamma=0.75, kernel=linear;, score=0.925 total time=   0.1s\n",
            "[CV 8/10] END .C=0.1, gamma=0.75, kernel=linear;, score=0.950 total time=   0.1s\n",
            "[CV 9/10] END .C=0.1, gamma=0.75, kernel=linear;, score=0.950 total time=   0.1s\n",
            "[CV 10/10] END C=0.1, gamma=0.75, kernel=linear;, score=0.900 total time=   0.0s\n",
            "[CV 1/10] END .......C=0.1, gamma=1, kernel=rbf;, score=0.829 total time=   0.0s\n",
            "[CV 2/10] END .......C=0.1, gamma=1, kernel=rbf;, score=0.805 total time=   0.0s\n",
            "[CV 3/10] END .......C=0.1, gamma=1, kernel=rbf;, score=0.805 total time=   0.0s\n",
            "[CV 4/10] END .......C=0.1, gamma=1, kernel=rbf;, score=0.805 total time=   0.0s\n",
            "[CV 5/10] END .......C=0.1, gamma=1, kernel=rbf;, score=0.825 total time=   0.0s\n",
            "[CV 6/10] END .......C=0.1, gamma=1, kernel=rbf;, score=0.825 total time=   0.0s\n",
            "[CV 7/10] END .......C=0.1, gamma=1, kernel=rbf;, score=0.825 total time=   0.0s\n",
            "[CV 8/10] END .......C=0.1, gamma=1, kernel=rbf;, score=0.825 total time=   0.0s\n",
            "[CV 9/10] END .......C=0.1, gamma=1, kernel=rbf;, score=0.825 total time=   0.0s\n",
            "[CV 10/10] END ......C=0.1, gamma=1, kernel=rbf;, score=0.825 total time=   0.0s\n",
            "[CV 1/10] END ....C=0.1, gamma=1, kernel=linear;, score=0.927 total time=   0.0s\n",
            "[CV 2/10] END ....C=0.1, gamma=1, kernel=linear;, score=0.951 total time=   0.0s\n",
            "[CV 3/10] END ....C=0.1, gamma=1, kernel=linear;, score=0.951 total time=   0.1s\n",
            "[CV 4/10] END ....C=0.1, gamma=1, kernel=linear;, score=0.854 total time=   0.0s\n",
            "[CV 5/10] END ....C=0.1, gamma=1, kernel=linear;, score=0.925 total time=   0.0s\n",
            "[CV 6/10] END ....C=0.1, gamma=1, kernel=linear;, score=0.975 total time=   0.0s\n",
            "[CV 7/10] END ....C=0.1, gamma=1, kernel=linear;, score=0.925 total time=   0.1s\n",
            "[CV 8/10] END ....C=0.1, gamma=1, kernel=linear;, score=0.950 total time=   0.1s\n",
            "[CV 9/10] END ....C=0.1, gamma=1, kernel=linear;, score=0.950 total time=   0.0s\n",
            "[CV 10/10] END ...C=0.1, gamma=1, kernel=linear;, score=0.900 total time=   0.0s\n",
            "[CV 1/10] END .......C=1, gamma=0.1, kernel=rbf;, score=0.854 total time=   0.0s\n",
            "[CV 2/10] END .......C=1, gamma=0.1, kernel=rbf;, score=0.878 total time=   0.0s\n",
            "[CV 3/10] END .......C=1, gamma=0.1, kernel=rbf;, score=0.902 total time=   0.0s\n",
            "[CV 4/10] END .......C=1, gamma=0.1, kernel=rbf;, score=0.805 total time=   0.0s\n",
            "[CV 5/10] END .......C=1, gamma=0.1, kernel=rbf;, score=0.900 total time=   0.0s\n",
            "[CV 6/10] END .......C=1, gamma=0.1, kernel=rbf;, score=0.900 total time=   0.0s\n",
            "[CV 7/10] END .......C=1, gamma=0.1, kernel=rbf;, score=0.850 total time=   0.0s\n",
            "[CV 8/10] END .......C=1, gamma=0.1, kernel=rbf;, score=0.850 total time=   0.0s\n",
            "[CV 9/10] END .......C=1, gamma=0.1, kernel=rbf;, score=0.900 total time=   0.0s\n",
            "[CV 10/10] END ......C=1, gamma=0.1, kernel=rbf;, score=0.825 total time=   0.0s\n",
            "[CV 1/10] END ....C=1, gamma=0.1, kernel=linear;, score=0.927 total time=   0.2s\n",
            "[CV 2/10] END ....C=1, gamma=0.1, kernel=linear;, score=1.000 total time=   0.6s\n",
            "[CV 3/10] END ....C=1, gamma=0.1, kernel=linear;, score=0.927 total time=   0.5s\n",
            "[CV 4/10] END ....C=1, gamma=0.1, kernel=linear;, score=0.878 total time=   0.7s\n",
            "[CV 5/10] END ....C=1, gamma=0.1, kernel=linear;, score=0.925 total time=   0.4s\n",
            "[CV 6/10] END ....C=1, gamma=0.1, kernel=linear;, score=1.000 total time=   0.5s\n",
            "[CV 7/10] END ....C=1, gamma=0.1, kernel=linear;, score=0.950 total time=   0.4s\n",
            "[CV 8/10] END ....C=1, gamma=0.1, kernel=linear;, score=0.950 total time=   0.4s\n",
            "[CV 9/10] END ....C=1, gamma=0.1, kernel=linear;, score=0.975 total time=   0.1s\n",
            "[CV 10/10] END ...C=1, gamma=0.1, kernel=linear;, score=0.875 total time=   0.3s\n",
            "[CV 1/10] END ......C=1, gamma=0.25, kernel=rbf;, score=0.829 total time=   0.0s\n",
            "[CV 2/10] END ......C=1, gamma=0.25, kernel=rbf;, score=0.805 total time=   0.0s\n",
            "[CV 3/10] END ......C=1, gamma=0.25, kernel=rbf;, score=0.805 total time=   0.0s\n",
            "[CV 4/10] END ......C=1, gamma=0.25, kernel=rbf;, score=0.805 total time=   0.0s\n",
            "[CV 5/10] END ......C=1, gamma=0.25, kernel=rbf;, score=0.825 total time=   0.0s\n",
            "[CV 6/10] END ......C=1, gamma=0.25, kernel=rbf;, score=0.850 total time=   0.0s\n",
            "[CV 7/10] END ......C=1, gamma=0.25, kernel=rbf;, score=0.825 total time=   0.0s\n",
            "[CV 8/10] END ......C=1, gamma=0.25, kernel=rbf;, score=0.825 total time=   0.0s\n",
            "[CV 9/10] END ......C=1, gamma=0.25, kernel=rbf;, score=0.850 total time=   0.0s\n",
            "[CV 10/10] END .....C=1, gamma=0.25, kernel=rbf;, score=0.825 total time=   0.0s\n",
            "[CV 1/10] END ...C=1, gamma=0.25, kernel=linear;, score=0.927 total time=   0.2s\n",
            "[CV 2/10] END ...C=1, gamma=0.25, kernel=linear;, score=1.000 total time=   0.4s\n",
            "[CV 3/10] END ...C=1, gamma=0.25, kernel=linear;, score=0.927 total time=   0.3s\n",
            "[CV 4/10] END ...C=1, gamma=0.25, kernel=linear;, score=0.878 total time=   0.4s\n",
            "[CV 5/10] END ...C=1, gamma=0.25, kernel=linear;, score=0.925 total time=   0.2s\n",
            "[CV 6/10] END ...C=1, gamma=0.25, kernel=linear;, score=1.000 total time=   0.3s\n",
            "[CV 7/10] END ...C=1, gamma=0.25, kernel=linear;, score=0.950 total time=   0.2s\n",
            "[CV 8/10] END ...C=1, gamma=0.25, kernel=linear;, score=0.950 total time=   0.2s\n",
            "[CV 9/10] END ...C=1, gamma=0.25, kernel=linear;, score=0.975 total time=   0.1s\n",
            "[CV 10/10] END ..C=1, gamma=0.25, kernel=linear;, score=0.875 total time=   0.3s\n",
            "[CV 1/10] END .......C=1, gamma=0.5, kernel=rbf;, score=0.829 total time=   0.0s\n",
            "[CV 2/10] END .......C=1, gamma=0.5, kernel=rbf;, score=0.805 total time=   0.0s\n",
            "[CV 3/10] END .......C=1, gamma=0.5, kernel=rbf;, score=0.805 total time=   0.0s\n",
            "[CV 4/10] END .......C=1, gamma=0.5, kernel=rbf;, score=0.805 total time=   0.0s\n",
            "[CV 5/10] END .......C=1, gamma=0.5, kernel=rbf;, score=0.825 total time=   0.0s\n",
            "[CV 6/10] END .......C=1, gamma=0.5, kernel=rbf;, score=0.825 total time=   0.0s\n",
            "[CV 7/10] END .......C=1, gamma=0.5, kernel=rbf;, score=0.825 total time=   0.0s\n",
            "[CV 8/10] END .......C=1, gamma=0.5, kernel=rbf;, score=0.825 total time=   0.0s\n",
            "[CV 9/10] END .......C=1, gamma=0.5, kernel=rbf;, score=0.825 total time=   0.0s\n",
            "[CV 10/10] END ......C=1, gamma=0.5, kernel=rbf;, score=0.825 total time=   0.0s\n",
            "[CV 1/10] END ....C=1, gamma=0.5, kernel=linear;, score=0.927 total time=   0.3s\n",
            "[CV 2/10] END ....C=1, gamma=0.5, kernel=linear;, score=1.000 total time=   0.8s\n",
            "[CV 3/10] END ....C=1, gamma=0.5, kernel=linear;, score=0.927 total time=   0.5s\n",
            "[CV 4/10] END ....C=1, gamma=0.5, kernel=linear;, score=0.878 total time=   0.7s\n",
            "[CV 5/10] END ....C=1, gamma=0.5, kernel=linear;, score=0.925 total time=   0.4s\n",
            "[CV 6/10] END ....C=1, gamma=0.5, kernel=linear;, score=1.000 total time=   0.4s\n",
            "[CV 7/10] END ....C=1, gamma=0.5, kernel=linear;, score=0.950 total time=   0.2s\n",
            "[CV 8/10] END ....C=1, gamma=0.5, kernel=linear;, score=0.950 total time=   0.2s\n",
            "[CV 9/10] END ....C=1, gamma=0.5, kernel=linear;, score=0.975 total time=   0.2s\n",
            "[CV 10/10] END ...C=1, gamma=0.5, kernel=linear;, score=0.875 total time=   0.3s\n",
            "[CV 1/10] END ......C=1, gamma=0.75, kernel=rbf;, score=0.829 total time=   0.0s\n",
            "[CV 2/10] END ......C=1, gamma=0.75, kernel=rbf;, score=0.805 total time=   0.0s\n",
            "[CV 3/10] END ......C=1, gamma=0.75, kernel=rbf;, score=0.805 total time=   0.0s\n",
            "[CV 4/10] END ......C=1, gamma=0.75, kernel=rbf;, score=0.805 total time=   0.0s\n",
            "[CV 5/10] END ......C=1, gamma=0.75, kernel=rbf;, score=0.825 total time=   0.0s\n",
            "[CV 6/10] END ......C=1, gamma=0.75, kernel=rbf;, score=0.825 total time=   0.0s\n",
            "[CV 7/10] END ......C=1, gamma=0.75, kernel=rbf;, score=0.825 total time=   0.0s\n",
            "[CV 8/10] END ......C=1, gamma=0.75, kernel=rbf;, score=0.825 total time=   0.0s\n",
            "[CV 9/10] END ......C=1, gamma=0.75, kernel=rbf;, score=0.825 total time=   0.0s\n",
            "[CV 10/10] END .....C=1, gamma=0.75, kernel=rbf;, score=0.825 total time=   0.0s\n",
            "[CV 1/10] END ...C=1, gamma=0.75, kernel=linear;, score=0.927 total time=   0.2s\n",
            "[CV 2/10] END ...C=1, gamma=0.75, kernel=linear;, score=1.000 total time=   0.4s\n",
            "[CV 3/10] END ...C=1, gamma=0.75, kernel=linear;, score=0.927 total time=   0.3s\n",
            "[CV 4/10] END ...C=1, gamma=0.75, kernel=linear;, score=0.878 total time=   0.4s\n",
            "[CV 5/10] END ...C=1, gamma=0.75, kernel=linear;, score=0.925 total time=   0.2s\n",
            "[CV 6/10] END ...C=1, gamma=0.75, kernel=linear;, score=1.000 total time=   0.3s\n",
            "[CV 7/10] END ...C=1, gamma=0.75, kernel=linear;, score=0.950 total time=   0.2s\n",
            "[CV 8/10] END ...C=1, gamma=0.75, kernel=linear;, score=0.950 total time=   0.3s\n",
            "[CV 9/10] END ...C=1, gamma=0.75, kernel=linear;, score=0.975 total time=   0.3s\n",
            "[CV 10/10] END ..C=1, gamma=0.75, kernel=linear;, score=0.875 total time=   0.5s\n",
            "[CV 1/10] END .........C=1, gamma=1, kernel=rbf;, score=0.829 total time=   0.0s\n",
            "[CV 2/10] END .........C=1, gamma=1, kernel=rbf;, score=0.805 total time=   0.0s\n",
            "[CV 3/10] END .........C=1, gamma=1, kernel=rbf;, score=0.805 total time=   0.0s\n",
            "[CV 4/10] END .........C=1, gamma=1, kernel=rbf;, score=0.805 total time=   0.0s\n",
            "[CV 5/10] END .........C=1, gamma=1, kernel=rbf;, score=0.825 total time=   0.0s\n",
            "[CV 6/10] END .........C=1, gamma=1, kernel=rbf;, score=0.825 total time=   0.0s\n",
            "[CV 7/10] END .........C=1, gamma=1, kernel=rbf;, score=0.825 total time=   0.0s\n",
            "[CV 8/10] END .........C=1, gamma=1, kernel=rbf;, score=0.825 total time=   0.0s\n",
            "[CV 9/10] END .........C=1, gamma=1, kernel=rbf;, score=0.825 total time=   0.0s\n",
            "[CV 10/10] END ........C=1, gamma=1, kernel=rbf;, score=0.825 total time=   0.0s\n",
            "[CV 1/10] END ......C=1, gamma=1, kernel=linear;, score=0.927 total time=   0.3s\n",
            "[CV 2/10] END ......C=1, gamma=1, kernel=linear;, score=1.000 total time=   0.7s\n",
            "[CV 3/10] END ......C=1, gamma=1, kernel=linear;, score=0.927 total time=   0.5s\n",
            "[CV 4/10] END ......C=1, gamma=1, kernel=linear;, score=0.878 total time=   0.6s\n",
            "[CV 5/10] END ......C=1, gamma=1, kernel=linear;, score=0.925 total time=   0.2s\n",
            "[CV 6/10] END ......C=1, gamma=1, kernel=linear;, score=1.000 total time=   0.3s\n",
            "[CV 7/10] END ......C=1, gamma=1, kernel=linear;, score=0.950 total time=   0.2s\n",
            "[CV 8/10] END ......C=1, gamma=1, kernel=linear;, score=0.950 total time=   0.2s\n",
            "[CV 9/10] END ......C=1, gamma=1, kernel=linear;, score=0.975 total time=   0.1s\n",
            "[CV 10/10] END .....C=1, gamma=1, kernel=linear;, score=0.875 total time=   0.3s\n",
            "[CV 1/10] END .......C=5, gamma=0.1, kernel=rbf;, score=0.878 total time=   0.0s\n",
            "[CV 2/10] END .......C=5, gamma=0.1, kernel=rbf;, score=0.878 total time=   0.0s\n",
            "[CV 3/10] END .......C=5, gamma=0.1, kernel=rbf;, score=0.927 total time=   0.0s\n",
            "[CV 4/10] END .......C=5, gamma=0.1, kernel=rbf;, score=0.829 total time=   0.0s\n",
            "[CV 5/10] END .......C=5, gamma=0.1, kernel=rbf;, score=0.900 total time=   0.0s\n",
            "[CV 6/10] END .......C=5, gamma=0.1, kernel=rbf;, score=0.925 total time=   0.0s\n",
            "[CV 7/10] END .......C=5, gamma=0.1, kernel=rbf;, score=0.850 total time=   0.0s\n",
            "[CV 8/10] END .......C=5, gamma=0.1, kernel=rbf;, score=0.850 total time=   0.0s\n",
            "[CV 9/10] END .......C=5, gamma=0.1, kernel=rbf;, score=0.925 total time=   0.0s\n",
            "[CV 10/10] END ......C=5, gamma=0.1, kernel=rbf;, score=0.825 total time=   0.0s\n",
            "[CV 1/10] END ....C=5, gamma=0.1, kernel=linear;, score=0.927 total time=   0.8s\n",
            "[CV 2/10] END ....C=5, gamma=0.1, kernel=linear;, score=1.000 total time=   0.9s\n",
            "[CV 3/10] END ....C=5, gamma=0.1, kernel=linear;, score=0.927 total time=   0.8s\n",
            "[CV 4/10] END ....C=5, gamma=0.1, kernel=linear;, score=0.854 total time=   1.9s\n",
            "[CV 5/10] END ....C=5, gamma=0.1, kernel=linear;, score=0.925 total time=   0.6s\n",
            "[CV 6/10] END ....C=5, gamma=0.1, kernel=linear;, score=1.000 total time=   1.6s\n",
            "[CV 7/10] END ....C=5, gamma=0.1, kernel=linear;, score=0.925 total time=   1.1s\n",
            "[CV 8/10] END ....C=5, gamma=0.1, kernel=linear;, score=0.950 total time=   0.7s\n",
            "[CV 9/10] END ....C=5, gamma=0.1, kernel=linear;, score=0.975 total time=   3.3s\n",
            "[CV 10/10] END ...C=5, gamma=0.1, kernel=linear;, score=0.900 total time=   0.9s\n",
            "[CV 1/10] END ......C=5, gamma=0.25, kernel=rbf;, score=0.854 total time=   0.0s\n",
            "[CV 2/10] END ......C=5, gamma=0.25, kernel=rbf;, score=0.829 total time=   0.0s\n",
            "[CV 3/10] END ......C=5, gamma=0.25, kernel=rbf;, score=0.878 total time=   0.0s\n",
            "[CV 4/10] END ......C=5, gamma=0.25, kernel=rbf;, score=0.805 total time=   0.0s\n",
            "[CV 5/10] END ......C=5, gamma=0.25, kernel=rbf;, score=0.900 total time=   0.0s\n",
            "[CV 6/10] END ......C=5, gamma=0.25, kernel=rbf;, score=0.850 total time=   0.0s\n",
            "[CV 7/10] END ......C=5, gamma=0.25, kernel=rbf;, score=0.850 total time=   0.0s\n",
            "[CV 8/10] END ......C=5, gamma=0.25, kernel=rbf;, score=0.825 total time=   0.0s\n",
            "[CV 9/10] END ......C=5, gamma=0.25, kernel=rbf;, score=0.875 total time=   0.0s\n",
            "[CV 10/10] END .....C=5, gamma=0.25, kernel=rbf;, score=0.825 total time=   0.0s\n",
            "[CV 1/10] END ...C=5, gamma=0.25, kernel=linear;, score=0.927 total time=   0.8s\n",
            "[CV 2/10] END ...C=5, gamma=0.25, kernel=linear;, score=1.000 total time=   0.9s\n",
            "[CV 3/10] END ...C=5, gamma=0.25, kernel=linear;, score=0.927 total time=   0.8s\n",
            "[CV 4/10] END ...C=5, gamma=0.25, kernel=linear;, score=0.854 total time=   1.9s\n",
            "[CV 5/10] END ...C=5, gamma=0.25, kernel=linear;, score=0.925 total time=   0.6s\n",
            "[CV 6/10] END ...C=5, gamma=0.25, kernel=linear;, score=1.000 total time=   1.6s\n",
            "[CV 7/10] END ...C=5, gamma=0.25, kernel=linear;, score=0.925 total time=   1.1s\n",
            "[CV 8/10] END ...C=5, gamma=0.25, kernel=linear;, score=0.950 total time=   0.6s\n",
            "[CV 9/10] END ...C=5, gamma=0.25, kernel=linear;, score=0.975 total time=   3.4s\n",
            "[CV 10/10] END ..C=5, gamma=0.25, kernel=linear;, score=0.900 total time=   0.9s\n",
            "[CV 1/10] END .......C=5, gamma=0.5, kernel=rbf;, score=0.829 total time=   0.0s\n",
            "[CV 2/10] END .......C=5, gamma=0.5, kernel=rbf;, score=0.805 total time=   0.0s\n",
            "[CV 3/10] END .......C=5, gamma=0.5, kernel=rbf;, score=0.805 total time=   0.0s\n",
            "[CV 4/10] END .......C=5, gamma=0.5, kernel=rbf;, score=0.805 total time=   0.0s\n",
            "[CV 5/10] END .......C=5, gamma=0.5, kernel=rbf;, score=0.825 total time=   0.0s\n",
            "[CV 6/10] END .......C=5, gamma=0.5, kernel=rbf;, score=0.850 total time=   0.0s\n",
            "[CV 7/10] END .......C=5, gamma=0.5, kernel=rbf;, score=0.825 total time=   0.0s\n",
            "[CV 8/10] END .......C=5, gamma=0.5, kernel=rbf;, score=0.825 total time=   0.0s\n",
            "[CV 9/10] END .......C=5, gamma=0.5, kernel=rbf;, score=0.850 total time=   0.0s\n",
            "[CV 10/10] END ......C=5, gamma=0.5, kernel=rbf;, score=0.825 total time=   0.0s\n",
            "[CV 1/10] END ....C=5, gamma=0.5, kernel=linear;, score=0.927 total time=   0.8s\n",
            "[CV 2/10] END ....C=5, gamma=0.5, kernel=linear;, score=1.000 total time=   0.9s\n",
            "[CV 3/10] END ....C=5, gamma=0.5, kernel=linear;, score=0.927 total time=   0.8s\n",
            "[CV 4/10] END ....C=5, gamma=0.5, kernel=linear;, score=0.854 total time=   1.9s\n",
            "[CV 5/10] END ....C=5, gamma=0.5, kernel=linear;, score=0.925 total time=   0.6s\n",
            "[CV 6/10] END ....C=5, gamma=0.5, kernel=linear;, score=1.000 total time=   1.6s\n",
            "[CV 7/10] END ....C=5, gamma=0.5, kernel=linear;, score=0.925 total time=   1.1s\n",
            "[CV 8/10] END ....C=5, gamma=0.5, kernel=linear;, score=0.950 total time=   0.6s\n",
            "[CV 9/10] END ....C=5, gamma=0.5, kernel=linear;, score=0.975 total time=   3.1s\n",
            "[CV 10/10] END ...C=5, gamma=0.5, kernel=linear;, score=0.900 total time=   1.1s\n",
            "[CV 1/10] END ......C=5, gamma=0.75, kernel=rbf;, score=0.829 total time=   0.0s\n",
            "[CV 2/10] END ......C=5, gamma=0.75, kernel=rbf;, score=0.805 total time=   0.0s\n",
            "[CV 3/10] END ......C=5, gamma=0.75, kernel=rbf;, score=0.805 total time=   0.0s\n",
            "[CV 4/10] END ......C=5, gamma=0.75, kernel=rbf;, score=0.805 total time=   0.0s\n",
            "[CV 5/10] END ......C=5, gamma=0.75, kernel=rbf;, score=0.825 total time=   0.0s\n",
            "[CV 6/10] END ......C=5, gamma=0.75, kernel=rbf;, score=0.850 total time=   0.0s\n",
            "[CV 7/10] END ......C=5, gamma=0.75, kernel=rbf;, score=0.825 total time=   0.0s\n",
            "[CV 8/10] END ......C=5, gamma=0.75, kernel=rbf;, score=0.825 total time=   0.0s\n",
            "[CV 9/10] END ......C=5, gamma=0.75, kernel=rbf;, score=0.850 total time=   0.0s\n",
            "[CV 10/10] END .....C=5, gamma=0.75, kernel=rbf;, score=0.825 total time=   0.0s\n",
            "[CV 1/10] END ...C=5, gamma=0.75, kernel=linear;, score=0.927 total time=   0.8s\n",
            "[CV 2/10] END ...C=5, gamma=0.75, kernel=linear;, score=1.000 total time=   0.9s\n",
            "[CV 3/10] END ...C=5, gamma=0.75, kernel=linear;, score=0.927 total time=   0.8s\n",
            "[CV 4/10] END ...C=5, gamma=0.75, kernel=linear;, score=0.854 total time=   1.9s\n",
            "[CV 5/10] END ...C=5, gamma=0.75, kernel=linear;, score=0.925 total time=   0.6s\n",
            "[CV 6/10] END ...C=5, gamma=0.75, kernel=linear;, score=1.000 total time=   1.6s\n",
            "[CV 7/10] END ...C=5, gamma=0.75, kernel=linear;, score=0.925 total time=   1.1s\n",
            "[CV 8/10] END ...C=5, gamma=0.75, kernel=linear;, score=0.950 total time=   0.6s\n",
            "[CV 9/10] END ...C=5, gamma=0.75, kernel=linear;, score=0.975 total time=   2.7s\n",
            "[CV 10/10] END ..C=5, gamma=0.75, kernel=linear;, score=0.900 total time=   1.4s\n",
            "[CV 1/10] END .........C=5, gamma=1, kernel=rbf;, score=0.829 total time=   0.0s\n",
            "[CV 2/10] END .........C=5, gamma=1, kernel=rbf;, score=0.805 total time=   0.0s\n",
            "[CV 3/10] END .........C=5, gamma=1, kernel=rbf;, score=0.805 total time=   0.0s\n",
            "[CV 4/10] END .........C=5, gamma=1, kernel=rbf;, score=0.805 total time=   0.0s\n",
            "[CV 5/10] END .........C=5, gamma=1, kernel=rbf;, score=0.825 total time=   0.0s\n",
            "[CV 6/10] END .........C=5, gamma=1, kernel=rbf;, score=0.825 total time=   0.0s\n",
            "[CV 7/10] END .........C=5, gamma=1, kernel=rbf;, score=0.825 total time=   0.0s\n",
            "[CV 8/10] END .........C=5, gamma=1, kernel=rbf;, score=0.825 total time=   0.0s\n",
            "[CV 9/10] END .........C=5, gamma=1, kernel=rbf;, score=0.825 total time=   0.0s\n",
            "[CV 10/10] END ........C=5, gamma=1, kernel=rbf;, score=0.825 total time=   0.0s\n",
            "[CV 1/10] END ......C=5, gamma=1, kernel=linear;, score=0.927 total time=   0.8s\n",
            "[CV 2/10] END ......C=5, gamma=1, kernel=linear;, score=1.000 total time=   0.9s\n",
            "[CV 3/10] END ......C=5, gamma=1, kernel=linear;, score=0.927 total time=   0.8s\n",
            "[CV 4/10] END ......C=5, gamma=1, kernel=linear;, score=0.854 total time=   1.9s\n",
            "[CV 5/10] END ......C=5, gamma=1, kernel=linear;, score=0.925 total time=   0.6s\n",
            "[CV 6/10] END ......C=5, gamma=1, kernel=linear;, score=1.000 total time=   1.6s\n",
            "[CV 7/10] END ......C=5, gamma=1, kernel=linear;, score=0.925 total time=   1.1s\n",
            "[CV 8/10] END ......C=5, gamma=1, kernel=linear;, score=0.950 total time=   0.6s\n",
            "[CV 9/10] END ......C=5, gamma=1, kernel=linear;, score=0.975 total time=   2.5s\n",
            "[CV 10/10] END .....C=5, gamma=1, kernel=linear;, score=0.900 total time=   1.6s\n",
            "[CV 1/10] END ......C=10, gamma=0.1, kernel=rbf;, score=0.878 total time=   0.0s\n",
            "[CV 2/10] END ......C=10, gamma=0.1, kernel=rbf;, score=0.878 total time=   0.0s\n",
            "[CV 3/10] END ......C=10, gamma=0.1, kernel=rbf;, score=0.927 total time=   0.0s\n",
            "[CV 4/10] END ......C=10, gamma=0.1, kernel=rbf;, score=0.829 total time=   0.0s\n",
            "[CV 5/10] END ......C=10, gamma=0.1, kernel=rbf;, score=0.900 total time=   0.0s\n",
            "[CV 6/10] END ......C=10, gamma=0.1, kernel=rbf;, score=0.925 total time=   0.0s\n",
            "[CV 7/10] END ......C=10, gamma=0.1, kernel=rbf;, score=0.850 total time=   0.0s\n",
            "[CV 8/10] END ......C=10, gamma=0.1, kernel=rbf;, score=0.850 total time=   0.0s\n",
            "[CV 9/10] END ......C=10, gamma=0.1, kernel=rbf;, score=0.925 total time=   0.0s\n",
            "[CV 10/10] END .....C=10, gamma=0.1, kernel=rbf;, score=0.825 total time=   0.0s\n",
            "[CV 1/10] END ...C=10, gamma=0.1, kernel=linear;, score=0.927 total time=   0.8s\n",
            "[CV 2/10] END ...C=10, gamma=0.1, kernel=linear;, score=0.927 total time=   2.4s\n",
            "[CV 3/10] END ...C=10, gamma=0.1, kernel=linear;, score=0.927 total time=   2.0s\n",
            "[CV 4/10] END ...C=10, gamma=0.1, kernel=linear;, score=0.854 total time=   6.7s\n",
            "[CV 5/10] END ...C=10, gamma=0.1, kernel=linear;, score=0.925 total time=   2.0s\n",
            "[CV 6/10] END ...C=10, gamma=0.1, kernel=linear;, score=1.000 total time=   2.8s\n",
            "[CV 7/10] END ...C=10, gamma=0.1, kernel=linear;, score=0.925 total time=   3.6s\n",
            "[CV 8/10] END ...C=10, gamma=0.1, kernel=linear;, score=0.950 total time=   5.1s\n",
            "[CV 9/10] END ...C=10, gamma=0.1, kernel=linear;, score=0.975 total time=   3.2s\n",
            "[CV 10/10] END ..C=10, gamma=0.1, kernel=linear;, score=0.925 total time=   0.8s\n",
            "[CV 1/10] END .....C=10, gamma=0.25, kernel=rbf;, score=0.854 total time=   0.0s\n",
            "[CV 2/10] END .....C=10, gamma=0.25, kernel=rbf;, score=0.829 total time=   0.0s\n",
            "[CV 3/10] END .....C=10, gamma=0.25, kernel=rbf;, score=0.878 total time=   0.0s\n",
            "[CV 4/10] END .....C=10, gamma=0.25, kernel=rbf;, score=0.805 total time=   0.0s\n",
            "[CV 5/10] END .....C=10, gamma=0.25, kernel=rbf;, score=0.900 total time=   0.0s\n",
            "[CV 6/10] END .....C=10, gamma=0.25, kernel=rbf;, score=0.850 total time=   0.0s\n",
            "[CV 7/10] END .....C=10, gamma=0.25, kernel=rbf;, score=0.850 total time=   0.0s\n",
            "[CV 8/10] END .....C=10, gamma=0.25, kernel=rbf;, score=0.825 total time=   0.0s\n",
            "[CV 9/10] END .....C=10, gamma=0.25, kernel=rbf;, score=0.875 total time=   0.0s\n",
            "[CV 10/10] END ....C=10, gamma=0.25, kernel=rbf;, score=0.825 total time=   0.0s\n",
            "[CV 1/10] END ..C=10, gamma=0.25, kernel=linear;, score=0.927 total time=   0.8s\n",
            "[CV 2/10] END ..C=10, gamma=0.25, kernel=linear;, score=0.927 total time=   2.4s\n",
            "[CV 3/10] END ..C=10, gamma=0.25, kernel=linear;, score=0.927 total time=   2.0s\n",
            "[CV 4/10] END ..C=10, gamma=0.25, kernel=linear;, score=0.854 total time=   7.2s\n",
            "[CV 5/10] END ..C=10, gamma=0.25, kernel=linear;, score=0.925 total time=   1.5s\n",
            "[CV 6/10] END ..C=10, gamma=0.25, kernel=linear;, score=1.000 total time=   2.7s\n",
            "[CV 7/10] END ..C=10, gamma=0.25, kernel=linear;, score=0.925 total time=   3.8s\n",
            "[CV 8/10] END ..C=10, gamma=0.25, kernel=linear;, score=0.950 total time=   5.2s\n",
            "[CV 9/10] END ..C=10, gamma=0.25, kernel=linear;, score=0.975 total time=   2.8s\n",
            "[CV 10/10] END .C=10, gamma=0.25, kernel=linear;, score=0.925 total time=   0.7s\n",
            "[CV 1/10] END ......C=10, gamma=0.5, kernel=rbf;, score=0.829 total time=   0.0s\n",
            "[CV 2/10] END ......C=10, gamma=0.5, kernel=rbf;, score=0.805 total time=   0.0s\n",
            "[CV 3/10] END ......C=10, gamma=0.5, kernel=rbf;, score=0.805 total time=   0.0s\n",
            "[CV 4/10] END ......C=10, gamma=0.5, kernel=rbf;, score=0.805 total time=   0.0s\n",
            "[CV 5/10] END ......C=10, gamma=0.5, kernel=rbf;, score=0.825 total time=   0.0s\n",
            "[CV 6/10] END ......C=10, gamma=0.5, kernel=rbf;, score=0.850 total time=   0.0s\n",
            "[CV 7/10] END ......C=10, gamma=0.5, kernel=rbf;, score=0.825 total time=   0.0s\n",
            "[CV 8/10] END ......C=10, gamma=0.5, kernel=rbf;, score=0.825 total time=   0.0s\n",
            "[CV 9/10] END ......C=10, gamma=0.5, kernel=rbf;, score=0.850 total time=   0.0s\n",
            "[CV 10/10] END .....C=10, gamma=0.5, kernel=rbf;, score=0.825 total time=   0.0s\n",
            "[CV 1/10] END ...C=10, gamma=0.5, kernel=linear;, score=0.927 total time=   0.8s\n",
            "[CV 2/10] END ...C=10, gamma=0.5, kernel=linear;, score=0.927 total time=   2.4s\n",
            "[CV 3/10] END ...C=10, gamma=0.5, kernel=linear;, score=0.927 total time=   3.4s\n",
            "[CV 4/10] END ...C=10, gamma=0.5, kernel=linear;, score=0.854 total time=   5.8s\n",
            "[CV 5/10] END ...C=10, gamma=0.5, kernel=linear;, score=0.925 total time=   1.5s\n",
            "[CV 6/10] END ...C=10, gamma=0.5, kernel=linear;, score=1.000 total time=   3.3s\n",
            "[CV 7/10] END ...C=10, gamma=0.5, kernel=linear;, score=0.925 total time=   4.5s\n",
            "[CV 8/10] END ...C=10, gamma=0.5, kernel=linear;, score=0.950 total time=   4.1s\n",
            "[CV 9/10] END ...C=10, gamma=0.5, kernel=linear;, score=0.975 total time=   2.8s\n",
            "[CV 10/10] END ..C=10, gamma=0.5, kernel=linear;, score=0.925 total time=   0.7s\n",
            "[CV 1/10] END .....C=10, gamma=0.75, kernel=rbf;, score=0.829 total time=   0.0s\n",
            "[CV 2/10] END .....C=10, gamma=0.75, kernel=rbf;, score=0.805 total time=   0.0s\n",
            "[CV 3/10] END .....C=10, gamma=0.75, kernel=rbf;, score=0.805 total time=   0.0s\n",
            "[CV 4/10] END .....C=10, gamma=0.75, kernel=rbf;, score=0.805 total time=   0.0s\n",
            "[CV 5/10] END .....C=10, gamma=0.75, kernel=rbf;, score=0.825 total time=   0.0s\n",
            "[CV 6/10] END .....C=10, gamma=0.75, kernel=rbf;, score=0.850 total time=   0.0s\n",
            "[CV 7/10] END .....C=10, gamma=0.75, kernel=rbf;, score=0.825 total time=   0.0s\n",
            "[CV 8/10] END .....C=10, gamma=0.75, kernel=rbf;, score=0.825 total time=   0.0s\n",
            "[CV 9/10] END .....C=10, gamma=0.75, kernel=rbf;, score=0.850 total time=   0.0s\n",
            "[CV 10/10] END ....C=10, gamma=0.75, kernel=rbf;, score=0.825 total time=   0.0s\n",
            "[CV 1/10] END ..C=10, gamma=0.75, kernel=linear;, score=0.927 total time=   1.5s\n",
            "[CV 2/10] END ..C=10, gamma=0.75, kernel=linear;, score=0.927 total time=   3.0s\n",
            "[CV 3/10] END ..C=10, gamma=0.75, kernel=linear;, score=0.927 total time=   2.1s\n",
            "[CV 4/10] END ..C=10, gamma=0.75, kernel=linear;, score=0.854 total time=   5.8s\n",
            "[CV 5/10] END ..C=10, gamma=0.75, kernel=linear;, score=0.925 total time=   2.4s\n",
            "[CV 6/10] END ..C=10, gamma=0.75, kernel=linear;, score=1.000 total time=   3.2s\n",
            "[CV 7/10] END ..C=10, gamma=0.75, kernel=linear;, score=0.925 total time=   3.5s\n",
            "[CV 8/10] END ..C=10, gamma=0.75, kernel=linear;, score=0.950 total time=   4.1s\n",
            "[CV 9/10] END ..C=10, gamma=0.75, kernel=linear;, score=0.975 total time=   4.3s\n",
            "[CV 10/10] END .C=10, gamma=0.75, kernel=linear;, score=0.925 total time=   0.9s\n",
            "[CV 1/10] END ........C=10, gamma=1, kernel=rbf;, score=0.829 total time=   0.0s\n",
            "[CV 2/10] END ........C=10, gamma=1, kernel=rbf;, score=0.805 total time=   0.0s\n",
            "[CV 3/10] END ........C=10, gamma=1, kernel=rbf;, score=0.805 total time=   0.0s\n",
            "[CV 4/10] END ........C=10, gamma=1, kernel=rbf;, score=0.805 total time=   0.0s\n",
            "[CV 5/10] END ........C=10, gamma=1, kernel=rbf;, score=0.825 total time=   0.0s\n",
            "[CV 6/10] END ........C=10, gamma=1, kernel=rbf;, score=0.825 total time=   0.0s\n",
            "[CV 7/10] END ........C=10, gamma=1, kernel=rbf;, score=0.825 total time=   0.0s\n",
            "[CV 8/10] END ........C=10, gamma=1, kernel=rbf;, score=0.825 total time=   0.0s\n",
            "[CV 9/10] END ........C=10, gamma=1, kernel=rbf;, score=0.825 total time=   0.0s\n",
            "[CV 10/10] END .......C=10, gamma=1, kernel=rbf;, score=0.825 total time=   0.0s\n",
            "[CV 1/10] END .....C=10, gamma=1, kernel=linear;, score=0.927 total time=   1.0s\n",
            "[CV 2/10] END .....C=10, gamma=1, kernel=linear;, score=0.927 total time=   3.2s\n",
            "[CV 3/10] END .....C=10, gamma=1, kernel=linear;, score=0.927 total time=   2.3s\n",
            "[CV 4/10] END .....C=10, gamma=1, kernel=linear;, score=0.854 total time=   7.3s\n",
            "[CV 5/10] END .....C=10, gamma=1, kernel=linear;, score=0.925 total time=   1.5s\n",
            "[CV 6/10] END .....C=10, gamma=1, kernel=linear;, score=1.000 total time=   3.3s\n",
            "[CV 7/10] END .....C=10, gamma=1, kernel=linear;, score=0.925 total time=   5.9s\n",
            "[CV 8/10] END .....C=10, gamma=1, kernel=linear;, score=0.950 total time=   4.2s\n",
            "[CV 9/10] END .....C=10, gamma=1, kernel=linear;, score=0.975 total time=   2.9s\n",
            "[CV 10/10] END ....C=10, gamma=1, kernel=linear;, score=0.925 total time=   0.8s\n",
            "[CV 1/10] END .....C=100, gamma=0.1, kernel=rbf;, score=0.878 total time=   0.0s\n",
            "[CV 2/10] END .....C=100, gamma=0.1, kernel=rbf;, score=0.878 total time=   0.0s\n",
            "[CV 3/10] END .....C=100, gamma=0.1, kernel=rbf;, score=0.927 total time=   0.0s\n",
            "[CV 4/10] END .....C=100, gamma=0.1, kernel=rbf;, score=0.829 total time=   0.0s\n",
            "[CV 5/10] END .....C=100, gamma=0.1, kernel=rbf;, score=0.900 total time=   0.0s\n",
            "[CV 6/10] END .....C=100, gamma=0.1, kernel=rbf;, score=0.925 total time=   0.0s\n",
            "[CV 7/10] END .....C=100, gamma=0.1, kernel=rbf;, score=0.850 total time=   0.0s\n",
            "[CV 8/10] END .....C=100, gamma=0.1, kernel=rbf;, score=0.850 total time=   0.0s\n",
            "[CV 9/10] END .....C=100, gamma=0.1, kernel=rbf;, score=0.925 total time=   0.0s\n",
            "[CV 10/10] END ....C=100, gamma=0.1, kernel=rbf;, score=0.825 total time=   0.0s\n",
            "[CV 1/10] END ..C=100, gamma=0.1, kernel=linear;, score=0.927 total time=   6.5s\n",
            "[CV 2/10] END ..C=100, gamma=0.1, kernel=linear;, score=0.927 total time=  13.8s\n",
            "[CV 3/10] END ..C=100, gamma=0.1, kernel=linear;, score=0.927 total time=   3.3s\n",
            "[CV 4/10] END ..C=100, gamma=0.1, kernel=linear;, score=0.878 total time=   4.4s\n",
            "[CV 5/10] END ..C=100, gamma=0.1, kernel=linear;, score=0.925 total time=   8.2s\n",
            "[CV 6/10] END ..C=100, gamma=0.1, kernel=linear;, score=1.000 total time=   3.8s\n",
            "[CV 7/10] END ..C=100, gamma=0.1, kernel=linear;, score=0.925 total time=   9.3s\n",
            "[CV 8/10] END ..C=100, gamma=0.1, kernel=linear;, score=0.950 total time=  24.2s\n",
            "[CV 9/10] END ..C=100, gamma=0.1, kernel=linear;, score=0.975 total time=   9.4s\n",
            "[CV 10/10] END .C=100, gamma=0.1, kernel=linear;, score=0.925 total time=   4.1s\n",
            "[CV 1/10] END ....C=100, gamma=0.25, kernel=rbf;, score=0.854 total time=   0.0s\n",
            "[CV 2/10] END ....C=100, gamma=0.25, kernel=rbf;, score=0.829 total time=   0.0s\n",
            "[CV 3/10] END ....C=100, gamma=0.25, kernel=rbf;, score=0.878 total time=   0.0s\n",
            "[CV 4/10] END ....C=100, gamma=0.25, kernel=rbf;, score=0.805 total time=   0.0s\n",
            "[CV 5/10] END ....C=100, gamma=0.25, kernel=rbf;, score=0.900 total time=   0.0s\n",
            "[CV 6/10] END ....C=100, gamma=0.25, kernel=rbf;, score=0.850 total time=   0.0s\n",
            "[CV 7/10] END ....C=100, gamma=0.25, kernel=rbf;, score=0.850 total time=   0.0s\n",
            "[CV 8/10] END ....C=100, gamma=0.25, kernel=rbf;, score=0.825 total time=   0.0s\n",
            "[CV 9/10] END ....C=100, gamma=0.25, kernel=rbf;, score=0.875 total time=   0.0s\n",
            "[CV 10/10] END ...C=100, gamma=0.25, kernel=rbf;, score=0.825 total time=   0.0s\n",
            "[CV 1/10] END .C=100, gamma=0.25, kernel=linear;, score=0.927 total time=   5.1s\n",
            "[CV 2/10] END .C=100, gamma=0.25, kernel=linear;, score=0.927 total time=  14.0s\n",
            "[CV 3/10] END .C=100, gamma=0.25, kernel=linear;, score=0.927 total time=   4.3s\n",
            "[CV 4/10] END .C=100, gamma=0.25, kernel=linear;, score=0.878 total time=   4.2s\n",
            "[CV 5/10] END .C=100, gamma=0.25, kernel=linear;, score=0.925 total time=   8.3s\n",
            "[CV 6/10] END .C=100, gamma=0.25, kernel=linear;, score=1.000 total time=   3.8s\n",
            "[CV 7/10] END .C=100, gamma=0.25, kernel=linear;, score=0.925 total time=   9.3s\n",
            "[CV 8/10] END .C=100, gamma=0.25, kernel=linear;, score=0.950 total time=  24.0s\n",
            "[CV 9/10] END .C=100, gamma=0.25, kernel=linear;, score=0.975 total time=   8.2s\n",
            "[CV 10/10] END C=100, gamma=0.25, kernel=linear;, score=0.925 total time=   5.4s\n",
            "[CV 1/10] END .....C=100, gamma=0.5, kernel=rbf;, score=0.829 total time=   0.0s\n",
            "[CV 2/10] END .....C=100, gamma=0.5, kernel=rbf;, score=0.805 total time=   0.0s\n",
            "[CV 3/10] END .....C=100, gamma=0.5, kernel=rbf;, score=0.805 total time=   0.0s\n",
            "[CV 4/10] END .....C=100, gamma=0.5, kernel=rbf;, score=0.805 total time=   0.0s\n",
            "[CV 5/10] END .....C=100, gamma=0.5, kernel=rbf;, score=0.825 total time=   0.0s\n",
            "[CV 6/10] END .....C=100, gamma=0.5, kernel=rbf;, score=0.850 total time=   0.0s\n",
            "[CV 7/10] END .....C=100, gamma=0.5, kernel=rbf;, score=0.825 total time=   0.0s\n",
            "[CV 8/10] END .....C=100, gamma=0.5, kernel=rbf;, score=0.825 total time=   0.0s\n",
            "[CV 9/10] END .....C=100, gamma=0.5, kernel=rbf;, score=0.850 total time=   0.0s\n",
            "[CV 10/10] END ....C=100, gamma=0.5, kernel=rbf;, score=0.825 total time=   0.0s\n",
            "[CV 1/10] END ..C=100, gamma=0.5, kernel=linear;, score=0.927 total time=   5.1s\n",
            "[CV 2/10] END ..C=100, gamma=0.5, kernel=linear;, score=0.927 total time=  13.7s\n",
            "[CV 3/10] END ..C=100, gamma=0.5, kernel=linear;, score=0.927 total time=   3.3s\n",
            "[CV 4/10] END ..C=100, gamma=0.5, kernel=linear;, score=0.878 total time=   7.1s\n",
            "[CV 5/10] END ..C=100, gamma=0.5, kernel=linear;, score=0.925 total time=   7.0s\n",
            "[CV 6/10] END ..C=100, gamma=0.5, kernel=linear;, score=1.000 total time=   5.0s\n",
            "[CV 7/10] END ..C=100, gamma=0.5, kernel=linear;, score=0.925 total time=   7.9s\n",
            "[CV 8/10] END ..C=100, gamma=0.5, kernel=linear;, score=0.950 total time=  24.0s\n",
            "[CV 9/10] END ..C=100, gamma=0.5, kernel=linear;, score=0.975 total time=   9.4s\n",
            "[CV 10/10] END .C=100, gamma=0.5, kernel=linear;, score=0.925 total time=   4.1s\n",
            "[CV 1/10] END ....C=100, gamma=0.75, kernel=rbf;, score=0.829 total time=   0.0s\n",
            "[CV 2/10] END ....C=100, gamma=0.75, kernel=rbf;, score=0.805 total time=   0.0s\n",
            "[CV 3/10] END ....C=100, gamma=0.75, kernel=rbf;, score=0.805 total time=   0.0s\n",
            "[CV 4/10] END ....C=100, gamma=0.75, kernel=rbf;, score=0.805 total time=   0.0s\n",
            "[CV 5/10] END ....C=100, gamma=0.75, kernel=rbf;, score=0.825 total time=   0.0s\n",
            "[CV 6/10] END ....C=100, gamma=0.75, kernel=rbf;, score=0.850 total time=   0.0s\n",
            "[CV 7/10] END ....C=100, gamma=0.75, kernel=rbf;, score=0.825 total time=   0.0s\n",
            "[CV 8/10] END ....C=100, gamma=0.75, kernel=rbf;, score=0.825 total time=   0.0s\n",
            "[CV 9/10] END ....C=100, gamma=0.75, kernel=rbf;, score=0.850 total time=   0.0s\n",
            "[CV 10/10] END ...C=100, gamma=0.75, kernel=rbf;, score=0.825 total time=   0.0s\n",
            "[CV 1/10] END .C=100, gamma=0.75, kernel=linear;, score=0.927 total time=   6.5s\n",
            "[CV 2/10] END .C=100, gamma=0.75, kernel=linear;, score=0.927 total time=  13.6s\n",
            "[CV 3/10] END .C=100, gamma=0.75, kernel=linear;, score=0.927 total time=   3.3s\n",
            "[CV 4/10] END .C=100, gamma=0.75, kernel=linear;, score=0.878 total time=   4.2s\n",
            "[CV 5/10] END .C=100, gamma=0.75, kernel=linear;, score=0.925 total time=   8.3s\n",
            "[CV 6/10] END .C=100, gamma=0.75, kernel=linear;, score=1.000 total time=   3.8s\n",
            "[CV 7/10] END .C=100, gamma=0.75, kernel=linear;, score=0.925 total time=   9.3s\n",
            "[CV 8/10] END .C=100, gamma=0.75, kernel=linear;, score=0.950 total time=  24.3s\n",
            "[CV 9/10] END .C=100, gamma=0.75, kernel=linear;, score=0.975 total time=   8.1s\n",
            "[CV 10/10] END C=100, gamma=0.75, kernel=linear;, score=0.925 total time=   5.5s\n",
            "[CV 1/10] END .......C=100, gamma=1, kernel=rbf;, score=0.829 total time=   0.0s\n",
            "[CV 2/10] END .......C=100, gamma=1, kernel=rbf;, score=0.805 total time=   0.0s\n",
            "[CV 3/10] END .......C=100, gamma=1, kernel=rbf;, score=0.805 total time=   0.0s\n",
            "[CV 4/10] END .......C=100, gamma=1, kernel=rbf;, score=0.805 total time=   0.0s\n",
            "[CV 5/10] END .......C=100, gamma=1, kernel=rbf;, score=0.825 total time=   0.0s\n",
            "[CV 6/10] END .......C=100, gamma=1, kernel=rbf;, score=0.825 total time=   0.0s\n",
            "[CV 7/10] END .......C=100, gamma=1, kernel=rbf;, score=0.825 total time=   0.0s\n",
            "[CV 8/10] END .......C=100, gamma=1, kernel=rbf;, score=0.825 total time=   0.0s\n",
            "[CV 9/10] END .......C=100, gamma=1, kernel=rbf;, score=0.825 total time=   0.0s\n",
            "[CV 10/10] END ......C=100, gamma=1, kernel=rbf;, score=0.825 total time=   0.0s\n",
            "[CV 1/10] END ....C=100, gamma=1, kernel=linear;, score=0.927 total time=   5.2s\n",
            "[CV 2/10] END ....C=100, gamma=1, kernel=linear;, score=0.927 total time=  13.8s\n",
            "[CV 3/10] END ....C=100, gamma=1, kernel=linear;, score=0.927 total time=   4.6s\n",
            "[CV 4/10] END ....C=100, gamma=1, kernel=linear;, score=0.878 total time=   4.3s\n",
            "[CV 5/10] END ....C=100, gamma=1, kernel=linear;, score=0.925 total time=   8.0s\n",
            "[CV 6/10] END ....C=100, gamma=1, kernel=linear;, score=1.000 total time=   4.2s\n",
            "[CV 7/10] END ....C=100, gamma=1, kernel=linear;, score=0.925 total time=   9.2s\n",
            "[CV 8/10] END ....C=100, gamma=1, kernel=linear;, score=0.950 total time=  24.5s\n",
            "[CV 9/10] END ....C=100, gamma=1, kernel=linear;, score=0.975 total time=   9.5s\n",
            "[CV 10/10] END ...C=100, gamma=1, kernel=linear;, score=0.925 total time=   4.3s\n"
          ]
        },
        {
          "output_type": "execute_result",
          "data": {
            "text/plain": [
              "GridSearchCV(cv=10, estimator=SVC(),\n",
              "             param_grid={'C': [0.01, 0.1, 1, 5, 10, 100],\n",
              "                         'gamma': [0.1, 0.25, 0.5, 0.75, 1],\n",
              "                         'kernel': ['rbf', 'linear']},\n",
              "             verbose=3)"
            ]
          },
          "metadata": {},
          "execution_count": 34
        }
      ]
    },
    {
      "cell_type": "code",
      "source": [
        "#Finding the Optimal Parameters\n",
        "grid_search_svc.best_params_"
      ],
      "metadata": {
        "colab": {
          "base_uri": "https://localhost:8080/"
        },
        "id": "frS_IzBKdGvO",
        "outputId": "763667c2-7397-4c40-e775-7140ba2e462c"
      },
      "execution_count": 35,
      "outputs": [
        {
          "output_type": "execute_result",
          "data": {
            "text/plain": [
              "{'C': 1, 'gamma': 0.1, 'kernel': 'linear'}"
            ]
          },
          "metadata": {},
          "execution_count": 35
        }
      ]
    },
    {
      "cell_type": "code",
      "source": [
        "grid_search_svc.score(X_testZM,y_testZM)"
      ],
      "metadata": {
        "colab": {
          "base_uri": "https://localhost:8080/"
        },
        "id": "DEjF49cMhedY",
        "outputId": "b1e644c4-a6d5-4cef-d8bd-8b2d825cf4f3"
      },
      "execution_count": 36,
      "outputs": [
        {
          "output_type": "execute_result",
          "data": {
            "text/plain": [
              "0.9509803921568627"
            ]
          },
          "metadata": {},
          "execution_count": 36
        }
      ]
    },
    {
      "cell_type": "code",
      "source": [
        "#confusion matrix for this\n",
        "\n",
        "final_modelZM_svc = grid_search_svc.best_estimator_\n",
        "final_modelZM_svc.fit(X_trainZM, y_trainZM)"
      ],
      "metadata": {
        "colab": {
          "base_uri": "https://localhost:8080/"
        },
        "id": "V8hFExi5eaYk",
        "outputId": "d7d88ab7-22f8-4409-9f0c-4381c890d43e"
      },
      "execution_count": 37,
      "outputs": [
        {
          "output_type": "execute_result",
          "data": {
            "text/plain": [
              "SVC(C=1, gamma=0.1, kernel='linear')"
            ]
          },
          "metadata": {},
          "execution_count": 37
        }
      ]
    },
    {
      "cell_type": "code",
      "source": [
        "y_predZM_svc = final_modelZM_svc.predict(X_testZM)\n",
        "conf_matrix_svc = confusion_matrix(y_testZM,y_predZM_svc)\n",
        "print(conf_matrix_svc)"
      ],
      "metadata": {
        "colab": {
          "base_uri": "https://localhost:8080/"
        },
        "id": "wLSyqOVTgrQm",
        "outputId": "aa7ca6bb-918b-49d0-ea5d-4f20f2d989fd"
      },
      "execution_count": 38,
      "outputs": [
        {
          "output_type": "stream",
          "name": "stdout",
          "text": [
            "[[88  3]\n",
            " [ 2  9]]\n"
          ]
        }
      ]
    },
    {
      "cell_type": "markdown",
      "source": [
        "2.\tFor SVM, please compare results for two kernel functions, linear vs. radial. Which kernel function does lead to a better model performance in the default setting?\n",
        "\n",
        "3.\tPlease tune the SVM model with selected kernel function, and identify best parameters.\n",
        "-\tPlease provide the confusion matrix for the validation dataset\n",
        "-\tWhat is the optimal parameter(s) for the selected kernel function?\n",
        "\n",
        "4.\tOverall, which method (random forest vs. SVM) is performing better?\n",
        "\n",
        "Anwsers to the following questions:\n",
        "\n",
        "2. Based off of the results, a linear kernel function is leading to a better model performance based off of the score.\n",
        "\n",
        "3. The confusion matrix is 88 TN, 3 FP, 2 FN and 9 TP. The optimal parameters for the linear kernel function is C=1 and Gamma = 0.1.\n",
        "\n",
        "4. The SVM is performing better than the Random Forest because the SVM has fewer False Negatives and higher False Positives.\n"
      ],
      "metadata": {
        "id": "DrrfxquLmQVv"
      }
    },
    {
      "cell_type": "code",
      "source": [],
      "metadata": {
        "id": "6gjVdLbAiyCT"
      },
      "execution_count": null,
      "outputs": []
    }
  ]
}