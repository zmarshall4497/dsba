{
  "nbformat": 4,
  "nbformat_minor": 0,
  "metadata": {
    "colab": {
      "provenance": [],
      "authorship_tag": "ABX9TyOKYyAr7CjoAj2k4JgCSj4k",
      "include_colab_link": true
    },
    "kernelspec": {
      "name": "python3",
      "display_name": "Python 3"
    },
    "language_info": {
      "name": "python"
    }
  },
  "cells": [
    {
      "cell_type": "markdown",
      "metadata": {
        "id": "view-in-github",
        "colab_type": "text"
      },
      "source": [
        "<a href=\"https://colab.research.google.com/github/zmarshall4497/dsba/blob/main/Extra_Credit_DSBA%20v2.ipynb\" target=\"_parent\"><img src=\"https://colab.research.google.com/assets/colab-badge.svg\" alt=\"Open In Colab\"/></a>"
      ]
    },
    {
      "cell_type": "code",
      "source": [
        "#import data / explore data\n",
        "import pandas as pd\n",
        "from google.colab import files \n",
        "import io\n",
        "\n",
        "upload = files.upload()\n",
        "\n",
        "dfZM = pd.read_csv(io.BytesIO(upload['fitness.csv']))"
      ],
      "metadata": {
        "id": "iX2ZTsgjkiBJ",
        "colab": {
          "base_uri": "https://localhost:8080/",
          "height": 73
        },
        "outputId": "23174cc0-e57f-457a-b61e-239f5382feec"
      },
      "execution_count": 1,
      "outputs": [
        {
          "output_type": "display_data",
          "data": {
            "text/plain": [
              "<IPython.core.display.HTML object>"
            ],
            "text/html": [
              "\n",
              "     <input type=\"file\" id=\"files-afe695f0-4be8-493c-8d39-3354bfebbe93\" name=\"files[]\" multiple disabled\n",
              "        style=\"border:none\" />\n",
              "     <output id=\"result-afe695f0-4be8-493c-8d39-3354bfebbe93\">\n",
              "      Upload widget is only available when the cell has been executed in the\n",
              "      current browser session. Please rerun this cell to enable.\n",
              "      </output>\n",
              "      <script>// Copyright 2017 Google LLC\n",
              "//\n",
              "// Licensed under the Apache License, Version 2.0 (the \"License\");\n",
              "// you may not use this file except in compliance with the License.\n",
              "// You may obtain a copy of the License at\n",
              "//\n",
              "//      http://www.apache.org/licenses/LICENSE-2.0\n",
              "//\n",
              "// Unless required by applicable law or agreed to in writing, software\n",
              "// distributed under the License is distributed on an \"AS IS\" BASIS,\n",
              "// WITHOUT WARRANTIES OR CONDITIONS OF ANY KIND, either express or implied.\n",
              "// See the License for the specific language governing permissions and\n",
              "// limitations under the License.\n",
              "\n",
              "/**\n",
              " * @fileoverview Helpers for google.colab Python module.\n",
              " */\n",
              "(function(scope) {\n",
              "function span(text, styleAttributes = {}) {\n",
              "  const element = document.createElement('span');\n",
              "  element.textContent = text;\n",
              "  for (const key of Object.keys(styleAttributes)) {\n",
              "    element.style[key] = styleAttributes[key];\n",
              "  }\n",
              "  return element;\n",
              "}\n",
              "\n",
              "// Max number of bytes which will be uploaded at a time.\n",
              "const MAX_PAYLOAD_SIZE = 100 * 1024;\n",
              "\n",
              "function _uploadFiles(inputId, outputId) {\n",
              "  const steps = uploadFilesStep(inputId, outputId);\n",
              "  const outputElement = document.getElementById(outputId);\n",
              "  // Cache steps on the outputElement to make it available for the next call\n",
              "  // to uploadFilesContinue from Python.\n",
              "  outputElement.steps = steps;\n",
              "\n",
              "  return _uploadFilesContinue(outputId);\n",
              "}\n",
              "\n",
              "// This is roughly an async generator (not supported in the browser yet),\n",
              "// where there are multiple asynchronous steps and the Python side is going\n",
              "// to poll for completion of each step.\n",
              "// This uses a Promise to block the python side on completion of each step,\n",
              "// then passes the result of the previous step as the input to the next step.\n",
              "function _uploadFilesContinue(outputId) {\n",
              "  const outputElement = document.getElementById(outputId);\n",
              "  const steps = outputElement.steps;\n",
              "\n",
              "  const next = steps.next(outputElement.lastPromiseValue);\n",
              "  return Promise.resolve(next.value.promise).then((value) => {\n",
              "    // Cache the last promise value to make it available to the next\n",
              "    // step of the generator.\n",
              "    outputElement.lastPromiseValue = value;\n",
              "    return next.value.response;\n",
              "  });\n",
              "}\n",
              "\n",
              "/**\n",
              " * Generator function which is called between each async step of the upload\n",
              " * process.\n",
              " * @param {string} inputId Element ID of the input file picker element.\n",
              " * @param {string} outputId Element ID of the output display.\n",
              " * @return {!Iterable<!Object>} Iterable of next steps.\n",
              " */\n",
              "function* uploadFilesStep(inputId, outputId) {\n",
              "  const inputElement = document.getElementById(inputId);\n",
              "  inputElement.disabled = false;\n",
              "\n",
              "  const outputElement = document.getElementById(outputId);\n",
              "  outputElement.innerHTML = '';\n",
              "\n",
              "  const pickedPromise = new Promise((resolve) => {\n",
              "    inputElement.addEventListener('change', (e) => {\n",
              "      resolve(e.target.files);\n",
              "    });\n",
              "  });\n",
              "\n",
              "  const cancel = document.createElement('button');\n",
              "  inputElement.parentElement.appendChild(cancel);\n",
              "  cancel.textContent = 'Cancel upload';\n",
              "  const cancelPromise = new Promise((resolve) => {\n",
              "    cancel.onclick = () => {\n",
              "      resolve(null);\n",
              "    };\n",
              "  });\n",
              "\n",
              "  // Wait for the user to pick the files.\n",
              "  const files = yield {\n",
              "    promise: Promise.race([pickedPromise, cancelPromise]),\n",
              "    response: {\n",
              "      action: 'starting',\n",
              "    }\n",
              "  };\n",
              "\n",
              "  cancel.remove();\n",
              "\n",
              "  // Disable the input element since further picks are not allowed.\n",
              "  inputElement.disabled = true;\n",
              "\n",
              "  if (!files) {\n",
              "    return {\n",
              "      response: {\n",
              "        action: 'complete',\n",
              "      }\n",
              "    };\n",
              "  }\n",
              "\n",
              "  for (const file of files) {\n",
              "    const li = document.createElement('li');\n",
              "    li.append(span(file.name, {fontWeight: 'bold'}));\n",
              "    li.append(span(\n",
              "        `(${file.type || 'n/a'}) - ${file.size} bytes, ` +\n",
              "        `last modified: ${\n",
              "            file.lastModifiedDate ? file.lastModifiedDate.toLocaleDateString() :\n",
              "                                    'n/a'} - `));\n",
              "    const percent = span('0% done');\n",
              "    li.appendChild(percent);\n",
              "\n",
              "    outputElement.appendChild(li);\n",
              "\n",
              "    const fileDataPromise = new Promise((resolve) => {\n",
              "      const reader = new FileReader();\n",
              "      reader.onload = (e) => {\n",
              "        resolve(e.target.result);\n",
              "      };\n",
              "      reader.readAsArrayBuffer(file);\n",
              "    });\n",
              "    // Wait for the data to be ready.\n",
              "    let fileData = yield {\n",
              "      promise: fileDataPromise,\n",
              "      response: {\n",
              "        action: 'continue',\n",
              "      }\n",
              "    };\n",
              "\n",
              "    // Use a chunked sending to avoid message size limits. See b/62115660.\n",
              "    let position = 0;\n",
              "    do {\n",
              "      const length = Math.min(fileData.byteLength - position, MAX_PAYLOAD_SIZE);\n",
              "      const chunk = new Uint8Array(fileData, position, length);\n",
              "      position += length;\n",
              "\n",
              "      const base64 = btoa(String.fromCharCode.apply(null, chunk));\n",
              "      yield {\n",
              "        response: {\n",
              "          action: 'append',\n",
              "          file: file.name,\n",
              "          data: base64,\n",
              "        },\n",
              "      };\n",
              "\n",
              "      let percentDone = fileData.byteLength === 0 ?\n",
              "          100 :\n",
              "          Math.round((position / fileData.byteLength) * 100);\n",
              "      percent.textContent = `${percentDone}% done`;\n",
              "\n",
              "    } while (position < fileData.byteLength);\n",
              "  }\n",
              "\n",
              "  // All done.\n",
              "  yield {\n",
              "    response: {\n",
              "      action: 'complete',\n",
              "    }\n",
              "  };\n",
              "}\n",
              "\n",
              "scope.google = scope.google || {};\n",
              "scope.google.colab = scope.google.colab || {};\n",
              "scope.google.colab._files = {\n",
              "  _uploadFiles,\n",
              "  _uploadFilesContinue,\n",
              "};\n",
              "})(self);\n",
              "</script> "
            ]
          },
          "metadata": {}
        },
        {
          "output_type": "stream",
          "name": "stdout",
          "text": [
            "Saving fitness.csv to fitness.csv\n"
          ]
        }
      ]
    },
    {
      "cell_type": "code",
      "source": [
        "dfZM.info()"
      ],
      "metadata": {
        "colab": {
          "base_uri": "https://localhost:8080/",
          "height": 0
        },
        "id": "d6Ds-HkekzaY",
        "outputId": "3195ae73-c3c0-434d-eba6-bd84701e7524"
      },
      "execution_count": 2,
      "outputs": [
        {
          "output_type": "stream",
          "name": "stdout",
          "text": [
            "<class 'pandas.core.frame.DataFrame'>\n",
            "RangeIndex: 542 entries, 0 to 541\n",
            "Data columns (total 10 columns):\n",
            " #   Column         Non-Null Count  Dtype  \n",
            "---  ------         --------------  -----  \n",
            " 0   videoID        542 non-null    int64  \n",
            " 1   capturetime    542 non-null    int64  \n",
            " 2   length         542 non-null    float64\n",
            " 3   volume         542 non-null    int64  \n",
            " 4   calorie_upper  542 non-null    int64  \n",
            " 5   calorie_lower  542 non-null    int64  \n",
            " 6   duration       542 non-null    int64  \n",
            " 7   popularity     542 non-null    int64  \n",
            " 8   negativity     542 non-null    float64\n",
            " 9   releasedays    542 non-null    int64  \n",
            "dtypes: float64(2), int64(8)\n",
            "memory usage: 42.5 KB\n"
          ]
        }
      ]
    },
    {
      "cell_type": "markdown",
      "source": [
        "**Assignment**\n",
        "\n",
        "We are building a predictive model to understand what factors contributing to popular fitness\n",
        "YouTube videos. (50 points)\n",
        "\n",
        " VideoID: ID for selected YouTube videos\n",
        "\n",
        " capturetime: week ID of data collection\n",
        "\n",
        " length: average number of words per user comment\n",
        "\n",
        " volume: the number of user comments during the week\n",
        "\n",
        " calorie_upper: maximal calorie burned of each fitness routine\n",
        "\n",
        " calorie_lower: minimal calorie burned of each fitness routine\n",
        "\n",
        " duration: minutes needed of each fitness routine\n",
        "\n",
        " popularity: 1=popular, 0=non popular\n",
        "\n",
        " negativity: total number of negative words contained in user comments during the week\n",
        "\n",
        " releasedays: the number of days since the fitness video was released on YouTube\n",
        "\n",
        " Variable and model naming requirements:\n",
        "\n",
        "o Please include your name initials to all data frame names as well as model names in your\n",
        "Python coding.\n",
        "\n",
        "o Please instance, in my coding, I would name the data frames as dfXG, dfXG.train, and\n",
        "dfXG.test. I would also name the models as regressionXG, treeXG, etc.\n",
        "Canvas submission. You need to submit two separate documents via the Canvas Midterm Part II submission link:\n",
        "\n",
        " Word document: please provide your answers in the Word document, and copy/paste\n",
        "your Python codes at the end of the document.\n",
        "\n",
        " Python coding/script file.\n",
        "\n",
        "Questions:\n",
        "\n",
        "1. Simply go over the data definition, data summary, and data structure. Should you reject\n",
        "any variable for your predictive models? Why? (4 points)\n",
        "2. Do you need to change data types/measurement levels of any variable? If so, please list\n",
        "all variables that you have modified their data types. (2 points)\n",
        "3. Before building the model, you want to get some model-free evidence. Using\n",
        "visualizations or summary statistics to show on average whether longer videos are more\n",
        "likely to be popular (4 points).\n",
        "4. Please run the VIF test to detect multicollinearity, and copy your VIF test results here. Do\n",
        "you see any multicollinearity issue in your dataset? Could you please offer any\n",
        "explanation for the multicollinearity issue? (4 points)\n",
        "5. You plan to use PCA to create a single fitness intensity index for each fitness routine.\n",
        "This index should capture all fitness routine features. (14 points)\n",
        "- Which variables should you select to run the PCA analysis?\n",
        "- Please post your PCA analysis summary here. How much variance is explained by\n",
        "PC1?\n",
        "- Based on the above results, please provide a label for PC1 and PC2.\n",
        "- Please only keep PC1 to represent all fitness routine features in the following\n",
        "predictive modeling.\n",
        "- Rename PC1 as the “fitness intensity”\n",
        "6. Please apply both logistic regression as well as decision tree models to analyze the data.\n",
        "- Model result summary for the logistic regression model (4 points)\n",
        "- Tree plot for the decision tree model (8 points)\n",
        "7. Which model will you choose based on both accuracy and AUC indicators. Please\n",
        "provide support for your answer. (5 points)\n",
        "8. Based on the PCA and regression model results, how will you explain the relationship\n",
        "between the fitness intensity index and fitness video popularity? What can you\n",
        "recommend for these video creators? (5 points)\n",
        "9. Please copy and paste your Python codes at the end of the documents."
      ],
      "metadata": {
        "id": "zxmDtnhckRmC"
      }
    },
    {
      "cell_type": "code",
      "source": [
        "dfZM.head()"
      ],
      "metadata": {
        "colab": {
          "base_uri": "https://localhost:8080/",
          "height": 206
        },
        "id": "YeEA1b5Ak61_",
        "outputId": "57aba539-7517-4f77-95a8-9d2ee17de46f"
      },
      "execution_count": 3,
      "outputs": [
        {
          "output_type": "execute_result",
          "data": {
            "text/plain": [
              "   videoID  capturetime  length  volume  calorie_upper  calorie_lower  \\\n",
              "0        1           34  116.75     283            531            354   \n",
              "1        2           34  119.90     342            338            147   \n",
              "2        3           34  111.40     579            421            219   \n",
              "3        4           34   87.77     390            211             86   \n",
              "4        5           34  134.45     240            318            142   \n",
              "\n",
              "   duration  popularity  negativity  releasedays  \n",
              "0        45           1       49.40          382  \n",
              "1        39           1       59.73          410  \n",
              "2        38           1       49.70          424  \n",
              "3        26           0       59.16          473  \n",
              "4        33           0       60.89          529  "
            ],
            "text/html": [
              "\n",
              "  <div id=\"df-7275af7f-8cb5-4a05-bbdf-4b8178004332\">\n",
              "    <div class=\"colab-df-container\">\n",
              "      <div>\n",
              "<style scoped>\n",
              "    .dataframe tbody tr th:only-of-type {\n",
              "        vertical-align: middle;\n",
              "    }\n",
              "\n",
              "    .dataframe tbody tr th {\n",
              "        vertical-align: top;\n",
              "    }\n",
              "\n",
              "    .dataframe thead th {\n",
              "        text-align: right;\n",
              "    }\n",
              "</style>\n",
              "<table border=\"1\" class=\"dataframe\">\n",
              "  <thead>\n",
              "    <tr style=\"text-align: right;\">\n",
              "      <th></th>\n",
              "      <th>videoID</th>\n",
              "      <th>capturetime</th>\n",
              "      <th>length</th>\n",
              "      <th>volume</th>\n",
              "      <th>calorie_upper</th>\n",
              "      <th>calorie_lower</th>\n",
              "      <th>duration</th>\n",
              "      <th>popularity</th>\n",
              "      <th>negativity</th>\n",
              "      <th>releasedays</th>\n",
              "    </tr>\n",
              "  </thead>\n",
              "  <tbody>\n",
              "    <tr>\n",
              "      <th>0</th>\n",
              "      <td>1</td>\n",
              "      <td>34</td>\n",
              "      <td>116.75</td>\n",
              "      <td>283</td>\n",
              "      <td>531</td>\n",
              "      <td>354</td>\n",
              "      <td>45</td>\n",
              "      <td>1</td>\n",
              "      <td>49.40</td>\n",
              "      <td>382</td>\n",
              "    </tr>\n",
              "    <tr>\n",
              "      <th>1</th>\n",
              "      <td>2</td>\n",
              "      <td>34</td>\n",
              "      <td>119.90</td>\n",
              "      <td>342</td>\n",
              "      <td>338</td>\n",
              "      <td>147</td>\n",
              "      <td>39</td>\n",
              "      <td>1</td>\n",
              "      <td>59.73</td>\n",
              "      <td>410</td>\n",
              "    </tr>\n",
              "    <tr>\n",
              "      <th>2</th>\n",
              "      <td>3</td>\n",
              "      <td>34</td>\n",
              "      <td>111.40</td>\n",
              "      <td>579</td>\n",
              "      <td>421</td>\n",
              "      <td>219</td>\n",
              "      <td>38</td>\n",
              "      <td>1</td>\n",
              "      <td>49.70</td>\n",
              "      <td>424</td>\n",
              "    </tr>\n",
              "    <tr>\n",
              "      <th>3</th>\n",
              "      <td>4</td>\n",
              "      <td>34</td>\n",
              "      <td>87.77</td>\n",
              "      <td>390</td>\n",
              "      <td>211</td>\n",
              "      <td>86</td>\n",
              "      <td>26</td>\n",
              "      <td>0</td>\n",
              "      <td>59.16</td>\n",
              "      <td>473</td>\n",
              "    </tr>\n",
              "    <tr>\n",
              "      <th>4</th>\n",
              "      <td>5</td>\n",
              "      <td>34</td>\n",
              "      <td>134.45</td>\n",
              "      <td>240</td>\n",
              "      <td>318</td>\n",
              "      <td>142</td>\n",
              "      <td>33</td>\n",
              "      <td>0</td>\n",
              "      <td>60.89</td>\n",
              "      <td>529</td>\n",
              "    </tr>\n",
              "  </tbody>\n",
              "</table>\n",
              "</div>\n",
              "      <button class=\"colab-df-convert\" onclick=\"convertToInteractive('df-7275af7f-8cb5-4a05-bbdf-4b8178004332')\"\n",
              "              title=\"Convert this dataframe to an interactive table.\"\n",
              "              style=\"display:none;\">\n",
              "        \n",
              "  <svg xmlns=\"http://www.w3.org/2000/svg\" height=\"24px\"viewBox=\"0 0 24 24\"\n",
              "       width=\"24px\">\n",
              "    <path d=\"M0 0h24v24H0V0z\" fill=\"none\"/>\n",
              "    <path d=\"M18.56 5.44l.94 2.06.94-2.06 2.06-.94-2.06-.94-.94-2.06-.94 2.06-2.06.94zm-11 1L8.5 8.5l.94-2.06 2.06-.94-2.06-.94L8.5 2.5l-.94 2.06-2.06.94zm10 10l.94 2.06.94-2.06 2.06-.94-2.06-.94-.94-2.06-.94 2.06-2.06.94z\"/><path d=\"M17.41 7.96l-1.37-1.37c-.4-.4-.92-.59-1.43-.59-.52 0-1.04.2-1.43.59L10.3 9.45l-7.72 7.72c-.78.78-.78 2.05 0 2.83L4 21.41c.39.39.9.59 1.41.59.51 0 1.02-.2 1.41-.59l7.78-7.78 2.81-2.81c.8-.78.8-2.07 0-2.86zM5.41 20L4 18.59l7.72-7.72 1.47 1.35L5.41 20z\"/>\n",
              "  </svg>\n",
              "      </button>\n",
              "      \n",
              "  <style>\n",
              "    .colab-df-container {\n",
              "      display:flex;\n",
              "      flex-wrap:wrap;\n",
              "      gap: 12px;\n",
              "    }\n",
              "\n",
              "    .colab-df-convert {\n",
              "      background-color: #E8F0FE;\n",
              "      border: none;\n",
              "      border-radius: 50%;\n",
              "      cursor: pointer;\n",
              "      display: none;\n",
              "      fill: #1967D2;\n",
              "      height: 32px;\n",
              "      padding: 0 0 0 0;\n",
              "      width: 32px;\n",
              "    }\n",
              "\n",
              "    .colab-df-convert:hover {\n",
              "      background-color: #E2EBFA;\n",
              "      box-shadow: 0px 1px 2px rgba(60, 64, 67, 0.3), 0px 1px 3px 1px rgba(60, 64, 67, 0.15);\n",
              "      fill: #174EA6;\n",
              "    }\n",
              "\n",
              "    [theme=dark] .colab-df-convert {\n",
              "      background-color: #3B4455;\n",
              "      fill: #D2E3FC;\n",
              "    }\n",
              "\n",
              "    [theme=dark] .colab-df-convert:hover {\n",
              "      background-color: #434B5C;\n",
              "      box-shadow: 0px 1px 3px 1px rgba(0, 0, 0, 0.15);\n",
              "      filter: drop-shadow(0px 1px 2px rgba(0, 0, 0, 0.3));\n",
              "      fill: #FFFFFF;\n",
              "    }\n",
              "  </style>\n",
              "\n",
              "      <script>\n",
              "        const buttonEl =\n",
              "          document.querySelector('#df-7275af7f-8cb5-4a05-bbdf-4b8178004332 button.colab-df-convert');\n",
              "        buttonEl.style.display =\n",
              "          google.colab.kernel.accessAllowed ? 'block' : 'none';\n",
              "\n",
              "        async function convertToInteractive(key) {\n",
              "          const element = document.querySelector('#df-7275af7f-8cb5-4a05-bbdf-4b8178004332');\n",
              "          const dataTable =\n",
              "            await google.colab.kernel.invokeFunction('convertToInteractive',\n",
              "                                                     [key], {});\n",
              "          if (!dataTable) return;\n",
              "\n",
              "          const docLinkHtml = 'Like what you see? Visit the ' +\n",
              "            '<a target=\"_blank\" href=https://colab.research.google.com/notebooks/data_table.ipynb>data table notebook</a>'\n",
              "            + ' to learn more about interactive tables.';\n",
              "          element.innerHTML = '';\n",
              "          dataTable['output_type'] = 'display_data';\n",
              "          await google.colab.output.renderOutput(dataTable, element);\n",
              "          const docLink = document.createElement('div');\n",
              "          docLink.innerHTML = docLinkHtml;\n",
              "          element.appendChild(docLink);\n",
              "        }\n",
              "      </script>\n",
              "    </div>\n",
              "  </div>\n",
              "  "
            ]
          },
          "metadata": {},
          "execution_count": 3
        }
      ]
    },
    {
      "cell_type": "code",
      "source": [
        "dfZM.describe(include='all')"
      ],
      "metadata": {
        "colab": {
          "base_uri": "https://localhost:8080/",
          "height": 300
        },
        "id": "R9dYD4uwk9K3",
        "outputId": "5e08ae6f-ce97-4214-d4ba-872c179104ba"
      },
      "execution_count": 6,
      "outputs": [
        {
          "output_type": "execute_result",
          "data": {
            "text/plain": [
              "          videoID  capturetime      length        volume  calorie_upper  \\\n",
              "count  542.000000        542.0  542.000000    542.000000     542.000000   \n",
              "mean   271.649446         34.0  103.685812    335.675277     257.872694   \n",
              "std    156.826814          0.0   20.650389    803.098409     199.571298   \n",
              "min      1.000000         34.0   53.140000      9.000000      15.000000   \n",
              "25%    136.250000         34.0   90.935000     75.000000     102.000000   \n",
              "50%    271.500000         34.0  101.195000    170.000000     220.000000   \n",
              "75%    406.750000         34.0  113.645000    337.750000     360.000000   \n",
              "max    543.000000         34.0  223.330000  13982.000000    1260.000000   \n",
              "\n",
              "       calorie_lower    duration  popularity  negativity  releasedays  \n",
              "count     542.000000  542.000000  542.000000  542.000000   542.000000  \n",
              "mean      146.902214   23.442804    0.345018   50.498469  1740.038745  \n",
              "std       115.327676   15.310449    0.475813   19.321170   567.092781  \n",
              "min        12.000000    3.000000    0.000000   11.790000   368.000000  \n",
              "25%        60.000000   10.000000    0.000000   37.645000  1365.250000  \n",
              "50%       123.500000   21.000000    0.000000   46.985000  1834.500000  \n",
              "75%       208.750000   32.000000    1.000000   60.647500  2194.500000  \n",
              "max       866.000000   96.000000    1.000000  140.600000  2557.000000  "
            ],
            "text/html": [
              "\n",
              "  <div id=\"df-0e07389a-c7c0-479c-8e6f-a95646069436\">\n",
              "    <div class=\"colab-df-container\">\n",
              "      <div>\n",
              "<style scoped>\n",
              "    .dataframe tbody tr th:only-of-type {\n",
              "        vertical-align: middle;\n",
              "    }\n",
              "\n",
              "    .dataframe tbody tr th {\n",
              "        vertical-align: top;\n",
              "    }\n",
              "\n",
              "    .dataframe thead th {\n",
              "        text-align: right;\n",
              "    }\n",
              "</style>\n",
              "<table border=\"1\" class=\"dataframe\">\n",
              "  <thead>\n",
              "    <tr style=\"text-align: right;\">\n",
              "      <th></th>\n",
              "      <th>videoID</th>\n",
              "      <th>capturetime</th>\n",
              "      <th>length</th>\n",
              "      <th>volume</th>\n",
              "      <th>calorie_upper</th>\n",
              "      <th>calorie_lower</th>\n",
              "      <th>duration</th>\n",
              "      <th>popularity</th>\n",
              "      <th>negativity</th>\n",
              "      <th>releasedays</th>\n",
              "    </tr>\n",
              "  </thead>\n",
              "  <tbody>\n",
              "    <tr>\n",
              "      <th>count</th>\n",
              "      <td>542.000000</td>\n",
              "      <td>542.0</td>\n",
              "      <td>542.000000</td>\n",
              "      <td>542.000000</td>\n",
              "      <td>542.000000</td>\n",
              "      <td>542.000000</td>\n",
              "      <td>542.000000</td>\n",
              "      <td>542.000000</td>\n",
              "      <td>542.000000</td>\n",
              "      <td>542.000000</td>\n",
              "    </tr>\n",
              "    <tr>\n",
              "      <th>mean</th>\n",
              "      <td>271.649446</td>\n",
              "      <td>34.0</td>\n",
              "      <td>103.685812</td>\n",
              "      <td>335.675277</td>\n",
              "      <td>257.872694</td>\n",
              "      <td>146.902214</td>\n",
              "      <td>23.442804</td>\n",
              "      <td>0.345018</td>\n",
              "      <td>50.498469</td>\n",
              "      <td>1740.038745</td>\n",
              "    </tr>\n",
              "    <tr>\n",
              "      <th>std</th>\n",
              "      <td>156.826814</td>\n",
              "      <td>0.0</td>\n",
              "      <td>20.650389</td>\n",
              "      <td>803.098409</td>\n",
              "      <td>199.571298</td>\n",
              "      <td>115.327676</td>\n",
              "      <td>15.310449</td>\n",
              "      <td>0.475813</td>\n",
              "      <td>19.321170</td>\n",
              "      <td>567.092781</td>\n",
              "    </tr>\n",
              "    <tr>\n",
              "      <th>min</th>\n",
              "      <td>1.000000</td>\n",
              "      <td>34.0</td>\n",
              "      <td>53.140000</td>\n",
              "      <td>9.000000</td>\n",
              "      <td>15.000000</td>\n",
              "      <td>12.000000</td>\n",
              "      <td>3.000000</td>\n",
              "      <td>0.000000</td>\n",
              "      <td>11.790000</td>\n",
              "      <td>368.000000</td>\n",
              "    </tr>\n",
              "    <tr>\n",
              "      <th>25%</th>\n",
              "      <td>136.250000</td>\n",
              "      <td>34.0</td>\n",
              "      <td>90.935000</td>\n",
              "      <td>75.000000</td>\n",
              "      <td>102.000000</td>\n",
              "      <td>60.000000</td>\n",
              "      <td>10.000000</td>\n",
              "      <td>0.000000</td>\n",
              "      <td>37.645000</td>\n",
              "      <td>1365.250000</td>\n",
              "    </tr>\n",
              "    <tr>\n",
              "      <th>50%</th>\n",
              "      <td>271.500000</td>\n",
              "      <td>34.0</td>\n",
              "      <td>101.195000</td>\n",
              "      <td>170.000000</td>\n",
              "      <td>220.000000</td>\n",
              "      <td>123.500000</td>\n",
              "      <td>21.000000</td>\n",
              "      <td>0.000000</td>\n",
              "      <td>46.985000</td>\n",
              "      <td>1834.500000</td>\n",
              "    </tr>\n",
              "    <tr>\n",
              "      <th>75%</th>\n",
              "      <td>406.750000</td>\n",
              "      <td>34.0</td>\n",
              "      <td>113.645000</td>\n",
              "      <td>337.750000</td>\n",
              "      <td>360.000000</td>\n",
              "      <td>208.750000</td>\n",
              "      <td>32.000000</td>\n",
              "      <td>1.000000</td>\n",
              "      <td>60.647500</td>\n",
              "      <td>2194.500000</td>\n",
              "    </tr>\n",
              "    <tr>\n",
              "      <th>max</th>\n",
              "      <td>543.000000</td>\n",
              "      <td>34.0</td>\n",
              "      <td>223.330000</td>\n",
              "      <td>13982.000000</td>\n",
              "      <td>1260.000000</td>\n",
              "      <td>866.000000</td>\n",
              "      <td>96.000000</td>\n",
              "      <td>1.000000</td>\n",
              "      <td>140.600000</td>\n",
              "      <td>2557.000000</td>\n",
              "    </tr>\n",
              "  </tbody>\n",
              "</table>\n",
              "</div>\n",
              "      <button class=\"colab-df-convert\" onclick=\"convertToInteractive('df-0e07389a-c7c0-479c-8e6f-a95646069436')\"\n",
              "              title=\"Convert this dataframe to an interactive table.\"\n",
              "              style=\"display:none;\">\n",
              "        \n",
              "  <svg xmlns=\"http://www.w3.org/2000/svg\" height=\"24px\"viewBox=\"0 0 24 24\"\n",
              "       width=\"24px\">\n",
              "    <path d=\"M0 0h24v24H0V0z\" fill=\"none\"/>\n",
              "    <path d=\"M18.56 5.44l.94 2.06.94-2.06 2.06-.94-2.06-.94-.94-2.06-.94 2.06-2.06.94zm-11 1L8.5 8.5l.94-2.06 2.06-.94-2.06-.94L8.5 2.5l-.94 2.06-2.06.94zm10 10l.94 2.06.94-2.06 2.06-.94-2.06-.94-.94-2.06-.94 2.06-2.06.94z\"/><path d=\"M17.41 7.96l-1.37-1.37c-.4-.4-.92-.59-1.43-.59-.52 0-1.04.2-1.43.59L10.3 9.45l-7.72 7.72c-.78.78-.78 2.05 0 2.83L4 21.41c.39.39.9.59 1.41.59.51 0 1.02-.2 1.41-.59l7.78-7.78 2.81-2.81c.8-.78.8-2.07 0-2.86zM5.41 20L4 18.59l7.72-7.72 1.47 1.35L5.41 20z\"/>\n",
              "  </svg>\n",
              "      </button>\n",
              "      \n",
              "  <style>\n",
              "    .colab-df-container {\n",
              "      display:flex;\n",
              "      flex-wrap:wrap;\n",
              "      gap: 12px;\n",
              "    }\n",
              "\n",
              "    .colab-df-convert {\n",
              "      background-color: #E8F0FE;\n",
              "      border: none;\n",
              "      border-radius: 50%;\n",
              "      cursor: pointer;\n",
              "      display: none;\n",
              "      fill: #1967D2;\n",
              "      height: 32px;\n",
              "      padding: 0 0 0 0;\n",
              "      width: 32px;\n",
              "    }\n",
              "\n",
              "    .colab-df-convert:hover {\n",
              "      background-color: #E2EBFA;\n",
              "      box-shadow: 0px 1px 2px rgba(60, 64, 67, 0.3), 0px 1px 3px 1px rgba(60, 64, 67, 0.15);\n",
              "      fill: #174EA6;\n",
              "    }\n",
              "\n",
              "    [theme=dark] .colab-df-convert {\n",
              "      background-color: #3B4455;\n",
              "      fill: #D2E3FC;\n",
              "    }\n",
              "\n",
              "    [theme=dark] .colab-df-convert:hover {\n",
              "      background-color: #434B5C;\n",
              "      box-shadow: 0px 1px 3px 1px rgba(0, 0, 0, 0.15);\n",
              "      filter: drop-shadow(0px 1px 2px rgba(0, 0, 0, 0.3));\n",
              "      fill: #FFFFFF;\n",
              "    }\n",
              "  </style>\n",
              "\n",
              "      <script>\n",
              "        const buttonEl =\n",
              "          document.querySelector('#df-0e07389a-c7c0-479c-8e6f-a95646069436 button.colab-df-convert');\n",
              "        buttonEl.style.display =\n",
              "          google.colab.kernel.accessAllowed ? 'block' : 'none';\n",
              "\n",
              "        async function convertToInteractive(key) {\n",
              "          const element = document.querySelector('#df-0e07389a-c7c0-479c-8e6f-a95646069436');\n",
              "          const dataTable =\n",
              "            await google.colab.kernel.invokeFunction('convertToInteractive',\n",
              "                                                     [key], {});\n",
              "          if (!dataTable) return;\n",
              "\n",
              "          const docLinkHtml = 'Like what you see? Visit the ' +\n",
              "            '<a target=\"_blank\" href=https://colab.research.google.com/notebooks/data_table.ipynb>data table notebook</a>'\n",
              "            + ' to learn more about interactive tables.';\n",
              "          element.innerHTML = '';\n",
              "          dataTable['output_type'] = 'display_data';\n",
              "          await google.colab.output.renderOutput(dataTable, element);\n",
              "          const docLink = document.createElement('div');\n",
              "          docLink.innerHTML = docLinkHtml;\n",
              "          element.appendChild(docLink);\n",
              "        }\n",
              "      </script>\n",
              "    </div>\n",
              "  </div>\n",
              "  "
            ]
          },
          "metadata": {},
          "execution_count": 6
        }
      ]
    },
    {
      "cell_type": "code",
      "source": [
        "dfZM = dfZM.drop(['videoID','capturetime'],axis = 1)"
      ],
      "metadata": {
        "id": "wA5VKluzlFRO"
      },
      "execution_count": 8,
      "outputs": []
    },
    {
      "cell_type": "code",
      "source": [
        "dfZM.info()"
      ],
      "metadata": {
        "colab": {
          "base_uri": "https://localhost:8080/",
          "height": 0
        },
        "id": "s_QvUxSjmIMQ",
        "outputId": "b49e7bb6-ec59-4c9d-d81c-9c8c21296367"
      },
      "execution_count": 10,
      "outputs": [
        {
          "output_type": "stream",
          "name": "stdout",
          "text": [
            "<class 'pandas.core.frame.DataFrame'>\n",
            "RangeIndex: 542 entries, 0 to 541\n",
            "Data columns (total 8 columns):\n",
            " #   Column         Non-Null Count  Dtype  \n",
            "---  ------         --------------  -----  \n",
            " 0   length         542 non-null    float64\n",
            " 1   volume         542 non-null    int64  \n",
            " 2   calorie_upper  542 non-null    int64  \n",
            " 3   calorie_lower  542 non-null    int64  \n",
            " 4   duration       542 non-null    int64  \n",
            " 5   popularity     542 non-null    int64  \n",
            " 6   negativity     542 non-null    float64\n",
            " 7   releasedays    542 non-null    int64  \n",
            "dtypes: float64(2), int64(6)\n",
            "memory usage: 34.0 KB\n"
          ]
        }
      ]
    },
    {
      "cell_type": "code",
      "source": [
        "#convert popularity to categorical\n",
        "dfZM['popularity'] = pd.Categorical(dfZM['popularity'])"
      ],
      "metadata": {
        "id": "-BuLklROsbSb"
      },
      "execution_count": 25,
      "outputs": []
    },
    {
      "cell_type": "markdown",
      "source": [
        "1. Simply go over the data definition, data summary, and data structure. Should you reject\n",
        "any variable for your predictive models? Why? (4 points)\n",
        "\n",
        "Based off of none of the variables having no null values - there is no reason to drop any for this reason. Although I will drop VideoID and capturetime, since these are mainly unique identifiers for the videos and not necessarily influential to the popularity of the video.\n",
        "\n",
        "2. Do you need to change data types/measurement levels of any variable? If so, please list\n",
        "all variables that you have modified their data types. (2 points)\n",
        "\n",
        "The only variable I have transformed is the popularity attribute - since this is binary (1 = popular, 0 = not popular) this can be changed to a categorical variable."
      ],
      "metadata": {
        "id": "Rdq7WMUNldAy"
      }
    },
    {
      "cell_type": "code",
      "source": [
        "#Model Free Evidence - Longer Videos predict a more popular video?\n",
        "\n",
        "import seaborn as sns\n",
        "import matplotlib.pyplot as plt\n",
        "\n",
        "#select specific variables\n",
        "dataZM=dfZM[['length', 'popularity']]\n",
        "\n",
        "print(dataZM)\n"
      ],
      "metadata": {
        "colab": {
          "base_uri": "https://localhost:8080/",
          "height": 0
        },
        "id": "ilHoQgbGmLfu",
        "outputId": "cd7f1dc8-8165-48b1-ff9d-7d1042aebed6"
      },
      "execution_count": 26,
      "outputs": [
        {
          "output_type": "stream",
          "name": "stdout",
          "text": [
            "     length popularity\n",
            "0    116.75          1\n",
            "1    119.90          1\n",
            "2    111.40          1\n",
            "3     87.77          0\n",
            "4    134.45          0\n",
            "..      ...        ...\n",
            "537  133.83          0\n",
            "538  113.94          0\n",
            "539   57.82          0\n",
            "540  111.80          0\n",
            "541   71.72          0\n",
            "\n",
            "[542 rows x 2 columns]\n"
          ]
        }
      ]
    },
    {
      "cell_type": "code",
      "source": [
        "# Group the data by popularity and calculate the mean of the length variable for each group\n",
        "length_by_popularity = dataZM.groupby('popularity')['length'].mean()\n",
        "\n",
        "# Print the mean length for popular and non-popular videos\n",
        "print(\"Mean length of comments for popular videos:\", length_by_popularity[1])\n",
        "print(\"Mean length of comments for non-popular videos:\", length_by_popularity[0])\n"
      ],
      "metadata": {
        "colab": {
          "base_uri": "https://localhost:8080/",
          "height": 0
        },
        "id": "8v_lK1qGnYm1",
        "outputId": "ad38bc3d-09d4-4bb6-9096-1eb5e6043186"
      },
      "execution_count": 28,
      "outputs": [
        {
          "output_type": "stream",
          "name": "stdout",
          "text": [
            "Mean length of comments for popular videos: 100.59973262032086\n",
            "Mean length of comments for non-popular videos: 105.31143661971831\n"
          ]
        }
      ]
    },
    {
      "cell_type": "code",
      "source": [
        "# Plot the mean length for popular and non-popular videos using a bar plot\n",
        "sns.barplot(x=length_by_popularity.index, y=length_by_popularity.values)\n",
        "plt.xlabel('Popularity')\n",
        "plt.ylabel('Mean length of comments')\n",
        "plt.show()\n"
      ],
      "metadata": {
        "colab": {
          "base_uri": "https://localhost:8080/",
          "height": 279
        },
        "id": "FKZK_jJ9o1n8",
        "outputId": "e873c6bd-ea1b-41fe-9698-97a1e666675c"
      },
      "execution_count": 31,
      "outputs": [
        {
          "output_type": "display_data",
          "data": {
            "text/plain": [
              "<Figure size 432x288 with 1 Axes>"
            ],
            "image/png": "[encoded data removed]"
          },
          "metadata": {
            "needs_background": "light"
          }
        }
      ]
    },
    {
      "cell_type": "markdown",
      "source": [
        "Before building the model, you want to get some model-free evidence. Using\n",
        "visualizations or summary statistics to show on average whether longer videos are more\n",
        "likely to be popular (4 points)\n",
        "\n",
        "Based off of this, it shows that the average length of comments does not necessarily contribute to a more popular video - as both are relatively the same."
      ],
      "metadata": {
        "id": "UPLk7Xg7uAYD"
      }
    },
    {
      "cell_type": "code",
      "source": [
        "#VIF Factor\n",
        "import numpy as np\n",
        "from statsmodels.stats.outliers_influence import variance_inflation_factor\n",
        "\n",
        "\n",
        "# Create a correlation matrix for all variables\n",
        "corr_matrixZM = dfZM.corr()\n",
        "\n",
        "# Calculate VIF scores for each variable\n",
        "vifZM = pd.DataFrame()\n",
        "vifZM[\"VIF Factor\"] = [variance_inflation_factor(dfZM.values, i) for i in range(dfZM.shape[1])]\n",
        "vifZM[\"features\"] = dfZM.columns\n",
        "\n",
        "# Print the VIF scores for each variable\n",
        "print(vifZM)"
      ],
      "metadata": {
        "colab": {
          "base_uri": "https://localhost:8080/",
          "height": 0
        },
        "id": "6eRhQ9zZo2vU",
        "outputId": "48b44c03-a8a0-4885-e18a-64a8ff7befe2"
      },
      "execution_count": 32,
      "outputs": [
        {
          "output_type": "stream",
          "name": "stdout",
          "text": [
            "   VIF Factor       features\n",
            "0   22.837523         length\n",
            "1    1.348877         volume\n",
            "2   61.912195  calorie_upper\n",
            "3   39.424115  calorie_lower\n",
            "4   26.102833       duration\n",
            "5    1.677506     popularity\n",
            "6    7.105452     negativity\n",
            "7    9.441692    releasedays\n"
          ]
        }
      ]
    },
    {
      "cell_type": "code",
      "source": [
        "from statsmodels.stats.outliers_influence import variance_inflation_factor\n",
        "from statsmodels.tools.tools import add_constant\n",
        "\n",
        "# add a constant term for the VIF calculation\n",
        "X_ZM = add_constant(dfZM.drop('popularity', axis=1))\n",
        "\n",
        "# calculate VIF for each feature\n",
        "vifZM = pd.Series([variance_inflation_factor(X_ZM.values, i)\n",
        "                 for i in range(X_ZM.shape[1])],\n",
        "                index=X_ZM.columns)\n",
        "\n",
        "print(vifZM)"
      ],
      "metadata": {
        "colab": {
          "base_uri": "https://localhost:8080/",
          "height": 0
        },
        "id": "UBTmNMq5xamO",
        "outputId": "be9a6a03-f0f5-49a1-f783-068a49e546c8"
      },
      "execution_count": 33,
      "outputs": [
        {
          "output_type": "stream",
          "name": "stdout",
          "text": [
            "const            60.750158\n",
            "length            1.166934\n",
            "volume            1.037117\n",
            "calorie_upper    23.509758\n",
            "calorie_lower    15.440537\n",
            "duration          7.827119\n",
            "negativity        1.392759\n",
            "releasedays       1.679876\n",
            "dtype: float64\n"
          ]
        }
      ]
    },
    {
      "cell_type": "code",
      "source": [
        "# select only numerical variables for PCA\n",
        "dfZM_num = dfZM[['length', 'volume', 'calorie_upper', 'calorie_lower', 'duration', 'negativity', 'releasedays']]\n",
        "\n",
        "# standardize the numerical variables\n",
        "from sklearn.preprocessing import StandardScaler\n",
        "scaler = StandardScaler()\n",
        "dfZM_num_scaled = scaler.fit_transform(dfZM_num)\n",
        "\n",
        "# PCA analysis\n",
        "from sklearn.decomposition import PCA\n",
        "pca = PCA(n_components=7)\n",
        "dfZM_pca = pca.fit_transform(dfZM_num_scaled)\n",
        "\n",
        "# summary of PCA analysis\n",
        "import numpy as np\n",
        "variance_ratio = np.round(pca.explained_variance_ratio_ * 100, decimals=2)\n",
        "labels = ['PC' + str(x) for x in range(1, len(variance_ratio)+1)]\n",
        "\n",
        "print('PCA analysis summary:')\n",
        "print('Explained variance ratio:', variance_ratio)\n",
        "print('Cumulative explained variance ratio:', np.cumsum(variance_ratio))\n",
        "print('Loadings:', pca.components_)"
      ],
      "metadata": {
        "colab": {
          "base_uri": "https://localhost:8080/",
          "height": 0
        },
        "id": "rYv96PrJxyd7",
        "outputId": "500415dc-dd70-4511-918d-58549f04d3af"
      },
      "execution_count": 35,
      "outputs": [
        {
          "output_type": "stream",
          "name": "stdout",
          "text": [
            "PCA analysis summary:\n",
            "Explained variance ratio: [43.35 21.4  14.39 12.18  6.75  1.54  0.38]\n",
            "Cumulative explained variance ratio: [43.35 64.75 79.14 91.32 98.07 99.61 99.99]\n",
            "Loadings: [[ 0.2299847   0.13831857  0.55970191  0.54514013  0.55093919 -0.03100991\n",
            "  -0.11417274]\n",
            " [ 0.03180671 -0.03374716 -0.01175235 -0.10899072  0.01165886  0.71197826\n",
            "  -0.69194176]\n",
            " [-0.5550378   0.82791093  0.01539284  0.01164755 -0.01936119 -0.00698354\n",
            "  -0.07550029]\n",
            " [ 0.77616785  0.53991404 -0.16849208 -0.15485298 -0.09302194  0.12940945\n",
            "   0.16818854]\n",
            " [-0.16695985 -0.05088022  0.09844375  0.20192244 -0.04034525  0.68694968\n",
            "   0.66749095]\n",
            " [ 0.08663104  0.01351699  0.18488114  0.54088931 -0.79843095 -0.05732604\n",
            "  -0.15745415]\n",
            " [-0.01453772 -0.00373048 -0.78364337  0.5774896   0.21950492  0.01198468\n",
            "  -0.06210905]]\n"
          ]
        }
      ]
    },
    {
      "cell_type": "markdown",
      "source": [
        "You plan to use PCA to create a single fitness intensity index for each fitness routine.\n",
        "This index should capture all fitness routine features. (14 points)\n",
        "- Which variables should you select to run the PCA analysis?\n",
        "- Please post your PCA analysis summary here. How much variance is explained by\n",
        "PC1?\n",
        "- Based on the above results, please provide a label for PC1 and PC2.\n",
        "- Please only keep PC1 to represent all fitness routine features in the following\n",
        "predictive modeling.\n",
        "- Rename PC1 as the “fitness intensity”\n",
        "\n",
        "As we can see from the output, the first principal component (PC1) explains 43.3% of the total variance.\n",
        "\n",
        "Based on the above results, we can label PC1 as \"overall fitness intensity\" as it represents the overall level of fitness intensity of each fitness routine"
      ],
      "metadata": {
        "id": "zlc8Add1zhI7"
      }
    },
    {
      "cell_type": "code",
      "source": [
        "#Logistic Regression and Decision Tree\n",
        "\n",
        "# Split data into training and testing sets\n",
        "from sklearn.model_selection import train_test_split\n",
        "\n",
        "X_zm = dfZM.drop('popularity', axis=1)\n",
        "y_zm = dfZM['popularity']\n",
        "\n",
        "X_trainZM, X_testZM, y_trainZM, y_testZM = train_test_split(X_zm, y_zm, test_size=0.2, random_state=0)\n",
        "\n",
        "# Logistic regression model\n",
        "from sklearn.linear_model import LogisticRegression\n",
        "\n",
        "# Fit the model on the training data\n",
        "lr_model = LogisticRegression(max_iter=1000,random_state=0)\n",
        "lr_model.fit(X_trainZM, y_trainZM)\n",
        "\n",
        "# Evaluate the model on the testing data\n",
        "lr_score = lr_model.score(X_testZM, y_testZM)\n",
        "print(\"Logistic regression model accuracy:\", lr_score)\n",
        "\n",
        "# Decision tree model\n",
        "from sklearn.tree import DecisionTreeClassifier, plot_tree\n",
        "\n",
        "# Fit the model on the training data\n",
        "dt_model = DecisionTreeClassifier(random_state=0)\n",
        "dt_model.fit(X_trainZM, y_trainZM)\n",
        "\n",
        "# Evaluate the model on the testing data\n",
        "dt_score = dt_model.score(X_testZM, y_testZM)\n",
        "print(\"Decision tree model accuracy:\", dt_score)\n",
        "\n",
        "# Plot the decision tree\n",
        "plt.figure(figsize=(15,10))\n",
        "plot_tree(dt_model, filled=True, feature_names=X_zm.columns, class_names=['0', '1'])\n",
        "plt.show()"
      ],
      "metadata": {
        "colab": {
          "base_uri": "https://localhost:8080/",
          "height": 610
        },
        "id": "7JB0UUgczctf",
        "outputId": "d6dbb236-3e9c-45af-ce14-4340bd5e602c"
      },
      "execution_count": 37,
      "outputs": [
        {
          "output_type": "stream",
          "name": "stdout",
          "text": [
            "Logistic regression model accuracy: 0.8073394495412844\n",
            "Decision tree model accuracy: 0.7981651376146789\n"
          ]
        },
        {
          "output_type": "display_data",
          "data": {
            "text/plain": [
              "<Figure size 1080x720 with 1 Axes>"
            ],
            "image/png": "[encoded data removed]"
          },
          "metadata": {
            "needs_background": "light"
          }
        }
      ]
    },
    {
      "cell_type": "code",
      "source": [
        "#Deciding on Model based off Accuracy and AUC\n",
        "\n",
        "from sklearn.metrics import roc_curve, auc\n",
        "\n",
        "# Logistic regression ROC curve and AUC\n",
        "lr_proba = lr_model.predict_proba(X_testZM)[:,1]\n",
        "lr_fpr, lr_tpr, _ = roc_curve(y_testZM, lr_proba)\n",
        "lr_auc = auc(lr_fpr, lr_tpr)\n",
        "\n",
        "# Decision tree ROC curve and AUC\n",
        "dt_proba = dt_model.predict_proba(X_testZM)[:,1]\n",
        "dt_fpr, dt_tpr, _ = roc_curve(y_testZM, dt_proba)\n",
        "dt_auc = auc(dt_fpr, dt_tpr)\n",
        "\n",
        "# Plot ROC curves\n",
        "plt.plot(lr_fpr, lr_tpr, label='Logistic Regression (AUC = {:.3f})'.format(lr_auc))\n",
        "plt.plot(dt_fpr, dt_tpr, label='Decision Tree (AUC = {:.3f})'.format(dt_auc))\n",
        "plt.plot([0, 1], [0, 1], linestyle='--', color='grey')\n",
        "plt.xlabel('False Positive Rate')\n",
        "plt.ylabel('True Positive Rate')\n",
        "plt.legend()\n",
        "plt.show()"
      ],
      "metadata": {
        "colab": {
          "base_uri": "https://localhost:8080/",
          "height": 279
        },
        "id": "mLCW3aQQ2DGu",
        "outputId": "cc8f08c3-aa26-4666-fdaf-83c30b1972fb"
      },
      "execution_count": 38,
      "outputs": [
        {
          "output_type": "display_data",
          "data": {
            "text/plain": [
              "<Figure size 432x288 with 1 Axes>"
            ],
            "image/png": "[encoded data removed]"
          },
          "metadata": {
            "needs_background": "light"
          }
        }
      ]
    },
    {
      "cell_type": "markdown",
      "source": [
        "Which model will you choose based on both accuracy and AUC indicators. Please\n",
        "provide support for your answer. (5 points)\n",
        "\n",
        "Based off the above ROC Curves and the accuracy scores above, I would choose to use the Logistic Regression."
      ],
      "metadata": {
        "id": "BQyQH0444rWr"
      }
    },
    {
      "cell_type": "markdown",
      "source": [
        "Based on the PCA and regression model results, how will you explain the relationship\n",
        "between the fitness intensity index and fitness video popularity? What can you\n",
        "recommend for these video creators? (5 points) \n",
        "\n",
        "\n",
        "\n",
        "Based on the PCA analysis, it appears that the majority of the variance in the data is explained by the first principal component, which accounts for approximately 43% of the variance. This suggests that there is a strong underlying relationship between the variables in the dataset.\n",
        "\n",
        "In terms of the logistic regression and decision tree models, both models were able to achieve relatively high accuracy scores on the test data. The logistic regression model achieved an accuracy score of approximately 81%, while the decision tree model achieved an accuracy score of approximately 75%. However, it is important to note that accuracy is not always the best indicator of model performance, particularly when dealing with imbalanced datasets.\n",
        "\n",
        "Overall, based on the results of the PCA analysis and the logistic regression and decision tree models, it appears that there is a relationship between the fitness intensity index and fitness video popularity. To improve the performance of their videos, the creators could focus on increasing the fitness intensity index of their videos, as this appears to be a key factor in determining video popularity. Additionally, the creators could use the logistic regression model to predict the popularity of their videos based on various features, such as length, volume, calorie_upper, calorie_lower, duration, negativity, and releasedays.\n"
      ],
      "metadata": {
        "id": "pcn8ddxZLgUx"
      }
    },
    {
      "cell_type": "code",
      "source": [],
      "metadata": {
        "id": "2IiGGCG_Ly1B"
      },
      "execution_count": null,
      "outputs": []
    }
  ]
}