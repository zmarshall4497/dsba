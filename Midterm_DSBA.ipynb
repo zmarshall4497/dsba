{
  "nbformat": 4,
  "nbformat_minor": 0,
  "metadata": {
    "colab": {
      "provenance": [],
      "authorship_tag": "ABX9TyPqSoVrRD3igM2LQVnfT9mR",
      "include_colab_link": true
    },
    "kernelspec": {
      "name": "python3",
      "display_name": "Python 3"
    },
    "language_info": {
      "name": "python"
    }
  },
  "cells": [
    {
      "cell_type": "markdown",
      "metadata": {
        "id": "view-in-github",
        "colab_type": "text"
      },
      "source": [
        "<a href=\"https://colab.research.google.com/github/zmarshall4497/dsba/blob/main/Midterm_DSBA.ipynb\" target=\"_parent\"><img src=\"https://colab.research.google.com/assets/colab-badge.svg\" alt=\"Open In Colab\"/></a>"
      ]
    },
    {
      "cell_type": "code",
      "execution_count": 1,
      "metadata": {
        "id": "Zlmvv1UMCJ_e"
      },
      "outputs": [],
      "source": [
        "#importing all necessary packages\n",
        "import numpy as np \n",
        "import pandas as pd\n",
        "import matplotlib.pyplot as plt\n",
        "import seaborn as sns"
      ]
    },
    {
      "cell_type": "code",
      "source": [
        "#importing file\n",
        "from google.colab import files \n",
        "import io\n",
        "\n",
        "upload = files.upload()\n",
        "\n",
        "dfZM = pd.read_csv(io.BytesIO(upload['restaurants.csv']))"
      ],
      "metadata": {
        "colab": {
          "base_uri": "https://localhost:8080/",
          "height": 73
        },
        "id": "0X9auB8WGGH_",
        "outputId": "cb7ec385-de4b-4383-cb1b-04f1d56e428f"
      },
      "execution_count": 2,
      "outputs": [
        {
          "output_type": "display_data",
          "data": {
            "text/plain": [
              "<IPython.core.display.HTML object>"
            ],
            "text/html": [
              "\n",
              "     <input type=\"file\" id=\"files-63607915-b483-45c6-bcc0-39a532ed7727\" name=\"files[]\" multiple disabled\n",
              "        style=\"border:none\" />\n",
              "     <output id=\"result-63607915-b483-45c6-bcc0-39a532ed7727\">\n",
              "      Upload widget is only available when the cell has been executed in the\n",
              "      current browser session. Please rerun this cell to enable.\n",
              "      </output>\n",
              "      <script>// Copyright 2017 Google LLC\n",
              "//\n",
              "// Licensed under the Apache License, Version 2.0 (the \"License\");\n",
              "// you may not use this file except in compliance with the License.\n",
              "// You may obtain a copy of the License at\n",
              "//\n",
              "//      http://www.apache.org/licenses/LICENSE-2.0\n",
              "//\n",
              "// Unless required by applicable law or agreed to in writing, software\n",
              "// distributed under the License is distributed on an \"AS IS\" BASIS,\n",
              "// WITHOUT WARRANTIES OR CONDITIONS OF ANY KIND, either express or implied.\n",
              "// See the License for the specific language governing permissions and\n",
              "// limitations under the License.\n",
              "\n",
              "/**\n",
              " * @fileoverview Helpers for google.colab Python module.\n",
              " */\n",
              "(function(scope) {\n",
              "function span(text, styleAttributes = {}) {\n",
              "  const element = document.createElement('span');\n",
              "  element.textContent = text;\n",
              "  for (const key of Object.keys(styleAttributes)) {\n",
              "    element.style[key] = styleAttributes[key];\n",
              "  }\n",
              "  return element;\n",
              "}\n",
              "\n",
              "// Max number of bytes which will be uploaded at a time.\n",
              "const MAX_PAYLOAD_SIZE = 100 * 1024;\n",
              "\n",
              "function _uploadFiles(inputId, outputId) {\n",
              "  const steps = uploadFilesStep(inputId, outputId);\n",
              "  const outputElement = document.getElementById(outputId);\n",
              "  // Cache steps on the outputElement to make it available for the next call\n",
              "  // to uploadFilesContinue from Python.\n",
              "  outputElement.steps = steps;\n",
              "\n",
              "  return _uploadFilesContinue(outputId);\n",
              "}\n",
              "\n",
              "// This is roughly an async generator (not supported in the browser yet),\n",
              "// where there are multiple asynchronous steps and the Python side is going\n",
              "// to poll for completion of each step.\n",
              "// This uses a Promise to block the python side on completion of each step,\n",
              "// then passes the result of the previous step as the input to the next step.\n",
              "function _uploadFilesContinue(outputId) {\n",
              "  const outputElement = document.getElementById(outputId);\n",
              "  const steps = outputElement.steps;\n",
              "\n",
              "  const next = steps.next(outputElement.lastPromiseValue);\n",
              "  return Promise.resolve(next.value.promise).then((value) => {\n",
              "    // Cache the last promise value to make it available to the next\n",
              "    // step of the generator.\n",
              "    outputElement.lastPromiseValue = value;\n",
              "    return next.value.response;\n",
              "  });\n",
              "}\n",
              "\n",
              "/**\n",
              " * Generator function which is called between each async step of the upload\n",
              " * process.\n",
              " * @param {string} inputId Element ID of the input file picker element.\n",
              " * @param {string} outputId Element ID of the output display.\n",
              " * @return {!Iterable<!Object>} Iterable of next steps.\n",
              " */\n",
              "function* uploadFilesStep(inputId, outputId) {\n",
              "  const inputElement = document.getElementById(inputId);\n",
              "  inputElement.disabled = false;\n",
              "\n",
              "  const outputElement = document.getElementById(outputId);\n",
              "  outputElement.innerHTML = '';\n",
              "\n",
              "  const pickedPromise = new Promise((resolve) => {\n",
              "    inputElement.addEventListener('change', (e) => {\n",
              "      resolve(e.target.files);\n",
              "    });\n",
              "  });\n",
              "\n",
              "  const cancel = document.createElement('button');\n",
              "  inputElement.parentElement.appendChild(cancel);\n",
              "  cancel.textContent = 'Cancel upload';\n",
              "  const cancelPromise = new Promise((resolve) => {\n",
              "    cancel.onclick = () => {\n",
              "      resolve(null);\n",
              "    };\n",
              "  });\n",
              "\n",
              "  // Wait for the user to pick the files.\n",
              "  const files = yield {\n",
              "    promise: Promise.race([pickedPromise, cancelPromise]),\n",
              "    response: {\n",
              "      action: 'starting',\n",
              "    }\n",
              "  };\n",
              "\n",
              "  cancel.remove();\n",
              "\n",
              "  // Disable the input element since further picks are not allowed.\n",
              "  inputElement.disabled = true;\n",
              "\n",
              "  if (!files) {\n",
              "    return {\n",
              "      response: {\n",
              "        action: 'complete',\n",
              "      }\n",
              "    };\n",
              "  }\n",
              "\n",
              "  for (const file of files) {\n",
              "    const li = document.createElement('li');\n",
              "    li.append(span(file.name, {fontWeight: 'bold'}));\n",
              "    li.append(span(\n",
              "        `(${file.type || 'n/a'}) - ${file.size} bytes, ` +\n",
              "        `last modified: ${\n",
              "            file.lastModifiedDate ? file.lastModifiedDate.toLocaleDateString() :\n",
              "                                    'n/a'} - `));\n",
              "    const percent = span('0% done');\n",
              "    li.appendChild(percent);\n",
              "\n",
              "    outputElement.appendChild(li);\n",
              "\n",
              "    const fileDataPromise = new Promise((resolve) => {\n",
              "      const reader = new FileReader();\n",
              "      reader.onload = (e) => {\n",
              "        resolve(e.target.result);\n",
              "      };\n",
              "      reader.readAsArrayBuffer(file);\n",
              "    });\n",
              "    // Wait for the data to be ready.\n",
              "    let fileData = yield {\n",
              "      promise: fileDataPromise,\n",
              "      response: {\n",
              "        action: 'continue',\n",
              "      }\n",
              "    };\n",
              "\n",
              "    // Use a chunked sending to avoid message size limits. See b/62115660.\n",
              "    let position = 0;\n",
              "    do {\n",
              "      const length = Math.min(fileData.byteLength - position, MAX_PAYLOAD_SIZE);\n",
              "      const chunk = new Uint8Array(fileData, position, length);\n",
              "      position += length;\n",
              "\n",
              "      const base64 = btoa(String.fromCharCode.apply(null, chunk));\n",
              "      yield {\n",
              "        response: {\n",
              "          action: 'append',\n",
              "          file: file.name,\n",
              "          data: base64,\n",
              "        },\n",
              "      };\n",
              "\n",
              "      let percentDone = fileData.byteLength === 0 ?\n",
              "          100 :\n",
              "          Math.round((position / fileData.byteLength) * 100);\n",
              "      percent.textContent = `${percentDone}% done`;\n",
              "\n",
              "    } while (position < fileData.byteLength);\n",
              "  }\n",
              "\n",
              "  // All done.\n",
              "  yield {\n",
              "    response: {\n",
              "      action: 'complete',\n",
              "    }\n",
              "  };\n",
              "}\n",
              "\n",
              "scope.google = scope.google || {};\n",
              "scope.google.colab = scope.google.colab || {};\n",
              "scope.google.colab._files = {\n",
              "  _uploadFiles,\n",
              "  _uploadFilesContinue,\n",
              "};\n",
              "})(self);\n",
              "</script> "
            ]
          },
          "metadata": {}
        },
        {
          "output_type": "stream",
          "name": "stdout",
          "text": [
            "Saving restaurants.csv to restaurants.csv\n"
          ]
        }
      ]
    },
    {
      "cell_type": "markdown",
      "source": [
        "The goal of this is to predict what factors contribute to the popularity of a resteraunt. The variables are as follows:\n",
        "\n",
        "•\tentity_ID: ID for selected restaurants\n",
        "\n",
        "•\tlocation_name: name of restaurants \n",
        "\n",
        "•\tprice: price level for the restaurants .....one = $ , two = $ $ , three = $ $ $ , four = $ $ $ $\n",
        "\n",
        "•\texotic: indicator whether the restaurant is exotic or not. \n",
        "\n",
        "•\tavg_length: average length of textual reviews. \n",
        "\n",
        "•\tavg_negativity: average negativity of textual reviews. \n",
        "\n",
        "•\tavg_positivity: average positivity of textual reviews. \n",
        "\n",
        "•\tavg_subjectivity: average subjectivity of textual reviews. \n",
        "\n",
        "•\tavg_readability: average readability of textual reviews. \n",
        "\n",
        "•\tuseful: number of useful reviews \n",
        "\n",
        "•\tfunny: number of funny reviews \n",
        "\n",
        "•\tcool: number of cool reviews \n",
        "\n",
        "•\tpopularity: 1= popular, 0 = non popular \n"
      ],
      "metadata": {
        "id": "AaZeVpb0UNlp"
      }
    },
    {
      "cell_type": "code",
      "source": [
        "#Examining the Data / Summary / Structure\n",
        "dfZM.head()"
      ],
      "metadata": {
        "colab": {
          "base_uri": "https://localhost:8080/",
          "height": 206
        },
        "id": "2fTfHXiHT38M",
        "outputId": "7493d3f6-c7fe-4979-9d85-badadecffb7f"
      },
      "execution_count": 3,
      "outputs": [
        {
          "output_type": "execute_result",
          "data": {
            "text/plain": [
              "   entity_id           location_name                          sub_category  \\\n",
              "0          1                 Dunkin'  Snack and Nonalcoholic Beverage Bars   \n",
              "1          2  House of Tibet Kitchen           Limited-Service Restaurants   \n",
              "2          3               honeygrow           Limited-Service Restaurants   \n",
              "3          4               Starbucks  Snack and Nonalcoholic Beverage Bars   \n",
              "4          5           Tom Yum Koong              Full-Service Restaurants   \n",
              "\n",
              "  price  exotic  avg_length  avg_negativity  avg_positivity  avg_subjectivity  \\\n",
              "0   one     0.0   78.433472        0.045646        0.072637          0.472389   \n",
              "1   two     1.0  113.076860        0.058292        0.224257          0.709735   \n",
              "2   two     0.0   74.220901        0.045527        0.150131          0.543687   \n",
              "3   two     0.0   38.766666        0.083615        0.019077          0.409231   \n",
              "4   two     1.0   98.985954        0.043990        0.168973          0.579528   \n",
              "\n",
              "   avg_readablity     useful  funny       cool  popularity  \n",
              "0       82.086990   0.000000    0.0   0.000000           1  \n",
              "1       72.584427   4.000000    1.0   0.000000           0  \n",
              "2       77.486710  21.333333    7.0  15.833333           1  \n",
              "3       78.366920   4.000000    0.0   0.000000           0  \n",
              "4       83.057953  13.833333    7.5   2.000000           1  "
            ],
            "text/html": [
              "\n",
              "  <div id=\"df-f7fd05e0-dffa-4b36-8e27-3ba924f5e87f\">\n",
              "    <div class=\"colab-df-container\">\n",
              "      <div>\n",
              "<style scoped>\n",
              "    .dataframe tbody tr th:only-of-type {\n",
              "        vertical-align: middle;\n",
              "    }\n",
              "\n",
              "    .dataframe tbody tr th {\n",
              "        vertical-align: top;\n",
              "    }\n",
              "\n",
              "    .dataframe thead th {\n",
              "        text-align: right;\n",
              "    }\n",
              "</style>\n",
              "<table border=\"1\" class=\"dataframe\">\n",
              "  <thead>\n",
              "    <tr style=\"text-align: right;\">\n",
              "      <th></th>\n",
              "      <th>entity_id</th>\n",
              "      <th>location_name</th>\n",
              "      <th>sub_category</th>\n",
              "      <th>price</th>\n",
              "      <th>exotic</th>\n",
              "      <th>avg_length</th>\n",
              "      <th>avg_negativity</th>\n",
              "      <th>avg_positivity</th>\n",
              "      <th>avg_subjectivity</th>\n",
              "      <th>avg_readablity</th>\n",
              "      <th>useful</th>\n",
              "      <th>funny</th>\n",
              "      <th>cool</th>\n",
              "      <th>popularity</th>\n",
              "    </tr>\n",
              "  </thead>\n",
              "  <tbody>\n",
              "    <tr>\n",
              "      <th>0</th>\n",
              "      <td>1</td>\n",
              "      <td>Dunkin'</td>\n",
              "      <td>Snack and Nonalcoholic Beverage Bars</td>\n",
              "      <td>one</td>\n",
              "      <td>0.0</td>\n",
              "      <td>78.433472</td>\n",
              "      <td>0.045646</td>\n",
              "      <td>0.072637</td>\n",
              "      <td>0.472389</td>\n",
              "      <td>82.086990</td>\n",
              "      <td>0.000000</td>\n",
              "      <td>0.0</td>\n",
              "      <td>0.000000</td>\n",
              "      <td>1</td>\n",
              "    </tr>\n",
              "    <tr>\n",
              "      <th>1</th>\n",
              "      <td>2</td>\n",
              "      <td>House of Tibet Kitchen</td>\n",
              "      <td>Limited-Service Restaurants</td>\n",
              "      <td>two</td>\n",
              "      <td>1.0</td>\n",
              "      <td>113.076860</td>\n",
              "      <td>0.058292</td>\n",
              "      <td>0.224257</td>\n",
              "      <td>0.709735</td>\n",
              "      <td>72.584427</td>\n",
              "      <td>4.000000</td>\n",
              "      <td>1.0</td>\n",
              "      <td>0.000000</td>\n",
              "      <td>0</td>\n",
              "    </tr>\n",
              "    <tr>\n",
              "      <th>2</th>\n",
              "      <td>3</td>\n",
              "      <td>honeygrow</td>\n",
              "      <td>Limited-Service Restaurants</td>\n",
              "      <td>two</td>\n",
              "      <td>0.0</td>\n",
              "      <td>74.220901</td>\n",
              "      <td>0.045527</td>\n",
              "      <td>0.150131</td>\n",
              "      <td>0.543687</td>\n",
              "      <td>77.486710</td>\n",
              "      <td>21.333333</td>\n",
              "      <td>7.0</td>\n",
              "      <td>15.833333</td>\n",
              "      <td>1</td>\n",
              "    </tr>\n",
              "    <tr>\n",
              "      <th>3</th>\n",
              "      <td>4</td>\n",
              "      <td>Starbucks</td>\n",
              "      <td>Snack and Nonalcoholic Beverage Bars</td>\n",
              "      <td>two</td>\n",
              "      <td>0.0</td>\n",
              "      <td>38.766666</td>\n",
              "      <td>0.083615</td>\n",
              "      <td>0.019077</td>\n",
              "      <td>0.409231</td>\n",
              "      <td>78.366920</td>\n",
              "      <td>4.000000</td>\n",
              "      <td>0.0</td>\n",
              "      <td>0.000000</td>\n",
              "      <td>0</td>\n",
              "    </tr>\n",
              "    <tr>\n",
              "      <th>4</th>\n",
              "      <td>5</td>\n",
              "      <td>Tom Yum Koong</td>\n",
              "      <td>Full-Service Restaurants</td>\n",
              "      <td>two</td>\n",
              "      <td>1.0</td>\n",
              "      <td>98.985954</td>\n",
              "      <td>0.043990</td>\n",
              "      <td>0.168973</td>\n",
              "      <td>0.579528</td>\n",
              "      <td>83.057953</td>\n",
              "      <td>13.833333</td>\n",
              "      <td>7.5</td>\n",
              "      <td>2.000000</td>\n",
              "      <td>1</td>\n",
              "    </tr>\n",
              "  </tbody>\n",
              "</table>\n",
              "</div>\n",
              "      <button class=\"colab-df-convert\" onclick=\"convertToInteractive('df-f7fd05e0-dffa-4b36-8e27-3ba924f5e87f')\"\n",
              "              title=\"Convert this dataframe to an interactive table.\"\n",
              "              style=\"display:none;\">\n",
              "        \n",
              "  <svg xmlns=\"http://www.w3.org/2000/svg\" height=\"24px\"viewBox=\"0 0 24 24\"\n",
              "       width=\"24px\">\n",
              "    <path d=\"M0 0h24v24H0V0z\" fill=\"none\"/>\n",
              "    <path d=\"M18.56 5.44l.94 2.06.94-2.06 2.06-.94-2.06-.94-.94-2.06-.94 2.06-2.06.94zm-11 1L8.5 8.5l.94-2.06 2.06-.94-2.06-.94L8.5 2.5l-.94 2.06-2.06.94zm10 10l.94 2.06.94-2.06 2.06-.94-2.06-.94-.94-2.06-.94 2.06-2.06.94z\"/><path d=\"M17.41 7.96l-1.37-1.37c-.4-.4-.92-.59-1.43-.59-.52 0-1.04.2-1.43.59L10.3 9.45l-7.72 7.72c-.78.78-.78 2.05 0 2.83L4 21.41c.39.39.9.59 1.41.59.51 0 1.02-.2 1.41-.59l7.78-7.78 2.81-2.81c.8-.78.8-2.07 0-2.86zM5.41 20L4 18.59l7.72-7.72 1.47 1.35L5.41 20z\"/>\n",
              "  </svg>\n",
              "      </button>\n",
              "      \n",
              "  <style>\n",
              "    .colab-df-container {\n",
              "      display:flex;\n",
              "      flex-wrap:wrap;\n",
              "      gap: 12px;\n",
              "    }\n",
              "\n",
              "    .colab-df-convert {\n",
              "      background-color: #E8F0FE;\n",
              "      border: none;\n",
              "      border-radius: 50%;\n",
              "      cursor: pointer;\n",
              "      display: none;\n",
              "      fill: #1967D2;\n",
              "      height: 32px;\n",
              "      padding: 0 0 0 0;\n",
              "      width: 32px;\n",
              "    }\n",
              "\n",
              "    .colab-df-convert:hover {\n",
              "      background-color: #E2EBFA;\n",
              "      box-shadow: 0px 1px 2px rgba(60, 64, 67, 0.3), 0px 1px 3px 1px rgba(60, 64, 67, 0.15);\n",
              "      fill: #174EA6;\n",
              "    }\n",
              "\n",
              "    [theme=dark] .colab-df-convert {\n",
              "      background-color: #3B4455;\n",
              "      fill: #D2E3FC;\n",
              "    }\n",
              "\n",
              "    [theme=dark] .colab-df-convert:hover {\n",
              "      background-color: #434B5C;\n",
              "      box-shadow: 0px 1px 3px 1px rgba(0, 0, 0, 0.15);\n",
              "      filter: drop-shadow(0px 1px 2px rgba(0, 0, 0, 0.3));\n",
              "      fill: #FFFFFF;\n",
              "    }\n",
              "  </style>\n",
              "\n",
              "      <script>\n",
              "        const buttonEl =\n",
              "          document.querySelector('#df-f7fd05e0-dffa-4b36-8e27-3ba924f5e87f button.colab-df-convert');\n",
              "        buttonEl.style.display =\n",
              "          google.colab.kernel.accessAllowed ? 'block' : 'none';\n",
              "\n",
              "        async function convertToInteractive(key) {\n",
              "          const element = document.querySelector('#df-f7fd05e0-dffa-4b36-8e27-3ba924f5e87f');\n",
              "          const dataTable =\n",
              "            await google.colab.kernel.invokeFunction('convertToInteractive',\n",
              "                                                     [key], {});\n",
              "          if (!dataTable) return;\n",
              "\n",
              "          const docLinkHtml = 'Like what you see? Visit the ' +\n",
              "            '<a target=\"_blank\" href=https://colab.research.google.com/notebooks/data_table.ipynb>data table notebook</a>'\n",
              "            + ' to learn more about interactive tables.';\n",
              "          element.innerHTML = '';\n",
              "          dataTable['output_type'] = 'display_data';\n",
              "          await google.colab.output.renderOutput(dataTable, element);\n",
              "          const docLink = document.createElement('div');\n",
              "          docLink.innerHTML = docLinkHtml;\n",
              "          element.appendChild(docLink);\n",
              "        }\n",
              "      </script>\n",
              "    </div>\n",
              "  </div>\n",
              "  "
            ]
          },
          "metadata": {},
          "execution_count": 3
        }
      ]
    },
    {
      "cell_type": "code",
      "source": [
        "dfZM.describe(include='all')"
      ],
      "metadata": {
        "colab": {
          "base_uri": "https://localhost:8080/",
          "height": 394
        },
        "id": "B6hZK1yQWepd",
        "outputId": "ac0ff125-c5c9-40ca-e8ac-f29b86dcf0cf"
      },
      "execution_count": 4,
      "outputs": [
        {
          "output_type": "execute_result",
          "data": {
            "text/plain": [
              "         entity_id location_name              sub_category price      exotic  \\\n",
              "count   999.000000           986                       986   984  979.000000   \n",
              "unique         NaN           718                         3     4         NaN   \n",
              "top            NaN       Dunkin'  Full-Service Restaurants   one         NaN   \n",
              "freq           NaN            92                       514   497         NaN   \n",
              "mean    483.132132           NaN                       NaN   NaN    0.304392   \n",
              "std     277.138511           NaN                       NaN   NaN    0.460385   \n",
              "min       1.000000           NaN                       NaN   NaN    0.000000   \n",
              "25%     242.500000           NaN                       NaN   NaN    0.000000   \n",
              "50%     485.000000           NaN                       NaN   NaN    0.000000   \n",
              "75%     725.500000           NaN                       NaN   NaN    1.000000   \n",
              "max     955.000000           NaN                       NaN   NaN    1.000000   \n",
              "\n",
              "        avg_length  avg_negativity  avg_positivity  avg_subjectivity  \\\n",
              "count   957.000000      957.000000      957.000000        957.000000   \n",
              "unique         NaN             NaN             NaN               NaN   \n",
              "top            NaN             NaN             NaN               NaN   \n",
              "freq           NaN             NaN             NaN               NaN   \n",
              "mean     86.381662        0.055988        0.178358          0.564876   \n",
              "std      24.942186        0.037159        0.072944          0.070012   \n",
              "min       8.880000        0.000000        0.000292          0.152124   \n",
              "25%      71.597168        0.030239        0.127310          0.533451   \n",
              "50%      86.272346        0.046529        0.182310          0.571667   \n",
              "75%     101.366330        0.075124        0.223996          0.600339   \n",
              "max     228.450000        0.317354        0.487000          0.907257   \n",
              "\n",
              "        avg_readablity      useful       funny        cool  popularity  \n",
              "count       957.000000  999.000000  999.000000  999.000000  999.000000  \n",
              "unique             NaN         NaN         NaN         NaN         NaN  \n",
              "top                NaN         NaN         NaN         NaN         NaN  \n",
              "freq               NaN         NaN         NaN         NaN         NaN  \n",
              "mean         80.103313   13.340695    4.562226    6.405432    0.500501  \n",
              "std           5.829734   21.586018    9.967090   12.869735    0.500250  \n",
              "min          34.890530    0.000000    0.000000    0.000000    0.000000  \n",
              "25%          77.618584    1.000000    0.000000    0.000000    0.000000  \n",
              "50%          80.513985    5.400000    1.000000    1.333333    1.000000  \n",
              "75%          83.265312   17.000000    5.000000    7.000000    1.000000  \n",
              "max          99.076904  299.000000  107.000000  122.000000    1.000000  "
            ],
            "text/html": [
              "\n",
              "  <div id=\"df-94080c2a-a1bb-4763-9f67-ccb30cbd00ff\">\n",
              "    <div class=\"colab-df-container\">\n",
              "      <div>\n",
              "<style scoped>\n",
              "    .dataframe tbody tr th:only-of-type {\n",
              "        vertical-align: middle;\n",
              "    }\n",
              "\n",
              "    .dataframe tbody tr th {\n",
              "        vertical-align: top;\n",
              "    }\n",
              "\n",
              "    .dataframe thead th {\n",
              "        text-align: right;\n",
              "    }\n",
              "</style>\n",
              "<table border=\"1\" class=\"dataframe\">\n",
              "  <thead>\n",
              "    <tr style=\"text-align: right;\">\n",
              "      <th></th>\n",
              "      <th>entity_id</th>\n",
              "      <th>location_name</th>\n",
              "      <th>sub_category</th>\n",
              "      <th>price</th>\n",
              "      <th>exotic</th>\n",
              "      <th>avg_length</th>\n",
              "      <th>avg_negativity</th>\n",
              "      <th>avg_positivity</th>\n",
              "      <th>avg_subjectivity</th>\n",
              "      <th>avg_readablity</th>\n",
              "      <th>useful</th>\n",
              "      <th>funny</th>\n",
              "      <th>cool</th>\n",
              "      <th>popularity</th>\n",
              "    </tr>\n",
              "  </thead>\n",
              "  <tbody>\n",
              "    <tr>\n",
              "      <th>count</th>\n",
              "      <td>999.000000</td>\n",
              "      <td>986</td>\n",
              "      <td>986</td>\n",
              "      <td>984</td>\n",
              "      <td>979.000000</td>\n",
              "      <td>957.000000</td>\n",
              "      <td>957.000000</td>\n",
              "      <td>957.000000</td>\n",
              "      <td>957.000000</td>\n",
              "      <td>957.000000</td>\n",
              "      <td>999.000000</td>\n",
              "      <td>999.000000</td>\n",
              "      <td>999.000000</td>\n",
              "      <td>999.000000</td>\n",
              "    </tr>\n",
              "    <tr>\n",
              "      <th>unique</th>\n",
              "      <td>NaN</td>\n",
              "      <td>718</td>\n",
              "      <td>3</td>\n",
              "      <td>4</td>\n",
              "      <td>NaN</td>\n",
              "      <td>NaN</td>\n",
              "      <td>NaN</td>\n",
              "      <td>NaN</td>\n",
              "      <td>NaN</td>\n",
              "      <td>NaN</td>\n",
              "      <td>NaN</td>\n",
              "      <td>NaN</td>\n",
              "      <td>NaN</td>\n",
              "      <td>NaN</td>\n",
              "    </tr>\n",
              "    <tr>\n",
              "      <th>top</th>\n",
              "      <td>NaN</td>\n",
              "      <td>Dunkin'</td>\n",
              "      <td>Full-Service Restaurants</td>\n",
              "      <td>one</td>\n",
              "      <td>NaN</td>\n",
              "      <td>NaN</td>\n",
              "      <td>NaN</td>\n",
              "      <td>NaN</td>\n",
              "      <td>NaN</td>\n",
              "      <td>NaN</td>\n",
              "      <td>NaN</td>\n",
              "      <td>NaN</td>\n",
              "      <td>NaN</td>\n",
              "      <td>NaN</td>\n",
              "    </tr>\n",
              "    <tr>\n",
              "      <th>freq</th>\n",
              "      <td>NaN</td>\n",
              "      <td>92</td>\n",
              "      <td>514</td>\n",
              "      <td>497</td>\n",
              "      <td>NaN</td>\n",
              "      <td>NaN</td>\n",
              "      <td>NaN</td>\n",
              "      <td>NaN</td>\n",
              "      <td>NaN</td>\n",
              "      <td>NaN</td>\n",
              "      <td>NaN</td>\n",
              "      <td>NaN</td>\n",
              "      <td>NaN</td>\n",
              "      <td>NaN</td>\n",
              "    </tr>\n",
              "    <tr>\n",
              "      <th>mean</th>\n",
              "      <td>483.132132</td>\n",
              "      <td>NaN</td>\n",
              "      <td>NaN</td>\n",
              "      <td>NaN</td>\n",
              "      <td>0.304392</td>\n",
              "      <td>86.381662</td>\n",
              "      <td>0.055988</td>\n",
              "      <td>0.178358</td>\n",
              "      <td>0.564876</td>\n",
              "      <td>80.103313</td>\n",
              "      <td>13.340695</td>\n",
              "      <td>4.562226</td>\n",
              "      <td>6.405432</td>\n",
              "      <td>0.500501</td>\n",
              "    </tr>\n",
              "    <tr>\n",
              "      <th>std</th>\n",
              "      <td>277.138511</td>\n",
              "      <td>NaN</td>\n",
              "      <td>NaN</td>\n",
              "      <td>NaN</td>\n",
              "      <td>0.460385</td>\n",
              "      <td>24.942186</td>\n",
              "      <td>0.037159</td>\n",
              "      <td>0.072944</td>\n",
              "      <td>0.070012</td>\n",
              "      <td>5.829734</td>\n",
              "      <td>21.586018</td>\n",
              "      <td>9.967090</td>\n",
              "      <td>12.869735</td>\n",
              "      <td>0.500250</td>\n",
              "    </tr>\n",
              "    <tr>\n",
              "      <th>min</th>\n",
              "      <td>1.000000</td>\n",
              "      <td>NaN</td>\n",
              "      <td>NaN</td>\n",
              "      <td>NaN</td>\n",
              "      <td>0.000000</td>\n",
              "      <td>8.880000</td>\n",
              "      <td>0.000000</td>\n",
              "      <td>0.000292</td>\n",
              "      <td>0.152124</td>\n",
              "      <td>34.890530</td>\n",
              "      <td>0.000000</td>\n",
              "      <td>0.000000</td>\n",
              "      <td>0.000000</td>\n",
              "      <td>0.000000</td>\n",
              "    </tr>\n",
              "    <tr>\n",
              "      <th>25%</th>\n",
              "      <td>242.500000</td>\n",
              "      <td>NaN</td>\n",
              "      <td>NaN</td>\n",
              "      <td>NaN</td>\n",
              "      <td>0.000000</td>\n",
              "      <td>71.597168</td>\n",
              "      <td>0.030239</td>\n",
              "      <td>0.127310</td>\n",
              "      <td>0.533451</td>\n",
              "      <td>77.618584</td>\n",
              "      <td>1.000000</td>\n",
              "      <td>0.000000</td>\n",
              "      <td>0.000000</td>\n",
              "      <td>0.000000</td>\n",
              "    </tr>\n",
              "    <tr>\n",
              "      <th>50%</th>\n",
              "      <td>485.000000</td>\n",
              "      <td>NaN</td>\n",
              "      <td>NaN</td>\n",
              "      <td>NaN</td>\n",
              "      <td>0.000000</td>\n",
              "      <td>86.272346</td>\n",
              "      <td>0.046529</td>\n",
              "      <td>0.182310</td>\n",
              "      <td>0.571667</td>\n",
              "      <td>80.513985</td>\n",
              "      <td>5.400000</td>\n",
              "      <td>1.000000</td>\n",
              "      <td>1.333333</td>\n",
              "      <td>1.000000</td>\n",
              "    </tr>\n",
              "    <tr>\n",
              "      <th>75%</th>\n",
              "      <td>725.500000</td>\n",
              "      <td>NaN</td>\n",
              "      <td>NaN</td>\n",
              "      <td>NaN</td>\n",
              "      <td>1.000000</td>\n",
              "      <td>101.366330</td>\n",
              "      <td>0.075124</td>\n",
              "      <td>0.223996</td>\n",
              "      <td>0.600339</td>\n",
              "      <td>83.265312</td>\n",
              "      <td>17.000000</td>\n",
              "      <td>5.000000</td>\n",
              "      <td>7.000000</td>\n",
              "      <td>1.000000</td>\n",
              "    </tr>\n",
              "    <tr>\n",
              "      <th>max</th>\n",
              "      <td>955.000000</td>\n",
              "      <td>NaN</td>\n",
              "      <td>NaN</td>\n",
              "      <td>NaN</td>\n",
              "      <td>1.000000</td>\n",
              "      <td>228.450000</td>\n",
              "      <td>0.317354</td>\n",
              "      <td>0.487000</td>\n",
              "      <td>0.907257</td>\n",
              "      <td>99.076904</td>\n",
              "      <td>299.000000</td>\n",
              "      <td>107.000000</td>\n",
              "      <td>122.000000</td>\n",
              "      <td>1.000000</td>\n",
              "    </tr>\n",
              "  </tbody>\n",
              "</table>\n",
              "</div>\n",
              "      <button class=\"colab-df-convert\" onclick=\"convertToInteractive('df-94080c2a-a1bb-4763-9f67-ccb30cbd00ff')\"\n",
              "              title=\"Convert this dataframe to an interactive table.\"\n",
              "              style=\"display:none;\">\n",
              "        \n",
              "  <svg xmlns=\"http://www.w3.org/2000/svg\" height=\"24px\"viewBox=\"0 0 24 24\"\n",
              "       width=\"24px\">\n",
              "    <path d=\"M0 0h24v24H0V0z\" fill=\"none\"/>\n",
              "    <path d=\"M18.56 5.44l.94 2.06.94-2.06 2.06-.94-2.06-.94-.94-2.06-.94 2.06-2.06.94zm-11 1L8.5 8.5l.94-2.06 2.06-.94-2.06-.94L8.5 2.5l-.94 2.06-2.06.94zm10 10l.94 2.06.94-2.06 2.06-.94-2.06-.94-.94-2.06-.94 2.06-2.06.94z\"/><path d=\"M17.41 7.96l-1.37-1.37c-.4-.4-.92-.59-1.43-.59-.52 0-1.04.2-1.43.59L10.3 9.45l-7.72 7.72c-.78.78-.78 2.05 0 2.83L4 21.41c.39.39.9.59 1.41.59.51 0 1.02-.2 1.41-.59l7.78-7.78 2.81-2.81c.8-.78.8-2.07 0-2.86zM5.41 20L4 18.59l7.72-7.72 1.47 1.35L5.41 20z\"/>\n",
              "  </svg>\n",
              "      </button>\n",
              "      \n",
              "  <style>\n",
              "    .colab-df-container {\n",
              "      display:flex;\n",
              "      flex-wrap:wrap;\n",
              "      gap: 12px;\n",
              "    }\n",
              "\n",
              "    .colab-df-convert {\n",
              "      background-color: #E8F0FE;\n",
              "      border: none;\n",
              "      border-radius: 50%;\n",
              "      cursor: pointer;\n",
              "      display: none;\n",
              "      fill: #1967D2;\n",
              "      height: 32px;\n",
              "      padding: 0 0 0 0;\n",
              "      width: 32px;\n",
              "    }\n",
              "\n",
              "    .colab-df-convert:hover {\n",
              "      background-color: #E2EBFA;\n",
              "      box-shadow: 0px 1px 2px rgba(60, 64, 67, 0.3), 0px 1px 3px 1px rgba(60, 64, 67, 0.15);\n",
              "      fill: #174EA6;\n",
              "    }\n",
              "\n",
              "    [theme=dark] .colab-df-convert {\n",
              "      background-color: #3B4455;\n",
              "      fill: #D2E3FC;\n",
              "    }\n",
              "\n",
              "    [theme=dark] .colab-df-convert:hover {\n",
              "      background-color: #434B5C;\n",
              "      box-shadow: 0px 1px 3px 1px rgba(0, 0, 0, 0.15);\n",
              "      filter: drop-shadow(0px 1px 2px rgba(0, 0, 0, 0.3));\n",
              "      fill: #FFFFFF;\n",
              "    }\n",
              "  </style>\n",
              "\n",
              "      <script>\n",
              "        const buttonEl =\n",
              "          document.querySelector('#df-94080c2a-a1bb-4763-9f67-ccb30cbd00ff button.colab-df-convert');\n",
              "        buttonEl.style.display =\n",
              "          google.colab.kernel.accessAllowed ? 'block' : 'none';\n",
              "\n",
              "        async function convertToInteractive(key) {\n",
              "          const element = document.querySelector('#df-94080c2a-a1bb-4763-9f67-ccb30cbd00ff');\n",
              "          const dataTable =\n",
              "            await google.colab.kernel.invokeFunction('convertToInteractive',\n",
              "                                                     [key], {});\n",
              "          if (!dataTable) return;\n",
              "\n",
              "          const docLinkHtml = 'Like what you see? Visit the ' +\n",
              "            '<a target=\"_blank\" href=https://colab.research.google.com/notebooks/data_table.ipynb>data table notebook</a>'\n",
              "            + ' to learn more about interactive tables.';\n",
              "          element.innerHTML = '';\n",
              "          dataTable['output_type'] = 'display_data';\n",
              "          await google.colab.output.renderOutput(dataTable, element);\n",
              "          const docLink = document.createElement('div');\n",
              "          docLink.innerHTML = docLinkHtml;\n",
              "          element.appendChild(docLink);\n",
              "        }\n",
              "      </script>\n",
              "    </div>\n",
              "  </div>\n",
              "  "
            ]
          },
          "metadata": {},
          "execution_count": 4
        }
      ]
    },
    {
      "cell_type": "code",
      "source": [
        "dfZM.shape"
      ],
      "metadata": {
        "colab": {
          "base_uri": "https://localhost:8080/",
          "height": 0
        },
        "id": "fxydzqCNUz9x",
        "outputId": "86aa3ee6-6831-4d59-ecfc-3dfa455842a7"
      },
      "execution_count": 5,
      "outputs": [
        {
          "output_type": "execute_result",
          "data": {
            "text/plain": [
              "(999, 14)"
            ]
          },
          "metadata": {},
          "execution_count": 5
        }
      ]
    },
    {
      "cell_type": "code",
      "source": [
        "dfZM.isnull().sum()"
      ],
      "metadata": {
        "colab": {
          "base_uri": "https://localhost:8080/",
          "height": 0
        },
        "id": "spTkmFddVEyv",
        "outputId": "4d2b22a0-cb05-48b0-8160-df9fb3407797"
      },
      "execution_count": 6,
      "outputs": [
        {
          "output_type": "execute_result",
          "data": {
            "text/plain": [
              "entity_id            0\n",
              "location_name       13\n",
              "sub_category        13\n",
              "price               15\n",
              "exotic              20\n",
              "avg_length          42\n",
              "avg_negativity      42\n",
              "avg_positivity      42\n",
              "avg_subjectivity    42\n",
              "avg_readablity      42\n",
              "useful               0\n",
              "funny                0\n",
              "cool                 0\n",
              "popularity           0\n",
              "dtype: int64"
            ]
          },
          "metadata": {},
          "execution_count": 6
        }
      ]
    },
    {
      "cell_type": "code",
      "source": [
        "dfZM.location_name.nunique()"
      ],
      "metadata": {
        "colab": {
          "base_uri": "https://localhost:8080/",
          "height": 0
        },
        "id": "aTlmQDIXXqZZ",
        "outputId": "5ff8e614-9cf9-43f8-8f02-49b2703e18cf"
      },
      "execution_count": 7,
      "outputs": [
        {
          "output_type": "execute_result",
          "data": {
            "text/plain": [
              "718"
            ]
          },
          "metadata": {},
          "execution_count": 7
        }
      ]
    },
    {
      "cell_type": "code",
      "source": [
        "dfZM.price.unique()"
      ],
      "metadata": {
        "colab": {
          "base_uri": "https://localhost:8080/",
          "height": 0
        },
        "id": "xqU4hoCnYKwe",
        "outputId": "d6c238d1-93a3-410b-c5f9-11bffeda3b6a"
      },
      "execution_count": 8,
      "outputs": [
        {
          "output_type": "execute_result",
          "data": {
            "text/plain": [
              "array(['one', 'two', 'three', nan, 'four'], dtype=object)"
            ]
          },
          "metadata": {},
          "execution_count": 8
        }
      ]
    },
    {
      "cell_type": "code",
      "source": [
        "dfZM.info()"
      ],
      "metadata": {
        "colab": {
          "base_uri": "https://localhost:8080/",
          "height": 0
        },
        "id": "ZDRBM42cVKDr",
        "outputId": "99995684-db8a-4591-e204-ea05226de6a6"
      },
      "execution_count": 9,
      "outputs": [
        {
          "output_type": "stream",
          "name": "stdout",
          "text": [
            "<class 'pandas.core.frame.DataFrame'>\n",
            "RangeIndex: 999 entries, 0 to 998\n",
            "Data columns (total 14 columns):\n",
            " #   Column            Non-Null Count  Dtype  \n",
            "---  ------            --------------  -----  \n",
            " 0   entity_id         999 non-null    int64  \n",
            " 1   location_name     986 non-null    object \n",
            " 2   sub_category      986 non-null    object \n",
            " 3   price             984 non-null    object \n",
            " 4   exotic            979 non-null    float64\n",
            " 5   avg_length        957 non-null    float64\n",
            " 6   avg_negativity    957 non-null    float64\n",
            " 7   avg_positivity    957 non-null    float64\n",
            " 8   avg_subjectivity  957 non-null    float64\n",
            " 9   avg_readablity    957 non-null    float64\n",
            " 10  useful            999 non-null    float64\n",
            " 11  funny             999 non-null    float64\n",
            " 12  cool              999 non-null    float64\n",
            " 13  popularity        999 non-null    int64  \n",
            "dtypes: float64(9), int64(2), object(3)\n",
            "memory usage: 109.4+ KB\n"
          ]
        }
      ]
    },
    {
      "cell_type": "code",
      "source": [
        "#replacing price object dtypes for one, two, three and four to numbers\n",
        "dfZM['price'].replace({'one':1, 'two':2, 'three':3, 'four':4}, inplace=True)"
      ],
      "metadata": {
        "id": "rIFbyxwPYVRq"
      },
      "execution_count": 10,
      "outputs": []
    },
    {
      "cell_type": "code",
      "source": [
        "dfZM.price.unique()"
      ],
      "metadata": {
        "colab": {
          "base_uri": "https://localhost:8080/",
          "height": 0
        },
        "id": "h7D9HStjYs7k",
        "outputId": "90c5e566-8363-4dfd-9a6e-26e95399b7e3"
      },
      "execution_count": 11,
      "outputs": [
        {
          "output_type": "execute_result",
          "data": {
            "text/plain": [
              "array([ 1.,  2.,  3., nan,  4.])"
            ]
          },
          "metadata": {},
          "execution_count": 11
        }
      ]
    },
    {
      "cell_type": "code",
      "source": [
        "#filling null values for price by using mode\n",
        "dfZM.price.mode()"
      ],
      "metadata": {
        "colab": {
          "base_uri": "https://localhost:8080/",
          "height": 0
        },
        "id": "fSkuzMOGZXA3",
        "outputId": "1dcd81b0-2696-4924-fd96-7e6dd03c2888"
      },
      "execution_count": 12,
      "outputs": [
        {
          "output_type": "execute_result",
          "data": {
            "text/plain": [
              "0    1.0\n",
              "dtype: float64"
            ]
          },
          "metadata": {},
          "execution_count": 12
        }
      ]
    },
    {
      "cell_type": "code",
      "source": [
        "dfZM.price.fillna(1, inplace=True)"
      ],
      "metadata": {
        "id": "7yJ0S5wLZe3Q"
      },
      "execution_count": 13,
      "outputs": []
    },
    {
      "cell_type": "code",
      "source": [
        "dfZM.isnull().sum()"
      ],
      "metadata": {
        "colab": {
          "base_uri": "https://localhost:8080/",
          "height": 0
        },
        "id": "sfAo2kIyZj2M",
        "outputId": "084cadfa-7483-4ff6-88cf-9f4f26bb0888"
      },
      "execution_count": 14,
      "outputs": [
        {
          "output_type": "execute_result",
          "data": {
            "text/plain": [
              "entity_id            0\n",
              "location_name       13\n",
              "sub_category        13\n",
              "price                0\n",
              "exotic              20\n",
              "avg_length          42\n",
              "avg_negativity      42\n",
              "avg_positivity      42\n",
              "avg_subjectivity    42\n",
              "avg_readablity      42\n",
              "useful               0\n",
              "funny                0\n",
              "cool                 0\n",
              "popularity           0\n",
              "dtype: int64"
            ]
          },
          "metadata": {},
          "execution_count": 14
        }
      ]
    },
    {
      "cell_type": "code",
      "source": [
        "#Filling Avg_Length, Avg_Negativity, Avg_Positivity, Avg_Subjectivity and Avg_Readability with the mean.\n",
        "dfZM.avg_length.fillna(dfZM.avg_length.mean(),inplace=True)\n",
        "dfZM.avg_negativity.fillna(dfZM.avg_negativity.mean(),inplace=True)\n",
        "dfZM.avg_positivity.fillna(dfZM.avg_positivity.mean(),inplace=True)\n",
        "dfZM.avg_subjectivity.fillna(dfZM.avg_subjectivity.mean(),inplace=True)\n",
        "dfZM.avg_readablity.fillna(dfZM.avg_readablity.mean(),inplace=True)"
      ],
      "metadata": {
        "id": "HlyhKmZ7VWvM"
      },
      "execution_count": 15,
      "outputs": []
    },
    {
      "cell_type": "code",
      "source": [
        "dfZM.isnull().sum()"
      ],
      "metadata": {
        "colab": {
          "base_uri": "https://localhost:8080/",
          "height": 0
        },
        "id": "KnTNEyanbGXg",
        "outputId": "2dfe4cb0-8a94-4956-bcb0-0b568e22c74c"
      },
      "execution_count": 16,
      "outputs": [
        {
          "output_type": "execute_result",
          "data": {
            "text/plain": [
              "entity_id            0\n",
              "location_name       13\n",
              "sub_category        13\n",
              "price                0\n",
              "exotic              20\n",
              "avg_length           0\n",
              "avg_negativity       0\n",
              "avg_positivity       0\n",
              "avg_subjectivity     0\n",
              "avg_readablity       0\n",
              "useful               0\n",
              "funny                0\n",
              "cool                 0\n",
              "popularity           0\n",
              "dtype: int64"
            ]
          },
          "metadata": {},
          "execution_count": 16
        }
      ]
    },
    {
      "cell_type": "code",
      "source": [
        "dfZM.info()"
      ],
      "metadata": {
        "colab": {
          "base_uri": "https://localhost:8080/",
          "height": 0
        },
        "id": "RB1cv1OgbNvz",
        "outputId": "7c7dd9b8-aa90-4b33-d3c5-1b556959e8b6"
      },
      "execution_count": 17,
      "outputs": [
        {
          "output_type": "stream",
          "name": "stdout",
          "text": [
            "<class 'pandas.core.frame.DataFrame'>\n",
            "RangeIndex: 999 entries, 0 to 998\n",
            "Data columns (total 14 columns):\n",
            " #   Column            Non-Null Count  Dtype  \n",
            "---  ------            --------------  -----  \n",
            " 0   entity_id         999 non-null    int64  \n",
            " 1   location_name     986 non-null    object \n",
            " 2   sub_category      986 non-null    object \n",
            " 3   price             999 non-null    float64\n",
            " 4   exotic            979 non-null    float64\n",
            " 5   avg_length        999 non-null    float64\n",
            " 6   avg_negativity    999 non-null    float64\n",
            " 7   avg_positivity    999 non-null    float64\n",
            " 8   avg_subjectivity  999 non-null    float64\n",
            " 9   avg_readablity    999 non-null    float64\n",
            " 10  useful            999 non-null    float64\n",
            " 11  funny             999 non-null    float64\n",
            " 12  cool              999 non-null    float64\n",
            " 13  popularity        999 non-null    int64  \n",
            "dtypes: float64(10), int64(2), object(2)\n",
            "memory usage: 109.4+ KB\n"
          ]
        }
      ]
    },
    {
      "cell_type": "code",
      "source": [
        "#filling exotic with the mode\n",
        "dfZM.exotic.mode()"
      ],
      "metadata": {
        "colab": {
          "base_uri": "https://localhost:8080/",
          "height": 0
        },
        "id": "4Y7oFYTcbOsk",
        "outputId": "7dd01677-60e7-4a44-afed-40407e31dd65"
      },
      "execution_count": 18,
      "outputs": [
        {
          "output_type": "execute_result",
          "data": {
            "text/plain": [
              "0    0.0\n",
              "dtype: float64"
            ]
          },
          "metadata": {},
          "execution_count": 18
        }
      ]
    },
    {
      "cell_type": "code",
      "source": [
        "dfZM.exotic.fillna(0.0, inplace=True)"
      ],
      "metadata": {
        "id": "jUknRUrKbl3q"
      },
      "execution_count": 19,
      "outputs": []
    },
    {
      "cell_type": "code",
      "source": [
        "dfZM.isnull().sum()"
      ],
      "metadata": {
        "colab": {
          "base_uri": "https://localhost:8080/",
          "height": 0
        },
        "id": "lbh1NdfVbsqU",
        "outputId": "dd827c4b-f57b-42f6-9500-fca408920b12"
      },
      "execution_count": 20,
      "outputs": [
        {
          "output_type": "execute_result",
          "data": {
            "text/plain": [
              "entity_id            0\n",
              "location_name       13\n",
              "sub_category        13\n",
              "price                0\n",
              "exotic               0\n",
              "avg_length           0\n",
              "avg_negativity       0\n",
              "avg_positivity       0\n",
              "avg_subjectivity     0\n",
              "avg_readablity       0\n",
              "useful               0\n",
              "funny                0\n",
              "cool                 0\n",
              "popularity           0\n",
              "dtype: int64"
            ]
          },
          "metadata": {},
          "execution_count": 20
        }
      ]
    },
    {
      "cell_type": "code",
      "source": [
        "#drop location name and sub category since we have entity id to identify the restaraunt\n",
        "dfZM.drop(['location_name','sub_category'], axis=1, inplace=True)\n"
      ],
      "metadata": {
        "id": "froVB2mpcaH5"
      },
      "execution_count": 21,
      "outputs": []
    },
    {
      "cell_type": "code",
      "source": [
        "dfZM.head()"
      ],
      "metadata": {
        "colab": {
          "base_uri": "https://localhost:8080/",
          "height": 206
        },
        "id": "LQ7nllBgdFWR",
        "outputId": "901d04f5-5100-41c3-ab58-fa836d329728"
      },
      "execution_count": 22,
      "outputs": [
        {
          "output_type": "execute_result",
          "data": {
            "text/plain": [
              "   entity_id  price  exotic  avg_length  avg_negativity  avg_positivity  \\\n",
              "0          1    1.0     0.0   78.433472        0.045646        0.072637   \n",
              "1          2    2.0     1.0  113.076860        0.058292        0.224257   \n",
              "2          3    2.0     0.0   74.220901        0.045527        0.150131   \n",
              "3          4    2.0     0.0   38.766666        0.083615        0.019077   \n",
              "4          5    2.0     1.0   98.985954        0.043990        0.168973   \n",
              "\n",
              "   avg_subjectivity  avg_readablity     useful  funny       cool  popularity  \n",
              "0          0.472389       82.086990   0.000000    0.0   0.000000           1  \n",
              "1          0.709735       72.584427   4.000000    1.0   0.000000           0  \n",
              "2          0.543687       77.486710  21.333333    7.0  15.833333           1  \n",
              "3          0.409231       78.366920   4.000000    0.0   0.000000           0  \n",
              "4          0.579528       83.057953  13.833333    7.5   2.000000           1  "
            ],
            "text/html": [
              "\n",
              "  <div id=\"df-2144a5fe-9832-4a2c-8e61-2776ec712b1d\">\n",
              "    <div class=\"colab-df-container\">\n",
              "      <div>\n",
              "<style scoped>\n",
              "    .dataframe tbody tr th:only-of-type {\n",
              "        vertical-align: middle;\n",
              "    }\n",
              "\n",
              "    .dataframe tbody tr th {\n",
              "        vertical-align: top;\n",
              "    }\n",
              "\n",
              "    .dataframe thead th {\n",
              "        text-align: right;\n",
              "    }\n",
              "</style>\n",
              "<table border=\"1\" class=\"dataframe\">\n",
              "  <thead>\n",
              "    <tr style=\"text-align: right;\">\n",
              "      <th></th>\n",
              "      <th>entity_id</th>\n",
              "      <th>price</th>\n",
              "      <th>exotic</th>\n",
              "      <th>avg_length</th>\n",
              "      <th>avg_negativity</th>\n",
              "      <th>avg_positivity</th>\n",
              "      <th>avg_subjectivity</th>\n",
              "      <th>avg_readablity</th>\n",
              "      <th>useful</th>\n",
              "      <th>funny</th>\n",
              "      <th>cool</th>\n",
              "      <th>popularity</th>\n",
              "    </tr>\n",
              "  </thead>\n",
              "  <tbody>\n",
              "    <tr>\n",
              "      <th>0</th>\n",
              "      <td>1</td>\n",
              "      <td>1.0</td>\n",
              "      <td>0.0</td>\n",
              "      <td>78.433472</td>\n",
              "      <td>0.045646</td>\n",
              "      <td>0.072637</td>\n",
              "      <td>0.472389</td>\n",
              "      <td>82.086990</td>\n",
              "      <td>0.000000</td>\n",
              "      <td>0.0</td>\n",
              "      <td>0.000000</td>\n",
              "      <td>1</td>\n",
              "    </tr>\n",
              "    <tr>\n",
              "      <th>1</th>\n",
              "      <td>2</td>\n",
              "      <td>2.0</td>\n",
              "      <td>1.0</td>\n",
              "      <td>113.076860</td>\n",
              "      <td>0.058292</td>\n",
              "      <td>0.224257</td>\n",
              "      <td>0.709735</td>\n",
              "      <td>72.584427</td>\n",
              "      <td>4.000000</td>\n",
              "      <td>1.0</td>\n",
              "      <td>0.000000</td>\n",
              "      <td>0</td>\n",
              "    </tr>\n",
              "    <tr>\n",
              "      <th>2</th>\n",
              "      <td>3</td>\n",
              "      <td>2.0</td>\n",
              "      <td>0.0</td>\n",
              "      <td>74.220901</td>\n",
              "      <td>0.045527</td>\n",
              "      <td>0.150131</td>\n",
              "      <td>0.543687</td>\n",
              "      <td>77.486710</td>\n",
              "      <td>21.333333</td>\n",
              "      <td>7.0</td>\n",
              "      <td>15.833333</td>\n",
              "      <td>1</td>\n",
              "    </tr>\n",
              "    <tr>\n",
              "      <th>3</th>\n",
              "      <td>4</td>\n",
              "      <td>2.0</td>\n",
              "      <td>0.0</td>\n",
              "      <td>38.766666</td>\n",
              "      <td>0.083615</td>\n",
              "      <td>0.019077</td>\n",
              "      <td>0.409231</td>\n",
              "      <td>78.366920</td>\n",
              "      <td>4.000000</td>\n",
              "      <td>0.0</td>\n",
              "      <td>0.000000</td>\n",
              "      <td>0</td>\n",
              "    </tr>\n",
              "    <tr>\n",
              "      <th>4</th>\n",
              "      <td>5</td>\n",
              "      <td>2.0</td>\n",
              "      <td>1.0</td>\n",
              "      <td>98.985954</td>\n",
              "      <td>0.043990</td>\n",
              "      <td>0.168973</td>\n",
              "      <td>0.579528</td>\n",
              "      <td>83.057953</td>\n",
              "      <td>13.833333</td>\n",
              "      <td>7.5</td>\n",
              "      <td>2.000000</td>\n",
              "      <td>1</td>\n",
              "    </tr>\n",
              "  </tbody>\n",
              "</table>\n",
              "</div>\n",
              "      <button class=\"colab-df-convert\" onclick=\"convertToInteractive('df-2144a5fe-9832-4a2c-8e61-2776ec712b1d')\"\n",
              "              title=\"Convert this dataframe to an interactive table.\"\n",
              "              style=\"display:none;\">\n",
              "        \n",
              "  <svg xmlns=\"http://www.w3.org/2000/svg\" height=\"24px\"viewBox=\"0 0 24 24\"\n",
              "       width=\"24px\">\n",
              "    <path d=\"M0 0h24v24H0V0z\" fill=\"none\"/>\n",
              "    <path d=\"M18.56 5.44l.94 2.06.94-2.06 2.06-.94-2.06-.94-.94-2.06-.94 2.06-2.06.94zm-11 1L8.5 8.5l.94-2.06 2.06-.94-2.06-.94L8.5 2.5l-.94 2.06-2.06.94zm10 10l.94 2.06.94-2.06 2.06-.94-2.06-.94-.94-2.06-.94 2.06-2.06.94z\"/><path d=\"M17.41 7.96l-1.37-1.37c-.4-.4-.92-.59-1.43-.59-.52 0-1.04.2-1.43.59L10.3 9.45l-7.72 7.72c-.78.78-.78 2.05 0 2.83L4 21.41c.39.39.9.59 1.41.59.51 0 1.02-.2 1.41-.59l7.78-7.78 2.81-2.81c.8-.78.8-2.07 0-2.86zM5.41 20L4 18.59l7.72-7.72 1.47 1.35L5.41 20z\"/>\n",
              "  </svg>\n",
              "      </button>\n",
              "      \n",
              "  <style>\n",
              "    .colab-df-container {\n",
              "      display:flex;\n",
              "      flex-wrap:wrap;\n",
              "      gap: 12px;\n",
              "    }\n",
              "\n",
              "    .colab-df-convert {\n",
              "      background-color: #E8F0FE;\n",
              "      border: none;\n",
              "      border-radius: 50%;\n",
              "      cursor: pointer;\n",
              "      display: none;\n",
              "      fill: #1967D2;\n",
              "      height: 32px;\n",
              "      padding: 0 0 0 0;\n",
              "      width: 32px;\n",
              "    }\n",
              "\n",
              "    .colab-df-convert:hover {\n",
              "      background-color: #E2EBFA;\n",
              "      box-shadow: 0px 1px 2px rgba(60, 64, 67, 0.3), 0px 1px 3px 1px rgba(60, 64, 67, 0.15);\n",
              "      fill: #174EA6;\n",
              "    }\n",
              "\n",
              "    [theme=dark] .colab-df-convert {\n",
              "      background-color: #3B4455;\n",
              "      fill: #D2E3FC;\n",
              "    }\n",
              "\n",
              "    [theme=dark] .colab-df-convert:hover {\n",
              "      background-color: #434B5C;\n",
              "      box-shadow: 0px 1px 3px 1px rgba(0, 0, 0, 0.15);\n",
              "      filter: drop-shadow(0px 1px 2px rgba(0, 0, 0, 0.3));\n",
              "      fill: #FFFFFF;\n",
              "    }\n",
              "  </style>\n",
              "\n",
              "      <script>\n",
              "        const buttonEl =\n",
              "          document.querySelector('#df-2144a5fe-9832-4a2c-8e61-2776ec712b1d button.colab-df-convert');\n",
              "        buttonEl.style.display =\n",
              "          google.colab.kernel.accessAllowed ? 'block' : 'none';\n",
              "\n",
              "        async function convertToInteractive(key) {\n",
              "          const element = document.querySelector('#df-2144a5fe-9832-4a2c-8e61-2776ec712b1d');\n",
              "          const dataTable =\n",
              "            await google.colab.kernel.invokeFunction('convertToInteractive',\n",
              "                                                     [key], {});\n",
              "          if (!dataTable) return;\n",
              "\n",
              "          const docLinkHtml = 'Like what you see? Visit the ' +\n",
              "            '<a target=\"_blank\" href=https://colab.research.google.com/notebooks/data_table.ipynb>data table notebook</a>'\n",
              "            + ' to learn more about interactive tables.';\n",
              "          element.innerHTML = '';\n",
              "          dataTable['output_type'] = 'display_data';\n",
              "          await google.colab.output.renderOutput(dataTable, element);\n",
              "          const docLink = document.createElement('div');\n",
              "          docLink.innerHTML = docLinkHtml;\n",
              "          element.appendChild(docLink);\n",
              "        }\n",
              "      </script>\n",
              "    </div>\n",
              "  </div>\n",
              "  "
            ]
          },
          "metadata": {},
          "execution_count": 22
        }
      ]
    },
    {
      "cell_type": "code",
      "source": [
        "dfZM.info()"
      ],
      "metadata": {
        "colab": {
          "base_uri": "https://localhost:8080/",
          "height": 0
        },
        "id": "8ivScEKMdJoS",
        "outputId": "3065ec79-720e-449a-91b5-1dc919f64a72"
      },
      "execution_count": 23,
      "outputs": [
        {
          "output_type": "stream",
          "name": "stdout",
          "text": [
            "<class 'pandas.core.frame.DataFrame'>\n",
            "RangeIndex: 999 entries, 0 to 998\n",
            "Data columns (total 12 columns):\n",
            " #   Column            Non-Null Count  Dtype  \n",
            "---  ------            --------------  -----  \n",
            " 0   entity_id         999 non-null    int64  \n",
            " 1   price             999 non-null    float64\n",
            " 2   exotic            999 non-null    float64\n",
            " 3   avg_length        999 non-null    float64\n",
            " 4   avg_negativity    999 non-null    float64\n",
            " 5   avg_positivity    999 non-null    float64\n",
            " 6   avg_subjectivity  999 non-null    float64\n",
            " 7   avg_readablity    999 non-null    float64\n",
            " 8   useful            999 non-null    float64\n",
            " 9   funny             999 non-null    float64\n",
            " 10  cool              999 non-null    float64\n",
            " 11  popularity        999 non-null    int64  \n",
            "dtypes: float64(10), int64(2)\n",
            "memory usage: 93.8 KB\n"
          ]
        }
      ]
    },
    {
      "cell_type": "code",
      "source": [
        "#Assign X and Y Variables, Popularity is my prediction variable - so is my Y. I want to keep everything else\n",
        "X = dfZM.drop(['popularity'], axis=1)\n",
        "y = dfZM['popularity']  "
      ],
      "metadata": {
        "id": "pyjKcZ_Dd-cL"
      },
      "execution_count": 24,
      "outputs": []
    },
    {
      "cell_type": "code",
      "source": [
        "#Checking for Skewness for all variables in the DF\n",
        "X.skew()"
      ],
      "metadata": {
        "colab": {
          "base_uri": "https://localhost:8080/",
          "height": 0
        },
        "id": "IRJteQPRdLrq",
        "outputId": "bac597d7-b3a8-4944-f98d-d740a3071470"
      },
      "execution_count": 25,
      "outputs": [
        {
          "output_type": "execute_result",
          "data": {
            "text/plain": [
              "entity_id          -0.020870\n",
              "price               0.706659\n",
              "exotic              0.883061\n",
              "avg_length          0.283632\n",
              "avg_negativity      1.662572\n",
              "avg_positivity      0.302892\n",
              "avg_subjectivity   -0.838868\n",
              "avg_readablity     -1.830955\n",
              "useful              4.467137\n",
              "funny               5.432734\n",
              "cool                4.272157\n",
              "dtype: float64"
            ]
          },
          "metadata": {},
          "execution_count": 25
        }
      ]
    },
    {
      "cell_type": "code",
      "source": [
        "#Useful, funny and cool have > 2 skewness, will use transform (not log since they will have 0 or negative values)\n",
        "def combine(x):\n",
        "  if x>0:\n",
        "    return 1\n",
        "  else:\n",
        "    return 0\n",
        "X['useful']=X['useful'].apply(combine)\n",
        "X['funny'] = X['funny'].apply(combine)\n",
        "X['cool'] = X['cool'].apply(combine)"
      ],
      "metadata": {
        "id": "ax1d6U_Yg5So"
      },
      "execution_count": 26,
      "outputs": []
    },
    {
      "cell_type": "code",
      "source": [
        "X.skew()"
      ],
      "metadata": {
        "colab": {
          "base_uri": "https://localhost:8080/",
          "height": 0
        },
        "id": "RWSpjHX9kieo",
        "outputId": "dca1dfb3-ff40-4786-d8be-7cc35c8e250d"
      },
      "execution_count": 29,
      "outputs": [
        {
          "output_type": "execute_result",
          "data": {
            "text/plain": [
              "entity_id          -0.020870\n",
              "price               0.706659\n",
              "exotic              0.883061\n",
              "avg_length          0.283632\n",
              "avg_negativity      1.662572\n",
              "avg_positivity      0.302892\n",
              "avg_subjectivity   -0.838868\n",
              "avg_readablity     -1.830955\n",
              "useful             -1.540369\n",
              "funny              -0.546600\n",
              "cool               -0.573537\n",
              "dtype: float64"
            ]
          },
          "metadata": {},
          "execution_count": 29
        }
      ]
    },
    {
      "cell_type": "code",
      "source": [
        "#Model Free Evidence, using visuals for longer reviews / popularity\n",
        "\n",
        "#I will use a scatterplot for this, as well as summary statistics\n",
        "sns.scatterplot(x='avg_length', y='popularity', data=dfZM)\n",
        "\n",
        "#show the plot\n",
        "plt.show()"
      ],
      "metadata": {
        "colab": {
          "base_uri": "https://localhost:8080/",
          "height": 280
        },
        "id": "MUEFqiaElgWH",
        "outputId": "a2f5b73b-ccba-4bcc-b8d1-95e5a2e6a437"
      },
      "execution_count": 31,
      "outputs": [
        {
          "output_type": "display_data",
          "data": {
            "text/plain": [
              "<Figure size 432x288 with 1 Axes>"
            ],
            "image/png": "[encoded data removed]"
          },
          "metadata": {
            "needs_background": "light"
          }
        }
      ]
    },
    {
      "cell_type": "code",
      "source": [
        "#summary stats\n",
        "print(dfZM.groupby('popularity')['avg_length'].describe())"
      ],
      "metadata": {
        "colab": {
          "base_uri": "https://localhost:8080/",
          "height": 0
        },
        "id": "t9IqRz2kmTlY",
        "outputId": "7ef9c66e-f76b-4706-a421-f0f3f33f02bc"
      },
      "execution_count": 32,
      "outputs": [
        {
          "output_type": "stream",
          "name": "stdout",
          "text": [
            "            count       mean        std        min        25%        50%  \\\n",
            "popularity                                                                 \n",
            "0           499.0  84.030753  25.229797  15.455556  70.495052  84.560120   \n",
            "1           500.0  88.727869  23.357089   8.880000  74.638574  88.369732   \n",
            "\n",
            "                   75%        max  \n",
            "popularity                         \n",
            "0            97.638966  228.45000  \n",
            "1           103.753208  175.14626  \n"
          ]
        }
      ]
    },
    {
      "cell_type": "code",
      "source": [
        "#implement VIF for multicollinearity\n",
        "\n",
        "from statsmodels.stats.outliers_influence import variance_inflation_factor\n",
        "\n",
        "vif_data = pd.DataFrame()\n",
        "vif_data['feature'] = X.columns\n",
        "vif_data['VIF'] = [variance_inflation_factor(X.values, i) for i in range(len(X.columns))]\n",
        "\n",
        "vif_data"
      ],
      "metadata": {
        "colab": {
          "base_uri": "https://localhost:8080/",
          "height": 394
        },
        "id": "9zgXkfaNkp6Q",
        "outputId": "a9e70037-ac49-4cfa-d5f8-921a5579a252"
      },
      "execution_count": 30,
      "outputs": [
        {
          "output_type": "execute_result",
          "data": {
            "text/plain": [
              "             feature        VIF\n",
              "0          entity_id   4.019795\n",
              "1              price   9.155374\n",
              "2             exotic   1.556268\n",
              "3         avg_length  13.486238\n",
              "4     avg_negativity   6.395266\n",
              "5     avg_positivity  15.475473\n",
              "6   avg_subjectivity  69.933689\n",
              "7     avg_readablity  71.348436\n",
              "8             useful   8.536048\n",
              "9              funny   4.964781\n",
              "10              cool   5.348481"
            ],
            "text/html": [
              "\n",
              "  <div id=\"df-098c2d88-3005-4482-ae34-308b940aed7e\">\n",
              "    <div class=\"colab-df-container\">\n",
              "      <div>\n",
              "<style scoped>\n",
              "    .dataframe tbody tr th:only-of-type {\n",
              "        vertical-align: middle;\n",
              "    }\n",
              "\n",
              "    .dataframe tbody tr th {\n",
              "        vertical-align: top;\n",
              "    }\n",
              "\n",
              "    .dataframe thead th {\n",
              "        text-align: right;\n",
              "    }\n",
              "</style>\n",
              "<table border=\"1\" class=\"dataframe\">\n",
              "  <thead>\n",
              "    <tr style=\"text-align: right;\">\n",
              "      <th></th>\n",
              "      <th>feature</th>\n",
              "      <th>VIF</th>\n",
              "    </tr>\n",
              "  </thead>\n",
              "  <tbody>\n",
              "    <tr>\n",
              "      <th>0</th>\n",
              "      <td>entity_id</td>\n",
              "      <td>4.019795</td>\n",
              "    </tr>\n",
              "    <tr>\n",
              "      <th>1</th>\n",
              "      <td>price</td>\n",
              "      <td>9.155374</td>\n",
              "    </tr>\n",
              "    <tr>\n",
              "      <th>2</th>\n",
              "      <td>exotic</td>\n",
              "      <td>1.556268</td>\n",
              "    </tr>\n",
              "    <tr>\n",
              "      <th>3</th>\n",
              "      <td>avg_length</td>\n",
              "      <td>13.486238</td>\n",
              "    </tr>\n",
              "    <tr>\n",
              "      <th>4</th>\n",
              "      <td>avg_negativity</td>\n",
              "      <td>6.395266</td>\n",
              "    </tr>\n",
              "    <tr>\n",
              "      <th>5</th>\n",
              "      <td>avg_positivity</td>\n",
              "      <td>15.475473</td>\n",
              "    </tr>\n",
              "    <tr>\n",
              "      <th>6</th>\n",
              "      <td>avg_subjectivity</td>\n",
              "      <td>69.933689</td>\n",
              "    </tr>\n",
              "    <tr>\n",
              "      <th>7</th>\n",
              "      <td>avg_readablity</td>\n",
              "      <td>71.348436</td>\n",
              "    </tr>\n",
              "    <tr>\n",
              "      <th>8</th>\n",
              "      <td>useful</td>\n",
              "      <td>8.536048</td>\n",
              "    </tr>\n",
              "    <tr>\n",
              "      <th>9</th>\n",
              "      <td>funny</td>\n",
              "      <td>4.964781</td>\n",
              "    </tr>\n",
              "    <tr>\n",
              "      <th>10</th>\n",
              "      <td>cool</td>\n",
              "      <td>5.348481</td>\n",
              "    </tr>\n",
              "  </tbody>\n",
              "</table>\n",
              "</div>\n",
              "      <button class=\"colab-df-convert\" onclick=\"convertToInteractive('df-098c2d88-3005-4482-ae34-308b940aed7e')\"\n",
              "              title=\"Convert this dataframe to an interactive table.\"\n",
              "              style=\"display:none;\">\n",
              "        \n",
              "  <svg xmlns=\"http://www.w3.org/2000/svg\" height=\"24px\"viewBox=\"0 0 24 24\"\n",
              "       width=\"24px\">\n",
              "    <path d=\"M0 0h24v24H0V0z\" fill=\"none\"/>\n",
              "    <path d=\"M18.56 5.44l.94 2.06.94-2.06 2.06-.94-2.06-.94-.94-2.06-.94 2.06-2.06.94zm-11 1L8.5 8.5l.94-2.06 2.06-.94-2.06-.94L8.5 2.5l-.94 2.06-2.06.94zm10 10l.94 2.06.94-2.06 2.06-.94-2.06-.94-.94-2.06-.94 2.06-2.06.94z\"/><path d=\"M17.41 7.96l-1.37-1.37c-.4-.4-.92-.59-1.43-.59-.52 0-1.04.2-1.43.59L10.3 9.45l-7.72 7.72c-.78.78-.78 2.05 0 2.83L4 21.41c.39.39.9.59 1.41.59.51 0 1.02-.2 1.41-.59l7.78-7.78 2.81-2.81c.8-.78.8-2.07 0-2.86zM5.41 20L4 18.59l7.72-7.72 1.47 1.35L5.41 20z\"/>\n",
              "  </svg>\n",
              "      </button>\n",
              "      \n",
              "  <style>\n",
              "    .colab-df-container {\n",
              "      display:flex;\n",
              "      flex-wrap:wrap;\n",
              "      gap: 12px;\n",
              "    }\n",
              "\n",
              "    .colab-df-convert {\n",
              "      background-color: #E8F0FE;\n",
              "      border: none;\n",
              "      border-radius: 50%;\n",
              "      cursor: pointer;\n",
              "      display: none;\n",
              "      fill: #1967D2;\n",
              "      height: 32px;\n",
              "      padding: 0 0 0 0;\n",
              "      width: 32px;\n",
              "    }\n",
              "\n",
              "    .colab-df-convert:hover {\n",
              "      background-color: #E2EBFA;\n",
              "      box-shadow: 0px 1px 2px rgba(60, 64, 67, 0.3), 0px 1px 3px 1px rgba(60, 64, 67, 0.15);\n",
              "      fill: #174EA6;\n",
              "    }\n",
              "\n",
              "    [theme=dark] .colab-df-convert {\n",
              "      background-color: #3B4455;\n",
              "      fill: #D2E3FC;\n",
              "    }\n",
              "\n",
              "    [theme=dark] .colab-df-convert:hover {\n",
              "      background-color: #434B5C;\n",
              "      box-shadow: 0px 1px 3px 1px rgba(0, 0, 0, 0.15);\n",
              "      filter: drop-shadow(0px 1px 2px rgba(0, 0, 0, 0.3));\n",
              "      fill: #FFFFFF;\n",
              "    }\n",
              "  </style>\n",
              "\n",
              "      <script>\n",
              "        const buttonEl =\n",
              "          document.querySelector('#df-098c2d88-3005-4482-ae34-308b940aed7e button.colab-df-convert');\n",
              "        buttonEl.style.display =\n",
              "          google.colab.kernel.accessAllowed ? 'block' : 'none';\n",
              "\n",
              "        async function convertToInteractive(key) {\n",
              "          const element = document.querySelector('#df-098c2d88-3005-4482-ae34-308b940aed7e');\n",
              "          const dataTable =\n",
              "            await google.colab.kernel.invokeFunction('convertToInteractive',\n",
              "                                                     [key], {});\n",
              "          if (!dataTable) return;\n",
              "\n",
              "          const docLinkHtml = 'Like what you see? Visit the ' +\n",
              "            '<a target=\"_blank\" href=https://colab.research.google.com/notebooks/data_table.ipynb>data table notebook</a>'\n",
              "            + ' to learn more about interactive tables.';\n",
              "          element.innerHTML = '';\n",
              "          dataTable['output_type'] = 'display_data';\n",
              "          await google.colab.output.renderOutput(dataTable, element);\n",
              "          const docLink = document.createElement('div');\n",
              "          docLink.innerHTML = docLinkHtml;\n",
              "          element.appendChild(docLink);\n",
              "        }\n",
              "      </script>\n",
              "    </div>\n",
              "  </div>\n",
              "  "
            ]
          },
          "metadata": {},
          "execution_count": 30
        }
      ]
    },
    {
      "cell_type": "code",
      "source": [
        "X.corr()"
      ],
      "metadata": {
        "colab": {
          "base_uri": "https://localhost:8080/",
          "height": 394
        },
        "id": "g5tAajkQlByA",
        "outputId": "07a3e8e1-3f46-4896-a355-6d0136eeef4b"
      },
      "execution_count": 34,
      "outputs": [
        {
          "output_type": "execute_result",
          "data": {
            "text/plain": [
              "                  entity_id     price    exotic  avg_length  avg_negativity  \\\n",
              "entity_id          1.000000  0.028390  0.018251    0.010652        0.019386   \n",
              "price              0.028390  1.000000  0.271691    0.131283       -0.160590   \n",
              "exotic             0.018251  0.271691  1.000000    0.067586       -0.087892   \n",
              "avg_length         0.010652  0.131283  0.067586    1.000000        0.111452   \n",
              "avg_negativity     0.019386 -0.160590 -0.087892    0.111452        1.000000   \n",
              "avg_positivity    -0.006276  0.154990  0.097063   -0.173117       -0.655441   \n",
              "avg_subjectivity  -0.013910  0.042689  0.033697   -0.100878       -0.053253   \n",
              "avg_readablity     0.012723 -0.044382  0.019779   -0.038842        0.006544   \n",
              "useful             0.005560  0.131502  0.083731    0.037517       -0.019478   \n",
              "funny             -0.006858  0.181783  0.125978    0.047324       -0.072630   \n",
              "cool              -0.005331  0.207320  0.131927    0.008485       -0.208795   \n",
              "\n",
              "                  avg_positivity  avg_subjectivity  avg_readablity    useful  \\\n",
              "entity_id              -0.006276         -0.013910        0.012723  0.005560   \n",
              "price                   0.154990          0.042689       -0.044382  0.131502   \n",
              "exotic                  0.097063          0.033697        0.019779  0.083731   \n",
              "avg_length             -0.173117         -0.100878       -0.038842  0.037517   \n",
              "avg_negativity         -0.655441         -0.053253        0.006544 -0.019478   \n",
              "avg_positivity          1.000000          0.338121        0.049933  0.044238   \n",
              "avg_subjectivity        0.338121          1.000000        0.061913  0.057537   \n",
              "avg_readablity          0.049933          0.061913        1.000000  0.074930   \n",
              "useful                  0.044238          0.057537        0.074930  1.000000   \n",
              "funny                   0.044589          0.040202        0.066256  0.561109   \n",
              "cool                    0.172222          0.055188        0.069857  0.563969   \n",
              "\n",
              "                     funny      cool  \n",
              "entity_id        -0.006858 -0.005331  \n",
              "price             0.181783  0.207320  \n",
              "exotic            0.125978  0.131927  \n",
              "avg_length        0.047324  0.008485  \n",
              "avg_negativity   -0.072630 -0.208795  \n",
              "avg_positivity    0.044589  0.172222  \n",
              "avg_subjectivity  0.040202  0.055188  \n",
              "avg_readablity    0.066256  0.069857  \n",
              "useful            0.561109  0.563969  \n",
              "funny             1.000000  0.615852  \n",
              "cool              0.615852  1.000000  "
            ],
            "text/html": [
              "\n",
              "  <div id=\"df-9b205978-2609-42b2-b016-529d084695a1\">\n",
              "    <div class=\"colab-df-container\">\n",
              "      <div>\n",
              "<style scoped>\n",
              "    .dataframe tbody tr th:only-of-type {\n",
              "        vertical-align: middle;\n",
              "    }\n",
              "\n",
              "    .dataframe tbody tr th {\n",
              "        vertical-align: top;\n",
              "    }\n",
              "\n",
              "    .dataframe thead th {\n",
              "        text-align: right;\n",
              "    }\n",
              "</style>\n",
              "<table border=\"1\" class=\"dataframe\">\n",
              "  <thead>\n",
              "    <tr style=\"text-align: right;\">\n",
              "      <th></th>\n",
              "      <th>entity_id</th>\n",
              "      <th>price</th>\n",
              "      <th>exotic</th>\n",
              "      <th>avg_length</th>\n",
              "      <th>avg_negativity</th>\n",
              "      <th>avg_positivity</th>\n",
              "      <th>avg_subjectivity</th>\n",
              "      <th>avg_readablity</th>\n",
              "      <th>useful</th>\n",
              "      <th>funny</th>\n",
              "      <th>cool</th>\n",
              "    </tr>\n",
              "  </thead>\n",
              "  <tbody>\n",
              "    <tr>\n",
              "      <th>entity_id</th>\n",
              "      <td>1.000000</td>\n",
              "      <td>0.028390</td>\n",
              "      <td>0.018251</td>\n",
              "      <td>0.010652</td>\n",
              "      <td>0.019386</td>\n",
              "      <td>-0.006276</td>\n",
              "      <td>-0.013910</td>\n",
              "      <td>0.012723</td>\n",
              "      <td>0.005560</td>\n",
              "      <td>-0.006858</td>\n",
              "      <td>-0.005331</td>\n",
              "    </tr>\n",
              "    <tr>\n",
              "      <th>price</th>\n",
              "      <td>0.028390</td>\n",
              "      <td>1.000000</td>\n",
              "      <td>0.271691</td>\n",
              "      <td>0.131283</td>\n",
              "      <td>-0.160590</td>\n",
              "      <td>0.154990</td>\n",
              "      <td>0.042689</td>\n",
              "      <td>-0.044382</td>\n",
              "      <td>0.131502</td>\n",
              "      <td>0.181783</td>\n",
              "      <td>0.207320</td>\n",
              "    </tr>\n",
              "    <tr>\n",
              "      <th>exotic</th>\n",
              "      <td>0.018251</td>\n",
              "      <td>0.271691</td>\n",
              "      <td>1.000000</td>\n",
              "      <td>0.067586</td>\n",
              "      <td>-0.087892</td>\n",
              "      <td>0.097063</td>\n",
              "      <td>0.033697</td>\n",
              "      <td>0.019779</td>\n",
              "      <td>0.083731</td>\n",
              "      <td>0.125978</td>\n",
              "      <td>0.131927</td>\n",
              "    </tr>\n",
              "    <tr>\n",
              "      <th>avg_length</th>\n",
              "      <td>0.010652</td>\n",
              "      <td>0.131283</td>\n",
              "      <td>0.067586</td>\n",
              "      <td>1.000000</td>\n",
              "      <td>0.111452</td>\n",
              "      <td>-0.173117</td>\n",
              "      <td>-0.100878</td>\n",
              "      <td>-0.038842</td>\n",
              "      <td>0.037517</td>\n",
              "      <td>0.047324</td>\n",
              "      <td>0.008485</td>\n",
              "    </tr>\n",
              "    <tr>\n",
              "      <th>avg_negativity</th>\n",
              "      <td>0.019386</td>\n",
              "      <td>-0.160590</td>\n",
              "      <td>-0.087892</td>\n",
              "      <td>0.111452</td>\n",
              "      <td>1.000000</td>\n",
              "      <td>-0.655441</td>\n",
              "      <td>-0.053253</td>\n",
              "      <td>0.006544</td>\n",
              "      <td>-0.019478</td>\n",
              "      <td>-0.072630</td>\n",
              "      <td>-0.208795</td>\n",
              "    </tr>\n",
              "    <tr>\n",
              "      <th>avg_positivity</th>\n",
              "      <td>-0.006276</td>\n",
              "      <td>0.154990</td>\n",
              "      <td>0.097063</td>\n",
              "      <td>-0.173117</td>\n",
              "      <td>-0.655441</td>\n",
              "      <td>1.000000</td>\n",
              "      <td>0.338121</td>\n",
              "      <td>0.049933</td>\n",
              "      <td>0.044238</td>\n",
              "      <td>0.044589</td>\n",
              "      <td>0.172222</td>\n",
              "    </tr>\n",
              "    <tr>\n",
              "      <th>avg_subjectivity</th>\n",
              "      <td>-0.013910</td>\n",
              "      <td>0.042689</td>\n",
              "      <td>0.033697</td>\n",
              "      <td>-0.100878</td>\n",
              "      <td>-0.053253</td>\n",
              "      <td>0.338121</td>\n",
              "      <td>1.000000</td>\n",
              "      <td>0.061913</td>\n",
              "      <td>0.057537</td>\n",
              "      <td>0.040202</td>\n",
              "      <td>0.055188</td>\n",
              "    </tr>\n",
              "    <tr>\n",
              "      <th>avg_readablity</th>\n",
              "      <td>0.012723</td>\n",
              "      <td>-0.044382</td>\n",
              "      <td>0.019779</td>\n",
              "      <td>-0.038842</td>\n",
              "      <td>0.006544</td>\n",
              "      <td>0.049933</td>\n",
              "      <td>0.061913</td>\n",
              "      <td>1.000000</td>\n",
              "      <td>0.074930</td>\n",
              "      <td>0.066256</td>\n",
              "      <td>0.069857</td>\n",
              "    </tr>\n",
              "    <tr>\n",
              "      <th>useful</th>\n",
              "      <td>0.005560</td>\n",
              "      <td>0.131502</td>\n",
              "      <td>0.083731</td>\n",
              "      <td>0.037517</td>\n",
              "      <td>-0.019478</td>\n",
              "      <td>0.044238</td>\n",
              "      <td>0.057537</td>\n",
              "      <td>0.074930</td>\n",
              "      <td>1.000000</td>\n",
              "      <td>0.561109</td>\n",
              "      <td>0.563969</td>\n",
              "    </tr>\n",
              "    <tr>\n",
              "      <th>funny</th>\n",
              "      <td>-0.006858</td>\n",
              "      <td>0.181783</td>\n",
              "      <td>0.125978</td>\n",
              "      <td>0.047324</td>\n",
              "      <td>-0.072630</td>\n",
              "      <td>0.044589</td>\n",
              "      <td>0.040202</td>\n",
              "      <td>0.066256</td>\n",
              "      <td>0.561109</td>\n",
              "      <td>1.000000</td>\n",
              "      <td>0.615852</td>\n",
              "    </tr>\n",
              "    <tr>\n",
              "      <th>cool</th>\n",
              "      <td>-0.005331</td>\n",
              "      <td>0.207320</td>\n",
              "      <td>0.131927</td>\n",
              "      <td>0.008485</td>\n",
              "      <td>-0.208795</td>\n",
              "      <td>0.172222</td>\n",
              "      <td>0.055188</td>\n",
              "      <td>0.069857</td>\n",
              "      <td>0.563969</td>\n",
              "      <td>0.615852</td>\n",
              "      <td>1.000000</td>\n",
              "    </tr>\n",
              "  </tbody>\n",
              "</table>\n",
              "</div>\n",
              "      <button class=\"colab-df-convert\" onclick=\"convertToInteractive('df-9b205978-2609-42b2-b016-529d084695a1')\"\n",
              "              title=\"Convert this dataframe to an interactive table.\"\n",
              "              style=\"display:none;\">\n",
              "        \n",
              "  <svg xmlns=\"http://www.w3.org/2000/svg\" height=\"24px\"viewBox=\"0 0 24 24\"\n",
              "       width=\"24px\">\n",
              "    <path d=\"M0 0h24v24H0V0z\" fill=\"none\"/>\n",
              "    <path d=\"M18.56 5.44l.94 2.06.94-2.06 2.06-.94-2.06-.94-.94-2.06-.94 2.06-2.06.94zm-11 1L8.5 8.5l.94-2.06 2.06-.94-2.06-.94L8.5 2.5l-.94 2.06-2.06.94zm10 10l.94 2.06.94-2.06 2.06-.94-2.06-.94-.94-2.06-.94 2.06-2.06.94z\"/><path d=\"M17.41 7.96l-1.37-1.37c-.4-.4-.92-.59-1.43-.59-.52 0-1.04.2-1.43.59L10.3 9.45l-7.72 7.72c-.78.78-.78 2.05 0 2.83L4 21.41c.39.39.9.59 1.41.59.51 0 1.02-.2 1.41-.59l7.78-7.78 2.81-2.81c.8-.78.8-2.07 0-2.86zM5.41 20L4 18.59l7.72-7.72 1.47 1.35L5.41 20z\"/>\n",
              "  </svg>\n",
              "      </button>\n",
              "      \n",
              "  <style>\n",
              "    .colab-df-container {\n",
              "      display:flex;\n",
              "      flex-wrap:wrap;\n",
              "      gap: 12px;\n",
              "    }\n",
              "\n",
              "    .colab-df-convert {\n",
              "      background-color: #E8F0FE;\n",
              "      border: none;\n",
              "      border-radius: 50%;\n",
              "      cursor: pointer;\n",
              "      display: none;\n",
              "      fill: #1967D2;\n",
              "      height: 32px;\n",
              "      padding: 0 0 0 0;\n",
              "      width: 32px;\n",
              "    }\n",
              "\n",
              "    .colab-df-convert:hover {\n",
              "      background-color: #E2EBFA;\n",
              "      box-shadow: 0px 1px 2px rgba(60, 64, 67, 0.3), 0px 1px 3px 1px rgba(60, 64, 67, 0.15);\n",
              "      fill: #174EA6;\n",
              "    }\n",
              "\n",
              "    [theme=dark] .colab-df-convert {\n",
              "      background-color: #3B4455;\n",
              "      fill: #D2E3FC;\n",
              "    }\n",
              "\n",
              "    [theme=dark] .colab-df-convert:hover {\n",
              "      background-color: #434B5C;\n",
              "      box-shadow: 0px 1px 3px 1px rgba(0, 0, 0, 0.15);\n",
              "      filter: drop-shadow(0px 1px 2px rgba(0, 0, 0, 0.3));\n",
              "      fill: #FFFFFF;\n",
              "    }\n",
              "  </style>\n",
              "\n",
              "      <script>\n",
              "        const buttonEl =\n",
              "          document.querySelector('#df-9b205978-2609-42b2-b016-529d084695a1 button.colab-df-convert');\n",
              "        buttonEl.style.display =\n",
              "          google.colab.kernel.accessAllowed ? 'block' : 'none';\n",
              "\n",
              "        async function convertToInteractive(key) {\n",
              "          const element = document.querySelector('#df-9b205978-2609-42b2-b016-529d084695a1');\n",
              "          const dataTable =\n",
              "            await google.colab.kernel.invokeFunction('convertToInteractive',\n",
              "                                                     [key], {});\n",
              "          if (!dataTable) return;\n",
              "\n",
              "          const docLinkHtml = 'Like what you see? Visit the ' +\n",
              "            '<a target=\"_blank\" href=https://colab.research.google.com/notebooks/data_table.ipynb>data table notebook</a>'\n",
              "            + ' to learn more about interactive tables.';\n",
              "          element.innerHTML = '';\n",
              "          dataTable['output_type'] = 'display_data';\n",
              "          await google.colab.output.renderOutput(dataTable, element);\n",
              "          const docLink = document.createElement('div');\n",
              "          docLink.innerHTML = docLinkHtml;\n",
              "          element.appendChild(docLink);\n",
              "        }\n",
              "      </script>\n",
              "    </div>\n",
              "  </div>\n",
              "  "
            ]
          },
          "metadata": {},
          "execution_count": 34
        }
      ]
    },
    {
      "cell_type": "code",
      "source": [
        "#Removing avg subjectivity and avg readability\n",
        "X = X.drop(columns=['avg_subjectivity', 'avg_readablity'])\n"
      ],
      "metadata": {
        "id": "OgSFgNsLmwP3"
      },
      "execution_count": null,
      "outputs": []
    },
    {
      "cell_type": "code",
      "source": [
        "# implementing the regression\n",
        "from sklearn.model_selection import train_test_split\n",
        "\n",
        "X_trainZM, X_testZM, y_trainZM, y_testZM = train_test_split(X, y, test_size=0.2, random_state=0)"
      ],
      "metadata": {
        "id": "WgyQ4or0nbNI"
      },
      "execution_count": 38,
      "outputs": []
    },
    {
      "cell_type": "code",
      "source": [
        "#Fit a Logistic Regression\n",
        "import statsmodels.api as sm\n",
        "log_regZM = sm.Logit(y_trainZM, X_trainZM).fit()\n",
        "\n",
        "print(log_regZM.summary())"
      ],
      "metadata": {
        "colab": {
          "base_uri": "https://localhost:8080/",
          "height": 0
        },
        "id": "JIQUrx-4oDD-",
        "outputId": "fcf406be-515d-4cbf-e1eb-2927121cb464"
      },
      "execution_count": 39,
      "outputs": [
        {
          "output_type": "stream",
          "name": "stdout",
          "text": [
            "Optimization terminated successfully.\n",
            "         Current function value: 0.653265\n",
            "         Iterations 5\n",
            "                           Logit Regression Results                           \n",
            "==============================================================================\n",
            "Dep. Variable:             popularity   No. Observations:                  799\n",
            "Model:                          Logit   Df Residuals:                      790\n",
            "Method:                           MLE   Df Model:                            8\n",
            "Date:                Wed, 22 Feb 2023   Pseudo R-squ.:                 0.05751\n",
            "Time:                        00:58:05   Log-Likelihood:                -521.96\n",
            "converged:                       True   LL-Null:                       -553.81\n",
            "Covariance Type:            nonrobust   LLR p-value:                 8.716e-11\n",
            "==================================================================================\n",
            "                     coef    std err          z      P>|z|      [0.025      0.975]\n",
            "----------------------------------------------------------------------------------\n",
            "entity_id         -0.0003      0.000     -1.054      0.292      -0.001       0.000\n",
            "price              0.1428      0.135      1.058      0.290      -0.122       0.407\n",
            "exotic            -0.8189      0.170     -4.825      0.000      -1.152      -0.486\n",
            "avg_length         0.0068      0.003      2.398      0.016       0.001       0.012\n",
            "avg_negativity     0.6845      2.263      0.303      0.762      -3.750       5.119\n",
            "avg_positivity    -4.4584      1.086     -4.106      0.000      -6.586      -2.330\n",
            "useful             0.0174      0.241      0.072      0.942      -0.455       0.490\n",
            "funny              0.6162      0.211      2.918      0.004       0.202       1.030\n",
            "cool              -0.0973      0.214     -0.454      0.650      -0.517       0.323\n",
            "==================================================================================\n"
          ]
        }
      ]
    },
    {
      "cell_type": "code",
      "source": [
        "#Interpret Useful Coefficient\n",
        "#The coefficient of .0174 indicates that for each additional unit of the predictor variable (useful), the outcome variable (popularity) is expected to increase by .0174 units. Therefore, a higher number of useful reviews will likely lead to higher popularity."
      ],
      "metadata": {
        "id": "SybPE62soKMw"
      },
      "execution_count": 40,
      "outputs": []
    },
    {
      "cell_type": "code",
      "source": [
        "#Model Eval\n",
        "from sklearn.metrics import confusion_matrix, accuracy_score, ConfusionMatrixDisplay\n",
        "prediction_probZM = log_regZM.predict(X)\n",
        "predictionZM=list(map(round,prediction_probZM))\n",
        "cm= confusion_matrix(y,predictionZM)\n",
        "disp=ConfusionMatrixDisplay(confusion_matrix=cm)\n",
        "disp.plot()\n",
        "\n",
        "accuracy_score(y,predictionZM)"
      ],
      "metadata": {
        "colab": {
          "base_uri": "https://localhost:8080/",
          "height": 297
        },
        "id": "HJwo83jHoTRU",
        "outputId": "c9da2b95-20eb-44cf-8bef-5fa2fdc37ea2"
      },
      "execution_count": 41,
      "outputs": [
        {
          "output_type": "execute_result",
          "data": {
            "text/plain": [
              "0.6206206206206206"
            ]
          },
          "metadata": {},
          "execution_count": 41
        },
        {
          "output_type": "display_data",
          "data": {
            "text/plain": [
              "<Figure size 432x288 with 2 Axes>"
            ],
            "image/png": "[encoded data removed]"
          },
          "metadata": {
            "needs_background": "light"
          }
        }
      ]
    },
    {
      "cell_type": "code",
      "source": [
        "#model eval - roc curve\n",
        "from sklearn.metrics import roc_curve, roc_auc_score\n",
        "\n",
        "lr_aucZM = roc_auc_score(y,prediction_probZM)\n",
        "print('Log: ROC AUC =%.3f'% (lr_aucZM))\n",
        "\n",
        "lr_fpr, lr_tpr, threshold = roc_curve(y, prediction_probZM)\n",
        "plt.plot(lr_fpr, lr_tpr, marker='.')\n",
        "plt.xlabel('FP Rate')\n",
        "plt.ylabel('TP Rate')\n",
        "plt.show()"
      ],
      "metadata": {
        "colab": {
          "base_uri": "https://localhost:8080/",
          "height": 297
        },
        "id": "a_zoIXg3oaTH",
        "outputId": "dc6b433b-ca24-412b-c45b-a01414c2c146"
      },
      "execution_count": 42,
      "outputs": [
        {
          "output_type": "stream",
          "name": "stdout",
          "text": [
            "Log: ROC AUC =0.657\n"
          ]
        },
        {
          "output_type": "display_data",
          "data": {
            "text/plain": [
              "<Figure size 432x288 with 1 Axes>"
            ],
            "image/png": "[encoded data removed]"
          },
          "metadata": {
            "needs_background": "light"
          }
        }
      ]
    },
    {
      "cell_type": "code",
      "source": [
        "#Plotting the tree\n",
        "from sklearn.tree import DecisionTreeClassifier\n",
        "from sklearn import tree\n",
        "from sklearn.tree import export_text\n",
        "\n",
        "dtreeZM = tree.DecisionTreeClassifier(max_depth = 4, min_samples_split=30, random_state = 0)\n",
        "dtreeZM = dtreeZM.fit(X_trainZM, y_trainZM)\n",
        "\n"
      ],
      "metadata": {
        "id": "pTeaFY_9oihd"
      },
      "execution_count": 48,
      "outputs": []
    },
    {
      "cell_type": "code",
      "source": [
        "#decision tree in test\n",
        "\n",
        "r = export_text(dtreeZM, feature_names=list(X_trainZM.columns.values))\n",
        "print(r)"
      ],
      "metadata": {
        "colab": {
          "base_uri": "https://localhost:8080/",
          "height": 0
        },
        "id": "KZbLs6ZTpoGd",
        "outputId": "778a3ef8-7204-4274-ff29-9d8d43951a57"
      },
      "execution_count": 49,
      "outputs": [
        {
          "output_type": "stream",
          "name": "stdout",
          "text": [
            "|--- avg_negativity <= 0.03\n",
            "|   |--- entity_id <= 615.50\n",
            "|   |   |--- avg_length <= 100.92\n",
            "|   |   |   |--- entity_id <= 530.50\n",
            "|   |   |   |   |--- class: 0\n",
            "|   |   |   |--- entity_id >  530.50\n",
            "|   |   |   |   |--- class: 1\n",
            "|   |   |--- avg_length >  100.92\n",
            "|   |   |   |--- class: 1\n",
            "|   |--- entity_id >  615.50\n",
            "|   |   |--- avg_positivity <= 0.19\n",
            "|   |   |   |--- class: 0\n",
            "|   |   |--- avg_positivity >  0.19\n",
            "|   |   |   |--- entity_id <= 938.50\n",
            "|   |   |   |   |--- class: 0\n",
            "|   |   |   |--- entity_id >  938.50\n",
            "|   |   |   |   |--- class: 1\n",
            "|--- avg_negativity >  0.03\n",
            "|   |--- exotic <= 0.50\n",
            "|   |   |--- avg_length <= 86.39\n",
            "|   |   |   |--- avg_positivity <= 0.29\n",
            "|   |   |   |   |--- class: 1\n",
            "|   |   |   |--- avg_positivity >  0.29\n",
            "|   |   |   |   |--- class: 0\n",
            "|   |   |--- avg_length >  86.39\n",
            "|   |   |   |--- funny <= 0.50\n",
            "|   |   |   |   |--- class: 1\n",
            "|   |   |   |--- funny >  0.50\n",
            "|   |   |   |   |--- class: 1\n",
            "|   |--- exotic >  0.50\n",
            "|   |   |--- avg_length <= 106.79\n",
            "|   |   |   |--- entity_id <= 758.50\n",
            "|   |   |   |   |--- class: 0\n",
            "|   |   |   |--- entity_id >  758.50\n",
            "|   |   |   |   |--- class: 1\n",
            "|   |   |--- avg_length >  106.79\n",
            "|   |   |   |--- avg_length <= 116.97\n",
            "|   |   |   |   |--- class: 1\n",
            "|   |   |   |--- avg_length >  116.97\n",
            "|   |   |   |   |--- class: 0\n",
            "\n"
          ]
        }
      ]
    },
    {
      "cell_type": "code",
      "source": [
        "#fit a decision tree with max_depth argument\n",
        "for d in max_depth_list:\n",
        "    dtreeZM = DecisionTreeClassifier(max_depth=d)\n",
        "    dtreeZM.fit(X_trainZM, y_trainZM)\n",
        "    cv_scores.append(dtreeZM.score(X_testZM, y_testZM))\n",
        "\n",
        "#find the best pruned max_depth\n",
        "best_depth = max_depth_list[cv_scores.index(max(cv_scores))]\n",
        "print('The optimal max_depth argument is:', best_depth)"
      ],
      "metadata": {
        "colab": {
          "base_uri": "https://localhost:8080/",
          "height": 0
        },
        "id": "O_v2iBozp51b",
        "outputId": "390d1851-dd21-43f8-d6de-cb33f7381cef"
      },
      "execution_count": 50,
      "outputs": [
        {
          "output_type": "stream",
          "name": "stdout",
          "text": [
            "The optimal max_depth argument is: 2\n"
          ]
        }
      ]
    },
    {
      "cell_type": "code",
      "source": [
        "from sklearn.tree import plot_tree\n",
        "# Calculate the accuracy of the best pruned model on the test data\n",
        "best_score = dtreeZM.score(X_testZM, y_testZM)\n",
        "\n",
        "# Visualize the best pruned model\n",
        "plot_tree(dtreeZM, feature_names=list(X_trainZM.columns.values))\n",
        "\n",
        "# Determine the top three most important predictors in the model\n",
        "feature_importances = dtreeZM.feature_importances_\n",
        "sorted_indices = np.argsort(feature_importances)[::-1]\n",
        "top_three_features = [list(X_trainZM.columns.values)[i] for i in sorted_indices[:3]]\n",
        "print('The top three most important predictors in the model are:', top_three_features)"
      ],
      "metadata": {
        "colab": {
          "base_uri": "https://localhost:8080/",
          "height": 266
        },
        "id": "NTyRAxqgp_NH",
        "outputId": "14ad07fb-ea2d-40b2-810a-4dcb13778473"
      },
      "execution_count": 52,
      "outputs": [
        {
          "output_type": "stream",
          "name": "stdout",
          "text": [
            "The top three most important predictors in the model are: ['entity_id', 'avg_length', 'avg_negativity']\n"
          ]
        },
        {
          "output_type": "display_data",
          "data": {
            "text/plain": [
              "<Figure size 432x288 with 1 Axes>"
            ],
            "image/png": "[encoded data removed]"
          },
          "metadata": {
            "needs_background": "light"
          }
        }
      ]
    },
    {
      "cell_type": "code",
      "source": [
        "# Calculate the accuracy of the model on the test data\n",
        "accuracy_dt_ZM = dtreeZM.score(X_testZM, y_testZM)\n",
        "\n",
        "# Calculate the AUC of the model on the test data\n",
        "y_pred_dtZM = dtreeZM.predict_proba(X_testZM)[:,1]\n",
        "auc_dt = roc_auc_score(y_testZM, y_pred_dtZM)"
      ],
      "metadata": {
        "id": "i8Eg4LqQr3W5"
      },
      "execution_count": 57,
      "outputs": []
    },
    {
      "cell_type": "code",
      "source": [
        "print(accuracy_dt_ZM)"
      ],
      "metadata": {
        "colab": {
          "base_uri": "https://localhost:8080/",
          "height": 0
        },
        "id": "iPBW8Q4ir68W",
        "outputId": "180c2311-ce22-48a1-b718-af3da82fdaf3"
      },
      "execution_count": 59,
      "outputs": [
        {
          "output_type": "stream",
          "name": "stdout",
          "text": [
            "0.545\n"
          ]
        }
      ]
    },
    {
      "cell_type": "code",
      "source": [
        "print(auc_dt)"
      ],
      "metadata": {
        "colab": {
          "base_uri": "https://localhost:8080/",
          "height": 0
        },
        "id": "3bJkZQrRsTbq",
        "outputId": "b3eaa20d-553b-47fc-b452-1ac461d8432f"
      },
      "execution_count": 60,
      "outputs": [
        {
          "output_type": "stream",
          "name": "stdout",
          "text": [
            "0.548969587835134\n"
          ]
        }
      ]
    }
  ]
}